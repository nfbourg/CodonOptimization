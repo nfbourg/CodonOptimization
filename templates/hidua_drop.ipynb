{
 "cells": [
  {
   "cell_type": "markdown",
   "metadata": {},
   "source": [
    "# Imports\n"
   ]
  },
  {
   "cell_type": "code",
   "execution_count": 1,
   "metadata": {},
   "outputs": [
    {
     "name": "stderr",
     "output_type": "stream",
     "text": [
      "Using TensorFlow backend.\n"
     ]
    }
   ],
   "source": [
    "import os\n",
    "cwd = os.getcwd()\n",
    "\n",
    "## Import the code for codon opt\n",
    "import sys\n",
    "sys.path.insert(1, '/grid/home/nbourgeois/codonOpt')\n",
    "from run_pygad import *\n",
    "from general_functions import *\n",
    "\n",
    "os.chdir(cwd)\n"
   ]
  },
  {
   "cell_type": "markdown",
   "metadata": {},
   "source": [
    "# Variables"
   ]
  },
  {
   "cell_type": "code",
   "execution_count": 2,
   "metadata": {},
   "outputs": [
    {
     "data": {
      "application/vnd.jupyter.widget-view+json": {
       "model_id": "8046670fb9f7477886be8e2bc0b7331d",
       "version_major": 2,
       "version_minor": 0
      },
      "text/plain": [
       "Dropdown(description='Tissue:', index=53, options=('Adipose_Subcutaneous', 'Adipose_Visceral_Omentum', 'Adrena…"
      ]
     },
     "metadata": {},
     "output_type": "display_data"
    }
   ],
   "source": [
    "ga_input = '/grid/home/nbourgeois/data/test_proteins/hidua/hidua.pep.fas' #sequence pep.fas Input\n",
    "output = '' #output filename\n",
    "dropdown = tissue_opt(pygad_loc) # Tissue type for CoCoPuts\n",
    "\n",
    "filename = 'test'\n",
    "dropdown"
   ]
  },
  {
   "cell_type": "markdown",
   "metadata": {},
   "source": [
    "## Metrics"
   ]
  },
  {
   "cell_type": "code",
   "execution_count": 3,
   "metadata": {},
   "outputs": [],
   "source": [
    "cai_on = True\n",
    "bai_on = True\n",
    "cpg_on = True\n",
    "pas_on = False # PolyA\n",
    "sps_on = False # Splicing\n"
   ]
  },
  {
   "cell_type": "markdown",
   "metadata": {},
   "source": [
    "# Data"
   ]
  },
  {
   "cell_type": "code",
   "execution_count": 4,
   "metadata": {},
   "outputs": [],
   "source": [
    "(keys, seqs) = readFasta(ga_input)\n",
    "if len(seqs) == 1:\n",
    "    aa_seq=str(seqs[0])\n",
    "tissue = dropdown.value\n"
   ]
  },
  {
   "cell_type": "markdown",
   "metadata": {},
   "source": [
    "# Genetic Algorithm"
   ]
  },
  {
   "cell_type": "code",
   "execution_count": 5,
   "metadata": {},
   "outputs": [
    {
     "name": "stdout",
     "output_type": "stream",
     "text": [
      "Start Time: 15:23:32\n",
      "Generation: 100\n",
      "Time Passed: 36.641886472702026 seconds\n",
      "\n",
      "CPU times: user 32.5 s, sys: 655 ms, total: 33.2 s\n",
      "Wall time: 37.4 s\n"
     ]
    }
   ],
   "source": [
    "%%time \n",
    "\n",
    "prefix=filename\n",
    "aa_seq=aa_seq\n",
    "tissue=tissue\n",
    "ga = run_GA(aa_seq, \n",
    "        tissue, \n",
    "        generations=100,\n",
    "        cai_on = True, \n",
    "        bai_on = True, \n",
    "        cpg_on = True,\n",
    "        threads=10)\n"
   ]
  },
  {
   "cell_type": "code",
   "execution_count": 6,
   "metadata": {
    "scrolled": true
   },
   "outputs": [
    {
     "name": "stdout",
     "output_type": "stream",
     "text": [
      "NT Sequence of the best solution : ATGAGACCACTCAGGCCTAGAGCTGCACTCTTGGCATTACTTGCTTCTCTGCTGGCTGCACCTCCAGTAGCCCCTGCAGAAGCTCCTCACCTGGTTCATGTGGATGCAGCCAGGGCCCTTTGGCCCTTGAGAAGATTTTGGAGATCAACCGGATTTTGCCCGCCTCTGCCACACTCTCAGGCAGATCAATATGTCCTGTCTTGGGACCAGCAGCTGAATCTCGCATATGTGGGAGCAGTTCCTCACAGGGGAATCAAACAGGTAAGGACCCACTGGCTTCTTGAACTCGTAACTACAAGGGGCAGCACAGGAAGGGGCCTCTCATACAATTTCACCCATCTAGATGGATACCTGGACCTCCTCAGAGAAAACCAATTACTACCGGGCTTTGAACTTATGGGCTCAGCCTCTGGCCACTTTACTGACTTTGAAGATAAGCAGCAGGTATTTGAATGGAAAGACTTAGTAAGTTCCTTGGCTAGGAGATACATAGGCCGCTATGGACTAGCCCATGTTTCTAAGTGGAACTTTGAAACCTGGAATGAACCTGATCATCATGATTTTGATAATGTCTCAATGACTATGCAGGGATTTCTGAACTATTATGATGCATGTAGTGAAGGACTTAGAGCAGCCAGTCCTGCACTCCGTCTGGGTGGACCTGGGGACAGCTTCCATACCCCCCCCAGAAGTCCTCTTTCATGGGGCTTGCTGAGACACTGTCACGATGGAACAAATTTCTTTACTGGAGAAGCTGGAGTTAGACTAGACTACATTAGCTTACACAGGAAAGGGGCTAGGTCATCAATAAGTATCCTTGAGCAAGAAAAAGTAGTGGCTCAACAAATAAGACAGCTTTTTCCCAAATTTGCAGATACACCCATCTATAATGATGAAGCCGATCCTCTAGTGGGTTGGAGCTTACCTCAGCCTTGGAGAGCAGATGTCACATATGCAGCCATGGTAGTGAAAGTAATAGCACAGCATCAAAACTTACTCCTTGCTAATACAACCTCTGCTTTCCCCTATGCACTTCTCAGCAATGACAATGCCTTTCTGTCCTACCATCCCCACCCATTCGCACAGAGGACCTTAACAGCAAGATTTCAAGTTAATAATACTAGGCCCCCCCATGTGCAACTTCTCAGGAAGCCCGTTCTTACAGCCATGGGCCTCCTTGCACTACTAGATGAAGAACAGTTATGGGCTGAAGTCAGTCAAGCAGGCACAGTTCTGGATTCGAATCACACAGTTGGAGTTCTAGCATCCGCCCATAGGCCACAAGGGCCAGCAGATGCCTGGAGAGCTGCTGTGCTTATCTACGCCTCAGATGACACCAGAGCTCACCCTAACAGGAGTGTGGCTGTTACCTTAAGACTTCGAGGGGTGCCACCTGGACCTGGGCTAGTGTATGTAACCCGATATCTTGATAATGGATTATGCAGTCCTGATGGAGAATGGAGAAGGCTAGGAAGACCTGTGTTCCCAACTGCTGAGCAGTTCAGAAGAATGAGAGCAGCAGAGGACCCAGTTGCTGCTGCACCCAGGCCCCTTCCAGCTGGCGGTCGCCTTACCCTCAGACCAGCTCTGAGACTTCCAAGTCTTTTGCTGGTTCATGTATGTGCCAGACCGGAAAAGCCGCCTGGACAGGTCACAAGACTCAGGGCTCTTCCCTTAACACAAGGTCAACTGGTTCTTGTTTGGTCTGATGAACATGTAGGGTCAAAGTGCCTGTGGACATATGAAATCCAATTCAGTCAAGATGGTAAAGCATATACACCTGTATCCAGAAAACCTTCGACTTTCAACCTATTTGTGTTCTCTCCTGATACAGGTGCTGTGTCTGGCTCATACAGAGTGAGGGCTCTAGATTACTGGGCCAGACCTGGTCCCTTTTCAGACCCCGTTCCCTATCTTGAAGTTCCAGTCCCCCGGGGACCCCCTTCACCTGGCAACCCATAA\n",
      "Fitness value of the best solution = 0.37273251254901923\n",
      "Index of the best solution : 0\n",
      "Best fitness value reached after 96 generations.\n"
     ]
    }
   ],
   "source": [
    "# Returning the details of the best solution.\n",
    "solution, solution_fitness, solution_idx = ga.best_solution()\n",
    "seq_aa = ''.join([ga.codon_to_int[x] for x in solution])\n",
    "print(\"NT Sequence of the best solution : {seq_aa}\".format(seq_aa=seq_aa))\n",
    "print(\"Fitness value of the best solution = {solution_fitness}\".format(solution_fitness=solution_fitness))\n",
    "print(\"Index of the best solution : {solution_idx}\".format(solution_idx=solution_idx))\n",
    "\n",
    "if ga.best_solution_generation != -1:\n",
    "    print(\"Best fitness value reached after {best_solution_generation} generations.\".format(best_solution_generation=ga.best_solution_generation))"
   ]
  },
  {
   "cell_type": "code",
   "execution_count": null,
   "metadata": {},
   "outputs": [],
   "source": []
  }
 ],
 "metadata": {
  "kernelspec": {
   "display_name": "Python (codon)",
   "language": "python",
   "name": "bfx-codon"
  },
  "language_info": {
   "codemirror_mode": {
    "name": "ipython",
    "version": 3
   },
   "file_extension": ".py",
   "mimetype": "text/x-python",
   "name": "python",
   "nbconvert_exporter": "python",
   "pygments_lexer": "ipython3",
   "version": "3.7.11"
  }
 },
 "nbformat": 4,
 "nbformat_minor": 4
}
