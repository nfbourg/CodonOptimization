{
 "cells": [
  {
   "cell_type": "markdown",
   "metadata": {},
   "source": [
    "# Variables"
   ]
  },
  {
   "cell_type": "code",
   "execution_count": 1,
   "metadata": {},
   "outputs": [],
   "source": [
    "ga_input = '/grid/home/nbourgeois/data/test_proteins/hidua/hidua.pep.fas' #sequence pep.fas Input\n",
    "tissue = 'Brain_Cerebellum' # Tissue type for CoCoPuts\n",
    "filename = 'hidua_test'"
   ]
  },
  {
   "cell_type": "markdown",
   "metadata": {},
   "source": [
    "# Imports\n"
   ]
  },
  {
   "cell_type": "code",
   "execution_count": null,
   "metadata": {},
   "outputs": [],
   "source": [
    "import os\n",
    "cwd = os.getcwd()\n",
    "\n",
    "## Import the code for codon opt\n",
    "import sys\n",
    "sys.path.insert(1, '/grid/home/nbourgeois/codonOpt')\n",
    "from run_pygad import *\n",
    "from general_functions import *"
   ]
  },
  {
   "cell_type": "markdown",
   "metadata": {},
   "source": [
    "## Metrics"
   ]
  },
  {
   "cell_type": "code",
   "execution_count": null,
   "metadata": {},
   "outputs": [],
   "source": [
    "cai_on = True\n",
    "bai_on = True\n",
    "cpg_on = True\n",
    "pas_on = False # PolyA\n",
    "sps_on = False # Splicing\n"
   ]
  },
  {
   "cell_type": "markdown",
   "metadata": {},
   "source": [
    "# Data"
   ]
  },
  {
   "cell_type": "code",
   "execution_count": null,
   "metadata": {},
   "outputs": [],
   "source": [
    "(keys, seqs) = readFasta(ga_input)\n",
    "if len(seqs) == 1:\n",
    "    aa_seq=str(seqs[0])"
   ]
  },
  {
   "cell_type": "markdown",
   "metadata": {},
   "source": [
    "# Genetic Algorithm"
   ]
  },
  {
   "cell_type": "code",
   "execution_count": null,
   "metadata": {},
   "outputs": [
    {
     "name": "stdout",
     "output_type": "stream",
     "text": [
      "CPU times: user 4min 59s, sys: 5.15 s, total: 5min 4s\n",
      "Wall time: 5min 24s\n"
     ]
    }
   ],
   "source": [
    "%%time \n",
    "\n",
    "prefix=filename\n",
    "aa_seq=aa_seq\n",
    "tissue=tissue\n",
    "ga = run_GA(aa_seq, \n",
    "        tissue, \n",
    "        generations=100,\n",
    "        cai_on = True, \n",
    "        bai_on = True, \n",
    "        cpg_on = True,\n",
    "        threads=10)\n"
   ]
  },
  {
   "cell_type": "code",
   "execution_count": null,
   "metadata": {
    "scrolled": true
   },
   "outputs": [
    {
     "name": "stdout",
     "output_type": "stream",
     "text": [
      "NT Sequence of the best solution : ATGAGGCCTCTGAGGCCCAGAGCCGCCCTGCTGGCCCTGCTGGCCAGCCTGCTGGCAGCTCCTCCCGTGGCCCCCGCAGAGGCTCCCCACCTGGTGCACGTGGATGCCGCTCGAGCCCTTTGGCCTCTGAGACGCTTCTGGCGGTCAACCGGCTTCTGTCCCCCTCTTCCACACAGCCAAGCAGATCAGTACGTGCTGAGCTGGGATCAGCAGCTGAACCTGGCCTATGTAGGGGCCGTCCCACATAGGGGGATCAAGCAGGTGCGGACCCACTGGCTGCTGGAGCTGGTGACTACCCGTGGCTCAACAGGGCGGGGGCTGTCCTACAATTTTACCCACTTGGACGGATACCTGGACCTGCTGCGGGAGAACCAGCTGCTGCCTGGCTTTGAGCTGATGGGATCTGCGTCTGGCCACTTCACAGACTTCGAGGACAAGCAGCAGGTGTTCGAATGGAAAGATCTTGTCAGCAGCCTGGCCAGGAGGTACATCGGCCGGTACGGTCTGGCCCATGTGAGCAAATGGAACTTTGAGACCTGGAATGAGCCTGACCACCACGACTTCGACAATGTGTCCATGACGATGCAGGGTTTCCTGAATTACTACGATGCATGCTCTGAGGGCCTCAGAGCCGCCTCCCCAGCCCTGAGGCTGGGCGGCCCGGGAGACTCCTTCCACACCCCACCCCGCAGCCCCCTGAGTTGGGGCCTGCTGCGGCACTGCCACGACGGGACCAATTTCTTCACCGGCGAGGCTGGGGTGAGGCTGGACTACATCTCCCTGCACAGGAAGGGGGCCCGCAGCAGCATCAGCATCCTGGAGCAGGAGAAAGTGGTGGCCCAGCAGATCAGGCAGCTGTTCCCTAAGTTCGCTGACACCCCCATCTACAATGATGAGGCTGATCCGCTGGTGGGGTGGAGCCTGCCCCAGCCCTGGCGGGCTGACGTGACTTACGCCGCTATGGTGGTGAAAGTGATTGCCCAGCATCAGAACCTGCTGCTGGCCAATACAACTAGCGCCTTTCCCTATGCCCTGCTGAGCAATGACAACGCCTTCCTATCATATCACCCTCACCCTTTTGCTCAGAGGACCCTGACTGCTCGATTCCAGGTGAACAACACCAGGCCACCCCACGTGCAACTGCTGAGAAAGCCCGTGCTGACCGCCATGGGCCTGTTGGCCCTGCTGGATGAGGAACAGCTGTGGGCTGAAGTGTCCCAGGCAGGCACGGTGCTGGACTCCAATCACACTGTGGGTGTGCTGGCCAGCGCCCACAGACCCCAGGGCCCTGCAGACGCCTGGAGGGCAGCAGTGCTGATTTATGCCTCTGATGACACCCGGGCCCACCCCAACCGCTCCGTGGCTGTGACTCTGCGGCTGAGGGGGGTTCCACCGGGGCCTGGCCTGGTTTATGTGACTAGATATCTCGACAATGGGCTGTGCAGCCCGGATGGAGAATGGCGCCGGCTGGGGAGGCCAGTCTTCCCCACTGCAGAGCAGTTCCGGCGGATGAGGGCTGCAGAGGATCCTGTGGCAGCAGCCCCACGGCCCCTGCCTGCTGGTGGCCGGCTGACTCTCCGTCCAGCCCTGCGGCTGCCCTCACTGCTCTTGGTGCATGTGTGTGCCAGGCCTGAGAAACCACCAGGCCAGGTGACCAGGCTGAGGGCCCTCCCCCTTACTCAGGGGCAGCTGGTGCTGGTCTGGTCTGATGAACACGTGGGCAGCAAGTGCCTGTGGACCTACGAGATCCAGTTCAGCCAGGACGGGAAGGCCTACACCCCAGTGTCCCGCAAGCCCAGCACCTTCAATCTGTTTGTGTTCAGCCCCGACACTGGGGCCGTGTCTGGATCCTACCGGGTGAGAGCCCTGGACTACTGGGCAAGACCAGGCCCCTTTTCTGACCCCGTGCCCTACCTGGAGGTCCCTGTGCCCAGAGGCCCTCCATCCCCTGGCAACCCTTAG\n",
      "Fitness value of the best solution = 0.7900933107407218\n",
      "Index of the best solution : 0\n",
      "Best fitness value reached after 983 generations.\n"
     ]
    }
   ],
   "source": [
    "# Returning the details of the best solution.\n",
    "solution, solution_fitness, solution_idx = ga.best_solution()\n",
    "seq_aa = ''.join([ga.codon_to_int[x] for x in solution])\n",
    "print(\"NT Sequence of the best solution : {seq_aa}\".format(seq_aa=seq_aa))\n",
    "print(\"Fitness value of the best solution = {solution_fitness}\".format(solution_fitness=solution_fitness))\n",
    "print(\"Index of the best solution : {solution_idx}\".format(solution_idx=solution_idx))\n",
    "\n",
    "if ga.best_solution_generation != -1:\n",
    "    print(\"Best fitness value reached after {best_solution_generation} generations.\".format(best_solution_generation=ga.best_solution_generation))"
   ]
  }
 ],
 "metadata": {
  "kernelspec": {
   "display_name": "Python 3 (GPU)",
   "language": "python",
   "name": "bfx-gpu"
  },
  "language_info": {
   "codemirror_mode": {
    "name": "ipython",
    "version": 3
   },
   "file_extension": ".py",
   "mimetype": "text/x-python",
   "name": "python",
   "nbconvert_exporter": "python",
   "pygments_lexer": "ipython3",
   "version": "3.7.11"
  }
 },
 "nbformat": 4,
 "nbformat_minor": 4
}
