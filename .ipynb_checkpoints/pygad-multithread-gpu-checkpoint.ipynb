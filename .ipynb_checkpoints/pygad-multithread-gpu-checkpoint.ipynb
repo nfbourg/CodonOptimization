{
 "cells": [
  {
   "cell_type": "markdown",
   "metadata": {
    "scrolled": true
   },
   "source": [
    "# Imports"
   ]
  },
  {
   "cell_type": "markdown",
   "metadata": {},
   "source": [
    "## PyGAD"
   ]
  },
  {
   "cell_type": "code",
   "execution_count": 1,
   "metadata": {},
   "outputs": [],
   "source": [
    "import pygad\n",
    "import numpy\n",
    "\n",
    "import os\n",
    "import sys\n",
    "import Bio\n",
    "import pandas as pd\n",
    "\n",
    "import os\n"
   ]
  },
  {
   "cell_type": "markdown",
   "metadata": {},
   "source": [
    "## spliceAI"
   ]
  },
  {
   "cell_type": "code",
   "execution_count": 2,
   "metadata": {},
   "outputs": [
    {
     "name": "stderr",
     "output_type": "stream",
     "text": [
      "Using TensorFlow backend.\n"
     ]
    }
   ],
   "source": [
    "import getopt\n",
    "import sys\n",
    "from keras.models import load_model\n",
    "from tensorflow import keras\n",
    "import tensorflow as tf\n",
    "from pkg_resources import resource_filename\n",
    "from spliceai.utils import one_hot_encode\n",
    "import numpy as np\n",
    "from Bio import SeqIO\n",
    "import os"
   ]
  },
  {
   "cell_type": "markdown",
   "metadata": {},
   "source": [
    "# Multi-threa"
   ]
  },
  {
   "cell_type": "code",
   "execution_count": 3,
   "metadata": {},
   "outputs": [],
   "source": [
    "from multiprocessing import Pool\n",
    "import subprocess"
   ]
  },
  {
   "cell_type": "markdown",
   "metadata": {},
   "source": [
    "# CAI"
   ]
  },
  {
   "cell_type": "code",
   "execution_count": 4,
   "metadata": {},
   "outputs": [],
   "source": [
    "import time\n",
    "import hashlib\n"
   ]
  },
  {
   "cell_type": "markdown",
   "metadata": {},
   "source": [
    "# BAI"
   ]
  },
  {
   "cell_type": "code",
   "execution_count": 5,
   "metadata": {},
   "outputs": [],
   "source": [
    "my_env = os.environ.copy()\n",
    "my_env[\"PATH\"] = \"/data/software/anaconda3/envs/bfx/lib/perl5/site_perl/5.22.0:/data/software/anaconda3/pkgs/texlive-selected-20160715-1/share/texlive/tlpkg:\" + my_env[\"PATH\"]\n"
   ]
  },
  {
   "cell_type": "code",
   "execution_count": 6,
   "metadata": {},
   "outputs": [],
   "source": [
    "def readFasta( fastaFile: str ):\n",
    "    fastaId = ''\n",
    "    fastaSeq = ''\n",
    "    if os.path.exists( fastaFile ):\n",
    "        try:\n",
    "            with open( fastaFile, \"r\") as handle:\n",
    "                cont = 0\n",
    "                fastaIds = []\n",
    "                fastaSeqs = []\n",
    "                for record in SeqIO.parse( handle, \"fasta\"):\n",
    "                    fastaIds.append(record.id)\n",
    "                    fastaSeqs.append(record.seq)\n",
    "        except IOError as e:\n",
    "            print( \"I/O error({0}): {1}\".format(e.errno, e.strerror) )\n",
    "        except:\n",
    "            print( \"Unexpected error:\", sys.exc_info()[0] )\n",
    "    else:\n",
    "        print(\"File does not exist:\" + fastaFile )\n",
    "        exit(2)\n",
    "    return (fastaIds, fastaSeqs)\n",
    "\n",
    "\n",
    "def predictSites( fastaSeq: str ):\n",
    "    #config = tf.compat.v1.ConfigProto(intra_op_parallelism_threads=100,\n",
    "    #                        inter_op_parallelism_threads=100,\n",
    "    #                        allow_soft_placement=True,\n",
    "    #                        device_count = {'CPU': 100})\n",
    "    #session = tf.compat.v1.Session(config=config)\n",
    "    #K.set_session(session)\n",
    "    context = 10000\n",
    "    keras.backend.set_learning_phase(0)\n",
    "    paths = ('models/spliceai{}.h5'.format(x) for x in range(1, 6))\n",
    "    models = [load_model(resource_filename('spliceai', x), compile=False ) for x in paths]\n",
    "    x = one_hot_encode('N'*(context//2) + fastaSeq + 'N'*(context//2))[None, :]\n",
    "    y = np.mean([models[m].predict(x) for m in range(5)], axis=0)\n",
    "    acceptor_prob = y[0, :, 1]\n",
    "    donor_prob = y[0, :, 2]\n",
    "    coord = list( range(1, len( donor_prob ) ) )\n",
    "    return ( coord, acceptor_prob, donor_prob )\n",
    "\n",
    "def savePredictions( predictions: list, outfile: str ):\n",
    "    original_stdout = sys.stdout # Save a reference to the original standard output\n",
    "    with open( outfile, \"w\") as handle:\n",
    "        sys.stdout = handle # Change the standard output to the file we created.\n",
    "        print(\"coord\",\"acceptor_prob\",\"donor_prob\", sep=\"\\t\")\n",
    "        for row_ind in range(0,len( predictions[0]) - 1):\n",
    "            for col in predictions:\n",
    "                print( col[row_ind], end=\"\\t\" )\n",
    "            print(\"\")\n",
    "    sys.stdout = original_stdout # Reset the standard output to its original value"
   ]
  },
  {
   "cell_type": "markdown",
   "metadata": {},
   "source": [
    "# Start"
   ]
  },
  {
   "cell_type": "markdown",
   "metadata": {},
   "source": [
    "## Parameters"
   ]
  },
  {
   "cell_type": "markdown",
   "metadata": {},
   "source": [
    "### Metrics"
   ]
  },
  {
   "cell_type": "code",
   "execution_count": 7,
   "metadata": {},
   "outputs": [],
   "source": [
    "cai_on = True\n",
    "bai_on = True\n",
    "sps_on = False\n",
    "cpg_on = True\n",
    "pas_on = True\n"
   ]
  },
  {
   "cell_type": "markdown",
   "metadata": {},
   "source": [
    "### Weights"
   ]
  },
  {
   "cell_type": "code",
   "execution_count": 8,
   "metadata": {},
   "outputs": [],
   "source": [
    "cai_w = 1\n",
    "bai_w = 1\n",
    "sps_w = 1\n",
    "cpg_w = 1\n",
    "pas_w = 1"
   ]
  },
  {
   "cell_type": "markdown",
   "metadata": {},
   "source": [
    "### Locations"
   ]
  },
  {
   "cell_type": "code",
   "execution_count": 9,
   "metadata": {},
   "outputs": [],
   "source": [
    "ga_input = '/grid/home/nbourgeois/data/test_sequences/hidua/hidua.pep.fas'\n",
    "# ga_input = '/grid/home/nbourgeois/data/test_sequences/eGFP/pKITR-LP1-eGFP-004_protein_seq.fa'\n",
    "cai_index_loc = 'CoCoPUTs_codon_usage/codon_usage/Brain_Cerebellum.codon.txt'\n",
    "bai_index_loc = 'CoCoPUTs_codon_usage/bicodon_usage/Brain_Cerebellum.bicodon.txt'\n",
    "\n",
    "\n",
    "codon_usage_table_loc = 'codon_usage.getex.txt'"
   ]
  },
  {
   "cell_type": "markdown",
   "metadata": {},
   "source": [
    "# Algorithm"
   ]
  },
  {
   "cell_type": "markdown",
   "metadata": {},
   "source": [
    "### Read in File"
   ]
  },
  {
   "cell_type": "code",
   "execution_count": 10,
   "metadata": {},
   "outputs": [],
   "source": [
    "(keys, seqs) = readFasta(ga_input)\n",
    "if len(seqs) == 1:\n",
    "    aa_seq=str(seqs[0])"
   ]
  },
  {
   "cell_type": "markdown",
   "metadata": {},
   "source": [
    "### Create Codon translation table"
   ]
  },
  {
   "cell_type": "code",
   "execution_count": 11,
   "metadata": {},
   "outputs": [],
   "source": [
    "codon_usage_table = pd.read_csv(codon_usage_table_loc,sep='\\t')\n",
    "forward_table = pd.Series(codon_usage_table.AA.values,index=codon_usage_table.Codon).to_dict()\n",
    "\n",
    "back_table = {}\n",
    "for key in forward_table:\n",
    "    val = forward_table[key]\n",
    "    if val not in back_table.keys():\n",
    "        back_table[val] = [key]\n",
    "    else:\n",
    "        back_table[val].append(key)\n",
    "\n",
    "gene_space = []\n",
    "for aa in aa_seq:\n",
    "    all_cds = back_table[aa]\n",
    "    gene_space.append(all_cds)\n",
    "\n",
    "codon_to_int = {}\n",
    "i=0\n",
    "for codon in forward_table.keys():\n",
    "    codon_to_int[codon] = i\n",
    "    codon_to_int[i] = codon\n",
    "    i += 1\n",
    "    \n",
    "gene_space_int = [[codon_to_int[x] for x in y] for y in gene_space]"
   ]
  },
  {
   "cell_type": "markdown",
   "metadata": {},
   "source": [
    "# Fitness Function"
   ]
  },
  {
   "cell_type": "code",
   "execution_count": 20,
   "metadata": {},
   "outputs": [],
   "source": [
    "def get_sps(seq_aa):\n",
    "    \n",
    "    prediction_ind, acceptor_prob, donor_prob = predictSites( seq_aa )\n",
    "#     val = 1-np.mean(donor_prob)\n",
    "    if any(acceptor_prob > .8) or any(donor_prob > .8):\n",
    "        val = 1 \n",
    "    else: \n",
    "        val = 0\n",
    "\n",
    "    return(val)\n",
    "\n",
    "def get_bai(seq_aa):\n",
    "    \n",
    "    bai_script = ' '.join(['nice','perl','bai.pl',seq_aa,bai_index_loc])\n",
    "    out = subprocess.run(bai_script, shell=True, capture_output=True, env=my_env).stdout\n",
    "    bai = float(out)\n",
    "    \n",
    "    return(bai)\n",
    "\n",
    "def get_cai(seq_aa):\n",
    "    seq_aa_bin = seq_aa.encode('utf-8')\n",
    "    hash_object = hashlib.sha1(seq_aa_bin)\n",
    "    hex_dig = hash_object.hexdigest()\n",
    "    idx = hex_dig[0:6]\n",
    "    \n",
    "    if not os.path.isdir('tmp'):\n",
    "        os.mkdir('tmp') \n",
    "    file_fa = os.path.join('tmp', str(idx)+'.fa')\n",
    "    file_ca = os.path.join('tmp', str(idx)+'.ca')\n",
    "    \n",
    "    with open(file_fa ,'w') as fileo:\n",
    "        fileo.write('>fa\\n'+seq_aa+'\\n')\n",
    "        \n",
    "    cmd = 'nice cai ' + file_fa + ' -cfile ' + cai_index_loc + ' -outfile '+ file_ca\n",
    "    subprocess.Popen(cmd, shell=True)\n",
    "\n",
    "    # wait for file to refresh\n",
    "    i=0\n",
    "    while not os.path.isfile(file_ca):\n",
    "        if i > 100:\n",
    "            print('File not generated:'+file_ca)\n",
    "            return(0)\n",
    "        time.sleep(.1)\n",
    "        i+=1\n",
    "    \n",
    "    with open(file_ca,'r') as fileo:\n",
    "        lines = fileo.readline()\n",
    "    \n",
    "    cai = float(lines.split()[-1])\n",
    "        \n",
    "#     cmd = 'rm '+ file_ca +' '+ file_ca\n",
    "#     subprocess.Popen(cmd, shell=True)\n",
    "    \n",
    "    return(cai)\n",
    "\n",
    "\n",
    "def get_cpg(seq):\n",
    "    count = seq.count(\"CG\")\n",
    "    cpg_score = ( len(seq) - count * 2 ) / len(seq)  \n",
    "    return(cpg_score)\n",
    "\n",
    "def get_pas(seq_aa):\n",
    "    seq_aa_bin = seq_aa.encode('utf-8')\n",
    "    hash_object = hashlib.sha1(seq_aa_bin)\n",
    "    hex_dig = hash_object.hexdigest()\n",
    "    idx = hex_dig[0:6]\n",
    "    \n",
    "    if not os.path.isdir('tmp'):\n",
    "        os.mkdir('tmp') \n",
    "    file_fa = os.path.join('tmp', str(idx)+'.fa')\n",
    "    file_prefix = os.path.join('tmp', str(idx)+'_pasta')\n",
    "    file_out = file_prefix+'.pas.txt'\n",
    "    \n",
    "    if not os.path.isfile(file_fa):\n",
    "        with open(file_fa ,'w') as fileo:\n",
    "            fileo.write('>fa\\n'+seq_aa+'\\n')\n",
    "        \n",
    "    cmd = 'nice sh deep_pasta.sh ' + file_fa + ' ' + file_prefix\n",
    "    subprocess.Popen(cmd, shell=True)\n",
    "\n",
    "    # wait for file to refresh\n",
    "    i=0\n",
    "    while not os.path.isfile(file_out):\n",
    "        if i > 3000:\n",
    "            print('File not generated:'+file_out)\n",
    "            return(0)\n",
    "        time.sleep(.1)\n",
    "        i+=1\n",
    "    \n",
    "    with open(file_out,'r') as fileo:\n",
    "        lines = fileo.readline()\n",
    "    \n",
    "#     print(lines)\n",
    "    if len(lines.split()) < 2:\n",
    "        return(0)\n",
    "    \n",
    "    pas = float(lines.split()[-1])\n",
    "            \n",
    "    return(pas)\n",
    "\n",
    "def get_memory():\n",
    "    with open('/proc/meminfo', 'r') as mem:\n",
    "        free_memory = 0\n",
    "        for i in mem:\n",
    "            sline = i.split()\n",
    "            if str(sline[0]) in ('MemFree:', 'Buffers:', 'Cached:'):\n",
    "                free_memory += int(sline[1])\n",
    "    return free_memory\n",
    "\n",
    "\n",
    "def fitness_func(solution, solution_idx):\n",
    "    \n",
    "    if not type(solution) is str:\n",
    "        seq_aa = ''.join([codon_to_int[x] for x in solution])\n",
    "    else:\n",
    "        seq_aa = solution\n",
    "#     print(solution_idx)\n",
    "\n",
    "    tmp_dict = {}\n",
    "    \n",
    "    #Check for redundancy\n",
    "    if seq_aa in all_sols.keys():\n",
    "        fitness = all_sols[seq_aa]['fitness']\n",
    "\n",
    "    else:\n",
    "        fitness = 0\n",
    "        total_weight=0\n",
    "        \n",
    "        if cai_on:\n",
    "            cai = get_cai(seq_aa)\n",
    "            fitness += cai*cai_w\n",
    "            total_weight += cai_w\n",
    "            tmp_dict['cai'] = cai\n",
    "        \n",
    "        if bai_on:\n",
    "            bai = get_bai(seq_aa)\n",
    "            fitness += bai*bai_w\n",
    "            total_weight += bai_w\n",
    "            tmp_dict['bai'] = bai\n",
    "            \n",
    "        if cpg_on:\n",
    "            cpg = get_cpg(seq_aa)\n",
    "            fitness += cpg*cpg_w\n",
    "            total_weight += cpg_w\n",
    "            tmp_dict['cpg'] = cpg\n",
    "\n",
    "        if sps_on:\n",
    "            sps = get_sps(seq_aa)\n",
    "            fitness += sps*sps_w\n",
    "            total_weight += sps_w\n",
    "            tmp_dict['sps'] = sps\n",
    "\n",
    "        if pas_on:\n",
    "            pas = get_pas(seq_aa)\n",
    "            fitness += pas*pas_w\n",
    "            total_weight += pas_w\n",
    "            tmp_dict['pas'] = pas\n",
    "\n",
    "        fitness = fitness/total_weight\n",
    "        tmp_dict['fitness'] = fitness\n",
    "        all_sols[seq_aa] = tmp_dict\n",
    "        \n",
    "        #     output = numpy.sum(solution*function_inputs)\n",
    "        #     fitness = 1.0 / numpy.abs(output - desired_output)\n",
    "    \n",
    "    return fitness\n",
    "\n"
   ]
  },
  {
   "cell_type": "markdown",
   "metadata": {},
   "source": [
    "# Genetic Algorithm"
   ]
  },
  {
   "cell_type": "code",
   "execution_count": 21,
   "metadata": {},
   "outputs": [],
   "source": [
    "\"\"\"\n",
    "Given the following function:\n",
    "    y = f(w1:w6) = w1x1 + w2x2 + w3x3 + w4x4 + w5x5 + 6wx6\n",
    "    where (x1,x2,x3,x4,x5,x6)=(4,-2,3.5,5,-11,-4.7) and y=44\n",
    "What are the best values for the 6 weights (w1 to w6)? We are going to use the genetic algorithm to optimize this function.\n",
    "\"\"\"\n",
    "\n",
    "# def convert_aa_int():\n",
    "    \n",
    "desired_output = 1 # Function output.\n",
    "all_sols = {}\n",
    "\n",
    "fitness_function = fitness_func\n",
    "\n",
    "num_generations = 10 # Number of generations.\n",
    "num_parents_mating = 5 # Number of solutions to be selected as parents in the mating pool.\n",
    "\n",
    "# To prepare the initial population, there are 2 ways:\n",
    "# 1) Prepare it yourself and pass it to the initial_population parameter. This way is useful when the user wants to start the genetic algorithm with a custom initial population.\n",
    "# 2) Assign valid integer values to the sol_per_pop and num_genes parameters. If the initial_population parameter exists, then the sol_per_pop and num_genes parameters are useless.\n",
    "sol_per_pop = 20 # Number of solutions in the population.\n",
    "num_genes = len(gene_space)\n",
    "\n",
    "# init_range_low = -2\n",
    "# init_range_high = 5\n",
    "\n",
    "parent_selection_type = \"sss\" # Type of parent selection.\n",
    "keep_parents = 5 # Number of parents to keep in the next population. -1 means keep all parents and 0 means keep nothing.\n",
    "\n",
    "crossover_type = \"two_points\" # Type of the crossover operator.\n",
    "\n",
    "# Parameters of the mutation operation.\n",
    "mutation_type = \"random\" # Type of the mutation operator.\n",
    "mutation_percent_genes = 5 # Percentage of genes to mutate. This parameter has no action if the parameter mutation_num_genes exists or when mutation_type is None.\n",
    "\n",
    "last_fitness = 0\n",
    "\n",
    "def callback_generation(ga_instance):\n",
    "    global last_fitness\n",
    "    print(\"Generation = {generation}\".format(generation=ga_instance.generations_completed))\n",
    "    print(\"Fitness    = {fitness}\".format(fitness=ga_instance.best_solution()[1]))\n",
    "    print(\"Change     = {change}\".format(change=ga_instance.best_solution()[1] - last_fitness))\n",
    "    last_fitness = ga_instance.best_solution()[1]\n",
    "\n",
    "# Creating an instance of the GA class inside the ga module. Some parameters are initialized within the constructor.\n",
    "\n",
    "def fitness_wrapper(solution):\n",
    "    return fitness_func(solution, 0)\n",
    "\n",
    "\n",
    "class PooledGA(pygad.GA):\n",
    "\n",
    "    def cal_pop_fitness(self):\n",
    "        global pool\n",
    "\n",
    "        pop_fitness = pool.map(fitness_wrapper, self.population)\n",
    "        pop_fitness = np.array(pop_fitness)\n",
    "        return pop_fitness\n",
    "\n",
    "ga_instance_pool = PooledGA(num_generations=num_generations,\n",
    "                       num_parents_mating=num_parents_mating, \n",
    "                       fitness_func=fitness_function,\n",
    "                       sol_per_pop=sol_per_pop, \n",
    "                       num_genes=num_genes,\n",
    "#                        init_range_low=init_range_low,\n",
    "#                        init_range_high=init_range_high,\n",
    "                       parent_selection_type=parent_selection_type,\n",
    "                       keep_parents=keep_parents,\n",
    "                       crossover_type=crossover_type,\n",
    "                       mutation_type=mutation_type,\n",
    "                       mutation_percent_genes=mutation_percent_genes,\n",
    "                       on_generation=callback_generation,\n",
    "                       gene_type=int,\n",
    "                       gene_space=gene_space_int,\n",
    ")\n",
    "\n",
    "ga_instance = pygad.GA(num_generations=num_generations,\n",
    "                       num_parents_mating=num_parents_mating, \n",
    "                       fitness_func=fitness_function,\n",
    "                       sol_per_pop=sol_per_pop, \n",
    "                       num_genes=num_genes,\n",
    "#                        init_range_low=init_range_low,\n",
    "#                        init_range_high=init_range_high,\n",
    "                       parent_selection_type=parent_selection_type,\n",
    "                       keep_parents=keep_parents,\n",
    "                       crossover_type=crossover_type,\n",
    "                       mutation_type=mutation_type,\n",
    "                       mutation_percent_genes=mutation_percent_genes,\n",
    "                       on_generation=callback_generation,\n",
    "                       gene_type=int,\n",
    "                       gene_space=gene_space_int,\n",
    ")\n"
   ]
  },
  {
   "cell_type": "code",
   "execution_count": 14,
   "metadata": {
    "scrolled": true
   },
   "outputs": [
    {
     "name": "stdout",
     "output_type": "stream",
     "text": [
      "Generation = 1\n",
      "Fitness    = 0.6878712356936572\n",
      "Change     = 0.6878712356936572\n",
      "Generation = 2\n",
      "Fitness    = 0.6878712356936572\n",
      "Change     = 0.0\n",
      "Generation = 3\n",
      "Fitness    = 0.7015666697007519\n",
      "Change     = 0.01369543400709472\n",
      "Generation = 4\n",
      "Fitness    = 0.7015666697007519\n",
      "Change     = 0.0\n",
      "Generation = 5\n",
      "Fitness    = 0.7015666697007519\n",
      "Change     = 0.0\n",
      "Generation = 6\n",
      "Fitness    = 0.7028526954007369\n",
      "Change     = 0.0012860256999850384\n",
      "Generation = 7\n",
      "Fitness    = 0.7064739386979118\n",
      "Change     = 0.0005096293741204683\n",
      "Generation = 9\n",
      "Fitness    = 0.7080029099635825\n",
      "Change     = 0.0015289712656707533\n",
      "Generation = 10\n",
      "Fitness    = 0.7088894606385793\n",
      "Change     = 0.0008865506749967667\n"
     ]
    },
    {
     "data": {
      "image/png": "[encoded data removed]",
      "text/plain": [
       "<Figure size 432x288 with 1 Axes>"
      ]
     },
     "metadata": {
      "needs_background": "light"
     },
     "output_type": "display_data"
    },
    {
     "name": "stdout",
     "output_type": "stream",
     "text": [
      "Parameters of the best solution : [11. 59. 38.  5. 53. 36. 55. 47. 46.  3.  5. 46.  2.  5. 44. 56.  6.  3.\n",
      " 46. 46. 36. 36. 15. 47. 38. 46. 31. 44. 36. 20.  4. 12. 20. 15. 29. 44.\n",
      " 47. 54. 44.  2. 51. 36.  5. 54. 58.  0. 51. 59. 56. 40. 60.  1. 48. 37.\n",
      " 39.  6. 37. 21. 33. 23. 45. 29. 23. 16. 15.  2. 57. 51. 29. 22. 22.  7.\n",
      " 24.  5. 44. 16. 13. 62. 44. 15. 39. 20. 55. 63.  9. 27. 23. 12. 55. 41.\n",
      " 21. 51.  4.  7. 30.  4. 13. 42. 41. 58. 63. 34. 41. 62. 59. 61.  3. 33.\n",
      " 17. 24.  0. 42. 20.  7. 29. 62. 16.  4. 29.  4.  6. 52. 31. 24. 22.  6.\n",
      "  6. 39. 63.  1. 30.  3. 11. 61. 33. 44. 34. 60. 20.  1. 40. 28.  0. 31.\n",
      " 29. 27. 23. 22. 15.  0. 30. 51. 27. 28.  7. 15. 32. 57.  4. 45. 54. 59.\n",
      " 16.  8. 62. 53. 16. 63.  2. 45. 21. 15. 35. 27. 51. 25.  0. 31. 41. 51.\n",
      " 24. 31. 38. 28. 20. 20. 28.  0. 29. 24. 14. 57. 11. 41. 11. 22. 61.  0.\n",
      "  5. 24. 17. 17. 29. 45. 48. 34. 31. 61.  5. 55. 46. 46. 56. 38. 44.  2.\n",
      " 53.  6. 60. 61. 36. 61. 28. 56.  0. 20. 42. 36. 37. 59. 34. 38.  5. 34.\n",
      " 51. 63.  3.  7. 53. 20. 48. 20. 28. 62. 42. 25.  1.  0. 42. 62. 31. 44.\n",
      " 63. 12. 59.  7. 28. 17.  8. 56.  7. 20. 53. 26. 60. 47. 53. 33. 56.  9.\n",
      " 35.  9.  2. 31. 22. 30. 27. 14. 15. 44. 22. 23. 10. 59. 22.  7.  1. 37.\n",
      " 26.  1. 45. 29. 42. 36.  9. 16. 25. 28. 31. 46. 29. 37.  5. 13. 63. 51.\n",
      " 57.  7. 39. 22. 37. 51. 55. 45. 28. 15. 40. 17. 44. 46. 11. 12. 12. 27.\n",
      " 15.  8. 46. 23. 21. 22. 24.  7.  7.  6. 45. 24. 40. 41. 56. 44.  0. 38.\n",
      " 16. 46.  4.  2. 33. 24. 29. 25. 44.  1.  4. 33. 16. 20. 37. 21. 38.  0.\n",
      " 46. 23. 59. 43.  2. 40. 46. 52.  1. 22. 14. 24. 25. 42. 55. 37. 37. 20.\n",
      " 15. 23.  3.  5. 53. 27. 36. 13.  5. 40. 45. 11. 61.  4.  2. 44.  4.  7.\n",
      " 28. 30. 31. 22.  2. 51. 46. 31. 13. 56. 23. 45. 60. 40. 12.  4. 28. 32.\n",
      " 24. 21. 41. 13. 61. 12.  7. 45. 34. 45. 21. 59. 38. 23. 61. 38. 44. 29.\n",
      " 47. 51. 59. 44. 46. 15.  2.  8. 16. 46. 34. 29. 29. 43. 53. 47. 20. 37.\n",
      " 25. 53. 33. 15. 46. 12. 40.  4. 52.  5. 59. 63. 12. 37. 39. 63. 37. 63.\n",
      "  7. 15. 17. 15. 42. 54. 17.  3. 29. 25. 60.  3. 49. 33. 39. 29. 63. 31.\n",
      " 51. 58. 55.  7. 61. 53. 38. 15.  0. 38. 43. 46. 30. 23.  1. 52. 58. 11.\n",
      " 54. 45. 47. 31. 29. 39. 14. 45. 46. 46. 38. 55. 36.  7. 37. 46. 63. 62.\n",
      " 55.  7. 43.  7. 52. 37. 47.  5. 55.  3. 39. 56.  5.  6.  6. 15. 20. 12.\n",
      " 48. 45. 59. 36. 30. 27. 38. 37. 61. 23. 15. 42. 53.  5. 55. 44.  7. 38.\n",
      "  7. 41. 23. 61. 22.  4. 14.  5. 13. 51. 33. 29. 31. 20. 12. 63. 32. 26.\n",
      " 49.  5. 51. 42. 16. 30.  8. 22.  1. 33. 23. 29. 61. 27. 47. 16. 40. 39.\n",
      " 14. 34. 59. 26. 38. 33. 41.  0. 25.  3.  0. 13.  0. 33. 39. 29. 43. 63.\n",
      " 46. 13. 57. 62. 32. 17. 54. 15. 59. 44.  4. 29. 16. 51. 45. 58. 39. 61.\n",
      " 39.  1. 56. 29. 37. 13. 36. 16.  6. 31. 15. 36. 14. 39. 58. 62. 36. 39.\n",
      " 57. 38. 62. 25. 38. 19.]\n",
      "NT Sequence of the best solution : ATGAGGCCACTCCGCCCTCGGGCGGCATTGCTCGCATTACTCGCTAGTCTATTGGCAGCACCTCCTGTGGCGCCAGCAGAGGCTCCTCATCTTGTTCATGTGGACGCTGCGCGAGCTTTATGGCCTCTCCGAAGATTTTGGAGGAGTACTGGTTTCTGTCCCCCGCTACCCCACTCCCAGGCCGACCAGTATGTGTTAAGCTGGGACCAACAACTGAATCTCGCTTATGTCGGAGCTGTGCCGCATCGGGGGATCAAGCAGGTTCGGACCCACTGGCTTCTGGAACTTGTCACAACCAGAGGGTCAACCGGAAGGGGCTTGTCCTACAATTTTACACATCTGGACGGATATCTTGACCTTCTACGTGAGAATCAACTACTACCGGGGTTCGAATTGATGGGCTCCGCTTCAGGTCATTTCACTGATTTTGAGGACAAGCAGCAAGTGTTTGAATGGAAGGATCTGGTGTCTAGCCTTGCCCGAAGGTATATTGGACGCTATGGGTTAGCCCACGTGTCGAAGTGGAACTTTGAGACCTGGAATGAGCCAGATCATCATGATTTTGACAATGTAAGCATGACCATGCAAGGCTTTCTCAATTACTACGACGCCTGTTCAGAGGGCCTCCGGGCAGCAAGTCCAGCTTTACGCCTAGGTGGCCCTGGCGATAGTTTTCATACACCTCCCAGGTCACCACTCTCATGGGGGTTGCTGCGCCATTGTCATGATGGAACAAACTTCTTTACAGGAGAGGCTGGGGTTAGGCTGGATTACATTAGTCTGCATCGCAAAGGTGCGCGCTCCAGTATCTCGATCTTAGAGCAAGAAAAGGTAGTGGCTCAACAGATAAGGCAACTGTTCCCCAAATTCGCCGACACACCTATCTATAACGATGAGGCAGACCCCCTCGTCGGGTGGAGCCTGCCGCAACCCTGGCGGGCCGATGTGACTTACGCTGCAATGGTTGTTAAGGTGATTGCACAGCACCAAAATCTGCTGCTAGCCAATACTACCAGTGCTTTTCCATATGCACTTTTATCCAATGACAACGCTTTCCTTTCCTATCATCCCCACCCATTTGCACAGAGGACGTTAACTGCACGTTTCCAAGTAAATAACACACGGCCCCCCCATGTGCAGTTGCTCCGCAAGCCTGTCCTCACTGCCATGGGCCTTTTAGCTCTTCTGGATGAAGAGCAATTATGGGCAGAGGTCAGTCAGGCCGGTACTGTTCTTGATTCTAATCACACCGTCGGCGTTCTGGCCTCAGCCCACAGGCCACAGGGCCCAGCTGACGCGTGGAGGGCTGCAGTGTTAATTTATGCATCAGACGACACGCGCGCGCATCCCAACCGCTCCGTGGCAGTTACTCTTCGTCTCAGGGGGGTTCCCCCGGGGCCCGGGCTGGTGTACGTGACACGATACTTGGACAACGGTTTGTGCTCCCCGGACGGGGAGTGGAGACGGCTGGGCCGCCCAGTGTTTCCAACGGCAGAACAGTTCCGTAGAATGCGAGCCGCGGAGGACCCGGTAGCCGCAGCACCACGGCCTCTGCCCGCAGGGGGACGGCTGACGCTGCGTCCCGCGCTCCGGTTGCCGAGTCTCCTACTAGTGCATGTTTGTGCCAGGCCTGAAAAGCCACCCGGCCAGGTGACACGCCTCCGGGCTCTGCCACTGACCCAGGGCCAACTTGTACTCGTCTGGTCCGACGAGCATGTTGGGTCTAAATGCCTCTGGACATATGAAATTCAATTCTCCCAGGACGGCAAGGCGTATACTCCGGTATCAAGGAAACCATCCACCTTTAACTTGTTTGTCTTTTCCCCGGACACGGGGGCAGTCAGCGGATCTTACCGAGTGAGGGCTCTTGACTATTGGGCCAGACCGGGCCCGTTCAGTGACCCCGTCCCTTATCTAGAGGTGCCTGTACCGAGAGGACCTCCGAGCCCAGGAAACCCATAG\n",
      "Fitness value of the best solution = 0.7088894606385793\n",
      "Index of the best solution : 15\n",
      "Best fitness value reached after 9 generations.\n"
     ]
    },
    {
     "data": {
      "image/png": "[encoded data removed]",
      "text/plain": [
       "<Figure size 432x288 with 1 Axes>"
      ]
     },
     "metadata": {
      "needs_background": "light"
     },
     "output_type": "display_data"
    },
    {
     "name": "stdout",
     "output_type": "stream",
     "text": [
      "CPU times: user 2.34 s, sys: 7.06 s, total: 9.4 s\n",
      "Wall time: 37min 1s\n"
     ]
    }
   ],
   "source": [
    "%%time\n",
    "\n",
    "# Running the GA to optimize the parameters of the function.\n",
    "ga_instance.run()\n",
    "\n",
    "# After the generations complete, some plots are showed that summarize the how the outputs/fitenss values evolve over generations.\n",
    "ga_instance.plot_result()\n",
    "\n",
    "# Returning the details of the best solution.\n",
    "solution, solution_fitness, solution_idx = ga_instance.best_solution()\n",
    "print(\"Parameters of the best solution : {solution}\".format(solution=solution))\n",
    "seq_aa = ''.join([codon_to_int[x] for x in solution])\n",
    "print(\"NT Sequence of the best solution : {seq_aa}\".format(seq_aa=seq_aa))\n",
    "print(\"Fitness value of the best solution = {solution_fitness}\".format(solution_fitness=solution_fitness))\n",
    "print(\"Index of the best solution : {solution_idx}\".format(solution_idx=solution_idx))\n",
    "\n",
    "# # prediction = numpy.sum(numpy.array(function_inputs)*solution) Replace\n",
    "# print(\"Predicted output based on the best solution : {prediction}\".format(prediction=prediction))\n",
    "\n",
    "if ga_instance.best_solution_generation != -1:\n",
    "    print(\"Best fitness value reached after {best_solution_generation} generations.\".format(best_solution_generation=ga_instance.best_solution_generation))\n",
    "\n",
    "# Saving the GA instance.\n",
    "filename = 'genetic' # The filename to which the instance is saved. The name is without extension.\n",
    "ga_instance.save(filename=filename)\n",
    "\n",
    "# Loading the saved GA instance.\n",
    "loaded_ga_instance = pygad.load(filename=filename)\n",
    "loaded_ga_instance.plot_result()"
   ]
  },
  {
   "cell_type": "code",
   "execution_count": null,
   "metadata": {},
   "outputs": [],
   "source": [
    "%%time\n",
    "\n",
    "print('Started')\n",
    "with Pool(processes=10) as pool:\n",
    "\n",
    "    # Running the GA to optimize the parameters of the funcabstion.\n",
    "    ga_instance_pool.run()\n",
    "\n",
    "    # After the generations complete, some plots are showed that summarize the how the outputs/fitenss values evolve over generations.\n",
    "    ga_instance_pool.plot_result()\n",
    "\n",
    "    # Returning the details of the best solution.\n",
    "    solution, solution_fitness, solution_idx = ga_instance_pool.best_solution()\n",
    "    print(\"Parameters of the best solution : {solution}\".format(solution=solution))\n",
    "    print(\"Fitness value of the best solution = {solution_fitness}\".format(solution_fitness=solution_fitness))\n",
    "    print(\"Index of the best solution : {solution_idx}\".format(solution_idx=solution_idx))\n",
    "\n",
    "    solution_aa = ''.join([codon_to_int[x] for x in solution])\n",
    "   \n",
    "    print(\"Predicted output based on the best solution : {prediction}\".format(prediction=solution_aa))\n",
    "\n",
    "#     if ga_instance_pool.best_solution_generation != -1:\n",
    "#         print(\"Best fitness value reached after {best_solution_generation} generations.\".format(best_solution_generation=ga_instance.best_solution_generation))\n",
    "\n",
    "    # Saving the GA instance.\n",
    "    filename = 'genetic' # The filename to which the instance is saved. The name is without extension.\n",
    "    ga_instance_pool.save(filename=filename)\n",
    "\n",
    "# Loading the saved GA instance.\n",
    "loaded_ga_instance = pygad.load(filename=filename)\n",
    "loaded_ga_instance.plot_result()"
   ]
  },
  {
   "cell_type": "code",
   "execution_count": 24,
   "metadata": {},
   "outputs": [
    {
     "name": "stderr",
     "output_type": "stream",
     "text": [
      "ERROR:root:Internal Python error in the inspect module.\n",
      "Below is the traceback from this internal error.\n",
      "\n"
     ]
    },
    {
     "name": "stdout",
     "output_type": "stream",
     "text": [
      "Traceback (most recent call last):\n",
      "  File \"/data/software/anaconda3/envs/bfx/lib/python3.7/site-packages/IPython/core/interactiveshell.py\", line 3331, in run_code\n",
      "    exec(code_obj, self.user_global_ns, self.user_ns)\n",
      "  File \"<ipython-input-24-16a5944d7d29>\", line 1, in <module>\n",
      "    solution_aa\n",
      "NameError: name 'solution_aa' is not defined\n",
      "\n",
      "During handling of the above exception, another exception occurred:\n",
      "\n",
      "Traceback (most recent call last):\n",
      "  File \"/data/software/anaconda3/envs/bfx/lib/python3.7/site-packages/IPython/core/interactiveshell.py\", line 2044, in showtraceback\n",
      "    stb = value._render_traceback_()\n",
      "AttributeError: 'NameError' object has no attribute '_render_traceback_'\n",
      "\n",
      "During handling of the above exception, another exception occurred:\n",
      "\n",
      "Traceback (most recent call last):\n",
      "  File \"/data/software/anaconda3/envs/bfx/lib/python3.7/site-packages/IPython/core/ultratb.py\", line 1148, in get_records\n",
      "    return _fixed_getinnerframes(etb, number_of_lines_of_context, tb_offset)\n",
      "  File \"/data/software/anaconda3/envs/bfx/lib/python3.7/site-packages/IPython/core/ultratb.py\", line 316, in wrapped\n",
      "    return f(*args, **kwargs)\n",
      "  File \"/data/software/anaconda3/envs/bfx/lib/python3.7/site-packages/IPython/core/ultratb.py\", line 350, in _fixed_getinnerframes\n",
      "    records = fix_frame_records_filenames(inspect.getinnerframes(etb, context))\n",
      "  File \"/data/software/anaconda3/envs/bfx/lib/python3.7/inspect.py\", line 1502, in getinnerframes\n",
      "    frameinfo = (tb.tb_frame,) + getframeinfo(tb, context)\n",
      "  File \"/data/software/anaconda3/envs/bfx/lib/python3.7/inspect.py\", line 1460, in getframeinfo\n",
      "    filename = getsourcefile(frame) or getfile(frame)\n",
      "  File \"/data/software/anaconda3/envs/bfx/lib/python3.7/inspect.py\", line 696, in getsourcefile\n",
      "    if getattr(getmodule(object, filename), '__loader__', None) is not None:\n",
      "  File \"/data/software/anaconda3/envs/bfx/lib/python3.7/inspect.py\", line 733, in getmodule\n",
      "    if ismodule(module) and hasattr(module, '__file__'):\n",
      "  File \"/data/software/anaconda3/envs/bfx/lib/python3.7/site-packages/tensorflow/__init__.py\", line 50, in __getattr__\n",
      "    module = self._load()\n",
      "  File \"/data/software/anaconda3/envs/bfx/lib/python3.7/site-packages/tensorflow/__init__.py\", line 44, in _load\n",
      "    module = _importlib.import_module(self.__name__)\n",
      "  File \"/data/software/anaconda3/envs/bfx/lib/python3.7/importlib/__init__.py\", line 127, in import_module\n",
      "    return _bootstrap._gcd_import(name[level:], package, level)\n",
      "  File \"<frozen importlib._bootstrap>\", line 1006, in _gcd_import\n",
      "  File \"<frozen importlib._bootstrap>\", line 983, in _find_and_load\n",
      "  File \"<frozen importlib._bootstrap>\", line 965, in _find_and_load_unlocked\n",
      "ModuleNotFoundError: No module named 'tensorflow_core.estimator'\n"
     ]
    },
    {
     "ename": "NameError",
     "evalue": "name 'solution_aa' is not defined",
     "output_type": "error",
     "traceback": [
      "\u001b[0;31m---------------------------------------------------------------------------\u001b[0m"
     ]
    }
   ],
   "source": [
    "solution_aa\n",
    "# seq_aa = ''.join([codon_to_int[x] for x in solution])\n",
    "# all_sols[seq_aa]\n"
   ]
  },
  {
   "cell_type": "code",
   "execution_count": null,
   "metadata": {},
   "outputs": [],
   "source": [
    "l"
   ]
  },
  {
   "cell_type": "code",
   "execution_count": null,
   "metadata": {},
   "outputs": [],
   "source": []
  }
 ],
 "metadata": {
  "kernelspec": {
   "display_name": "Python 3",
   "language": "python",
   "name": "python3"
  },
  "language_info": {
   "codemirror_mode": {
    "name": "ipython",
    "version": 3
   },
   "file_extension": ".py",
   "mimetype": "text/x-python",
   "name": "python",
   "nbconvert_exporter": "python",
   "pygments_lexer": "ipython3",
   "version": "3.7.6"
  }
 },
 "nbformat": 4,
 "nbformat_minor": 4
}
