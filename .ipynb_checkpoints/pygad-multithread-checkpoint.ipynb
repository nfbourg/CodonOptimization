{
 "cells": [
  {
   "cell_type": "markdown",
   "metadata": {
    "scrolled": true
   },
   "source": [
    "# Imports"
   ]
  },
  {
   "cell_type": "markdown",
   "metadata": {},
   "source": [
    "## PyGAD"
   ]
  },
  {
   "cell_type": "code",
   "execution_count": 1,
   "metadata": {},
   "outputs": [],
   "source": [
    "import pygad\n",
    "import numpy\n",
    "import os\n",
    "import sys\n",
    "import Bio\n",
    "import pandas as pd\n",
    "from general_functions import *\n",
    "from metrics import *\n",
    "import hashlib\n",
    "import subprocess\n",
    "import time"
   ]
  },
  {
   "cell_type": "markdown",
   "metadata": {},
   "source": [
    "## spliceAI"
   ]
  },
  {
   "cell_type": "code",
   "execution_count": 2,
   "metadata": {},
   "outputs": [],
   "source": [
    "# from metrics import splicing_gpu\n",
    "# from multiprocessing import Pool"
   ]
  },
  {
   "cell_type": "markdown",
   "metadata": {},
   "source": [
    "# Multi-threa"
   ]
  },
  {
   "cell_type": "code",
   "execution_count": 3,
   "metadata": {},
   "outputs": [],
   "source": [
    "# from multiprocessing import Pool\n",
    "# import subprocess "
   ]
  },
  {
   "cell_type": "markdown",
   "metadata": {},
   "source": [
    "# CAI"
   ]
  },
  {
   "cell_type": "code",
   "execution_count": 4,
   "metadata": {},
   "outputs": [],
   "source": [
    "# import time\n",
    "# import hashlib"
   ]
  },
  {
   "cell_type": "markdown",
   "metadata": {},
   "source": [
    "# BAI"
   ]
  },
  {
   "cell_type": "code",
   "execution_count": 5,
   "metadata": {},
   "outputs": [],
   "source": [
    "# my_env = os.environ.copy()\n",
    "# my_env[\"PATH\"] = \"/data/software/anaconda3/envs/bfx/lib/perl5/site_perl/5.22.0:/data/software/anaconda3/pkgs/texlive-selected-20160715-1/share/texlive/tlpkg:\" + my_env[\"PATH\"]"
   ]
  },
  {
   "cell_type": "code",
   "execution_count": 6,
   "metadata": {},
   "outputs": [],
   "source": [
    "# def readFasta( fastaFile: str ):\n",
    "#     fastaId = ''\n",
    "#     fastaSeq = ''\n",
    "#     if os.path.exists( fastaFile ):\n",
    "#         try:\n",
    "#             with open( fastaFile, \"r\") as handle:\n",
    "#                 cont = 0\n",
    "#                 fastaIds = []\n",
    "#                 fastaSeqs = []\n",
    "#                 for record in SeqIO.parse( handle, \"fasta\"):\n",
    "#                     fastaIds.append(record.id)\n",
    "#                     fastaSeqs.append(record.seq)\n",
    "#         except IOError as e:\n",
    "#             print( \"I/O error({0}): {1}\".format(e.errno, e.strerror) )\n",
    "#         except:\n",
    "#             print( \"Unexpected error:\", sys.exc_info()[0] )\n",
    "#     else:\n",
    "#         print(\"File does not exist:\" + fastaFile )\n",
    "#         exit(2)\n",
    "#     return (fastaIds, fastaSeqs)\n",
    "\n",
    "\n",
    "# def predictSites( fastaSeq: str ):\n",
    "#     #config = tf.compat.v1.ConfigProto(intra_op_parallelism_threads=100,\n",
    "#     #                        inter_op_parallelism_threads=100,\n",
    "#     #                        allow_soft_placement=True,\n",
    "#     #                        device_count = {'CPU': 100})\n",
    "#     #session = tf.compat.v1.Session(config=config)\n",
    "#     #K.set_session(session)\n",
    "#     context = 10000\n",
    "#     keras.backend.set_learning_phase(0)\n",
    "#     paths = ('models/spliceai{}.h5'.format(x) for x in range(1, 6))\n",
    "#     models = [load_model(resource_filename('spliceai', x), compile=False ) for x in paths]\n",
    "#     x = one_hot_encode('N'*(context//2) + fastaSeq + 'N'*(context//2))[None, :]\n",
    "#     y = np.mean([models[m].predict(x) for m in range(5)], axis=0)\n",
    "#     acceptor_prob = y[0, :, 1]\n",
    "#     donor_prob = y[0, :, 2]\n",
    "#     coord = list( range(1, len( donor_prob ) ) )\n",
    "#     return ( coord, acceptor_prob, donor_prob )\n",
    "\n",
    "# def savePredictions( predictions: list, outfile: str ):\n",
    "#     original_stdout = sys.stdout # Save a reference to the original standard output\n",
    "#     with open( outfile, \"w\") as handle:\n",
    "#         sys.stdout = handle # Change the standard output to the file we created.\n",
    "#         print(\"coord\",\"acceptor_prob\",\"donor_prob\", sep=\"\\t\")\n",
    "#         for row_ind in range(0,len( predictions[0]) - 1):\n",
    "#             for col in predictions:\n",
    "#                 print( col[row_ind], end=\"\\t\" )\n",
    "#             print(\"\")\n",
    "#     sys.stdout = original_stdout # Reset the standard output to its original value"
   ]
  },
  {
   "cell_type": "markdown",
   "metadata": {},
   "source": [
    "# Start"
   ]
  },
  {
   "cell_type": "markdown",
   "metadata": {},
   "source": [
    "## Parameters"
   ]
  },
  {
   "cell_type": "markdown",
   "metadata": {},
   "source": [
    "### Metrics"
   ]
  },
  {
   "cell_type": "code",
   "execution_count": 7,
   "metadata": {},
   "outputs": [],
   "source": [
    "cai_on = True\n",
    "bai_on = True\n",
    "sps_on = False\n",
    "cpg_on = True\n",
    "pas_on = False\n"
   ]
  },
  {
   "cell_type": "markdown",
   "metadata": {},
   "source": [
    "### Weights"
   ]
  },
  {
   "cell_type": "code",
   "execution_count": 8,
   "metadata": {},
   "outputs": [],
   "source": [
    "cai_w = 1\n",
    "bai_w = 1\n",
    "sps_w = 1\n",
    "cpg_w = 1\n",
    "pas_w = 1"
   ]
  },
  {
   "cell_type": "markdown",
   "metadata": {},
   "source": [
    "### Locations"
   ]
  },
  {
   "cell_type": "code",
   "execution_count": 9,
   "metadata": {},
   "outputs": [],
   "source": [
    "ga_input = '/grid/home/nbourgeois/data/test_sequences/hidua/hidua.pep.fas'\n",
    "# ga_input = '/grid/home/nbourgeois/data/test_sequences/eGFP/pKITR-LP1-eGFP-004_protein_seq.fa'\n",
    "cai_index_loc = 'CoCoPUTs_codon_usage/codon_usage/Brain_Cerebellum.codon.txt'\n",
    "bai_index_loc = 'CoCoPUTs_codon_usage/bicodon_usage/Brain_Cerebellum.bicodon.txt'\n",
    "\n",
    "codon_usage_table_loc = 'codon_usage.getex.txt'"
   ]
  },
  {
   "cell_type": "markdown",
   "metadata": {},
   "source": [
    "# Algorithm"
   ]
  },
  {
   "cell_type": "markdown",
   "metadata": {},
   "source": [
    "### Read in File"
   ]
  },
  {
   "cell_type": "code",
   "execution_count": 10,
   "metadata": {},
   "outputs": [],
   "source": [
    "(keys, seqs) = readFasta(ga_input)\n",
    "if len(seqs) == 1:\n",
    "    aa_seq=str(seqs[0])"
   ]
  },
  {
   "cell_type": "markdown",
   "metadata": {},
   "source": [
    "### Initialize Parameters\n",
    "- gene_space\n",
    "- codon_to_int dictionary"
   ]
  },
  {
   "cell_type": "code",
   "execution_count": 11,
   "metadata": {},
   "outputs": [],
   "source": [
    "# codon_usage_table = pd.read_csv(codon_usage_table_loc,sep='\\t')\n",
    "# forward_table = pd.Series(codon_usage_table.AA.values,index=codon_usage_table.Codon).to_dict()\n",
    "\n",
    "# back_table = {}\n",
    "# for key in forward_table:\n",
    "#     val = forward_table[key]\n",
    "#     if val not in back_table.keys():\n",
    "#         back_table[val] = [key]\n",
    "#     else:\n",
    "#         back_table[val].append(key)\n",
    "\n",
    "# codon_to_int = {}\n",
    "# i=0\n",
    "# for codon in forward_table.keys():\n",
    "#     codon_to_int[codon] = i\n",
    "#     codon_to_int[i] = codon\n",
    "#     i += 1\n",
    "        \n",
    "# gene_space = []\n",
    "# for aa in aa_seq:\n",
    "#     all_cds = back_table[aa]\n",
    "#     gene_space.append(all_cds)\n",
    "global codon_to_int\n",
    "\n",
    "codon_to_int, gene_space = init_parameters(codon_usage_table_loc, aa_seq)\n",
    "    \n",
    "gene_space_int = [[codon_to_int[x] for x in y] for y in gene_space]"
   ]
  },
  {
   "cell_type": "markdown",
   "metadata": {},
   "source": [
    "# Fitness Function"
   ]
  },
  {
   "cell_type": "code",
   "execution_count": 12,
   "metadata": {},
   "outputs": [],
   "source": [
    "# def get_sps(seq_aa):\n",
    "    \n",
    "#     prediction_ind, acceptor_prob, donor_prob = splicing_gpu.predictSites( seq_aa )\n",
    "#     print('SPS called.')\n",
    "# #     val = 1-np.mean(donor_prob)\n",
    "#     if any(acceptor_prob > .8) or any(donor_prob > .8):\n",
    "#         val = 1 \n",
    "#     else: \n",
    "#         val = 0\n",
    "\n",
    "#     return(val)\n",
    "\n",
    "# def get_bai(seq_aa,bai_index_loc):\n",
    "#     my_env = os.environ.copy()\n",
    "#     my_env[\"PATH\"] = \"/data/software/anaconda3/envs/bfx/lib/perl5/site_perl/5.22.0:\"+\n",
    "#         \"/data/software/anaconda3/pkgs/texlive-selected-20160715-1/share/texlive/tlpkg:\" + \n",
    "#         my_env[\"PATH\"]\n",
    "#     bai_script = ' '.join(['nice','perl','bai.pl',seq_aa,bai_index_loc])\n",
    "#     out = subprocess.run(bai_script, shell=True, capture_output=True, env=my_env).stdout\n",
    "#     bai = float(out)\n",
    "#     return(bai)\n",
    "\n",
    "# def get_cai(seq_aa, cai_index_loc):\n",
    "#     seq_aa_bin = seq_aa.encode('utf-8')\n",
    "#     hash_object = hashlib.sha1(seq_aa_bin)\n",
    "#     hex_dig = hash_object.hexdigest()\n",
    "#     idx = hex_dig[0:6]\n",
    "    \n",
    "#     if not os.path.isdir('tmp'):\n",
    "#         os.mkdir('tmp') \n",
    "#     file_fa = os.path.join('tmp', str(idx)+'.fa')\n",
    "#     file_ca = os.path.join('tmp', str(idx)+'.ca')\n",
    "    \n",
    "#     with open(file_fa ,'w') as fileo:\n",
    "#         fileo.write('>fa\\n'+seq_aa+'\\n')\n",
    "        \n",
    "#     cmd = 'nice cai ' + file_fa + ' -cfile ' + cai_index_loc + ' -outfile '+ file_ca\n",
    "#     subprocess.Popen(cmd, shell=True)\n",
    "\n",
    "#     # wait for file to refresh\n",
    "#     i=0\n",
    "#     while not os.path.isfile(file_ca):\n",
    "#         if i > 100:\n",
    "#             print('File not generated:'+file_ca)\n",
    "#             return(0)\n",
    "#         time.sleep(.1)\n",
    "#         i+=1\n",
    "    \n",
    "#     with open(file_ca,'r') as fileo:\n",
    "#         lines = fileo.readline()\n",
    "    \n",
    "#     cai = float(lines.split()[-1])\n",
    "        \n",
    "# #     cmd = 'rm '+ file_ca +' '+ file_ca\n",
    "# #     subprocess.Popen(cmd, shell=True)\n",
    "    \n",
    "#     return(cai)\n",
    "\n",
    "\n",
    "# def get_cpg(seq):\n",
    "#     count = seq.count(\"CG\")\n",
    "#     cpg_score = ( len(seq) - count * 2 ) / len(seq)  \n",
    "#     return(cpg_score)\n",
    "\n",
    "# def get_pas(seq_aa):\n",
    "#     seq_aa_bin = seq_aa.encode('utf-8')\n",
    "#     hash_object = hashlib.sha1(seq_aa_bin)\n",
    "#     hex_dig = hash_object.hexdigest()\n",
    "#     idx = hex_dig[0:6]\n",
    "    \n",
    "#     if not os.path.isdir('tmp'):\n",
    "#         os.mkdir('tmp') \n",
    "#     file_fa = os.path.join('tmp', str(idx)+'.fa')\n",
    "#     file_prefix = os.path.join('tmp', str(idx)+'_pasta')\n",
    "#     file_out = file_prefix+'.pas.txt'\n",
    "    \n",
    "#     if not os.path.isfile(file_fa):\n",
    "#         with open(file_fa ,'w') as fileo:\n",
    "#             fileo.write('>fa\\n'+seq_aa+'\\n')\n",
    "        \n",
    "#     cmd = 'nice sh deep_pasta.sh ' + file_fa + ' ' + file_prefix\n",
    "#     subprocess.Popen(cmd, shell=True)\n",
    "\n",
    "#     # wait for file to refresh\n",
    "#     i=0\n",
    "#     while not os.path.isfile(file_out):\n",
    "#         if i > 3000:\n",
    "#             print('File not generated:'+file_out)\n",
    "#             return(0)\n",
    "#         time.sleep(.1)\n",
    "#         i+=1\n",
    "    \n",
    "#     with open(file_out,'r') as fileo:\n",
    "#         lines = fileo.readline()\n",
    "    \n",
    "# #     print(lines)\n",
    "#     if len(lines.split()) < 2:\n",
    "#         return(0)\n",
    "    \n",
    "#     pas = float(lines.split()[-1])\n",
    "            \n",
    "#     return(pas)\n",
    "\n",
    "def get_memory():\n",
    "    with open('/proc/meminfo', 'r') as mem:\n",
    "        free_memory = 0\n",
    "        for i in mem:\n",
    "            sline = i.split()\n",
    "            if str(sline[0]) in ('MemFree:', 'Buffers:', 'Cached:'):\n",
    "                free_memory += int(sline[1])\n",
    "    return free_memory\n",
    "\n",
    "\n",
    "def fitness_func(solution, solution_idx):\n",
    "    \n",
    "    if not type(solution) is str:\n",
    "        seq_aa = ''.join([codon_to_int[x] for x in solution])\n",
    "    else:\n",
    "        seq_aa = solution\n",
    "#     print(solution_idx)\n",
    "\n",
    "    tmp_dict = {}\n",
    "    \n",
    "    #Check for redundancy\n",
    "    if seq_aa in all_sols.keys():\n",
    "        fitness = all_sols[seq_aa]['fitness']\n",
    "\n",
    "    else:\n",
    "        fitness = 0\n",
    "        total_weight=0\n",
    "        \n",
    "        if cai_on:\n",
    "            cai = get_cai(seq_aa, cai_index_loc)\n",
    "            fitness += cai*cai_w\n",
    "            total_weight += cai_w\n",
    "            tmp_dict['cai'] = cai\n",
    "        \n",
    "        if bai_on:\n",
    "            bai = get_bai(seq_aa, bai_index_loc)\n",
    "            fitness += bai*bai_w\n",
    "            total_weight += bai_w\n",
    "            tmp_dict['bai'] = bai\n",
    "            \n",
    "        if cpg_on:\n",
    "            cpg = get_cpg(seq_aa)\n",
    "            fitness += cpg*cpg_w\n",
    "            total_weight += cpg_w\n",
    "            tmp_dict['cpg'] = cpgfii\\\n",
    "            oo\n",
    "\n",
    "        if sps_on:\n",
    "            sps = get_sps(seq_aa)\n",
    "            print('SPS retuned.')\n",
    "\n",
    "            fitness += sps*sps_w\n",
    "            total_weight += sps_w\n",
    "            tmp_dict['sps'] = sps\n",
    "\n",
    "        if pas_on:\n",
    "            pas = get_pas(seq_aa)\n",
    "            fitness += pas*pas_w\n",
    "            total_weight += pas_w\n",
    "            tmp_dict['pas'] = pas\n",
    "\n",
    "        fitness = fitness/total_weight\n",
    "        tmp_dict['fitness'] = fitness\n",
    "        all_sols[seq_aa] = tmp_dict\n",
    "        \n",
    "        #     output = numpy.sum(solution*function_inputs)\n",
    "        #     fitness = 1.0 / numpy.abs(output - desired_output)\n",
    "    \n",
    "    return fitness\n",
    "\n"
   ]
  },
  {
   "cell_type": "markdown",
   "metadata": {},
   "source": [
    "# Genetic Algorithm"
   ]
  },
  {
   "cell_type": "code",
   "execution_count": 13,
   "metadata": {},
   "outputs": [],
   "source": [
    "\"\"\"\n",
    "Given the following function:\n",
    "    y = f(w1:w6) = w1x1 + w2x2 + w3x3 + w4x4 + w5x5 + 6wx6\n",
    "    where (x1,x2,x3,x4,x5,x6)=(4,-2,3.5,5,-11,-4.7) and y=44\n",
    "What are the best values for the 6 weights (w1 to w6)? We are going to use the genetic algorithm to optimize this function.\n",
    "\"\"\"\n",
    "\n",
    "# def convert_aa_int():\n",
    "    \n",
    "desired_output = 1 # Function output.\n",
    "all_sols = {}\n",
    "\n",
    "fitness_function = fitness_func\n",
    "\n",
    "num_generations = 1 # Number of generations.\n",
    "num_parents_mating = 5 # Number of solutions to be selected as parents in the mating pool.\n",
    "\n",
    "# To prepare the initial population, there are 2 ways:\n",
    "# 1) Prepare it yourself and pass it to the initial_population parameter. This way is useful when the user wants to start the genetic algorithm with a custom initial population.\n",
    "# 2) Assign valid integer values to the sol_per_pop and num_genes parameters. If the initial_population parameter exists, then the sol_per_pop and num_genes parameters are useless.\n",
    "sol_per_pop = 5 # Number of solutions in the population.\n",
    "num_genes = len(gene_space)\n",
    "\n",
    "# init_range_low = -2\n",
    "# init_range_high = 5\n",
    "\n",
    "parent_selection_type = \"sss\" # Type of parent selection.\n",
    "keep_parents = 5 # Number of parents to keep in the next population. -1 means keep all parents and 0 means keep nothing.\n",
    "\n",
    "crossover_type = \"two_points\" # Type of the crossover operator.\n",
    "\n",
    "# Parameters of the mutation operation.\n",
    "mutation_type = \"random\" # Type of the mutation operator.\n",
    "mutation_percent_genes = 5 # Percentage of genes to mutate. This parameter has no action if the parameter mutation_num_genes exists or when mutation_type is None.\n",
    "\n",
    "last_fitness = 0\n",
    "\n",
    "def callback_generation(ga_instance):\n",
    "    global last_fitness\n",
    "    print(\"Generation = {generation}\".format(generation=ga_instance.generations_completed))\n",
    "    print(\"Fitness    = {fitness}\".format(fitness=ga_instance.best_solution()[1]))\n",
    "    print(\"Change     = {change}\".format(change=ga_instance.best_solution()[1] - last_fitness))\n",
    "    last_fitness = ga_instance.best_solution()[1]\n",
    "\n",
    "# Creating an instance of the GA class inside the ga module. Some parameters are initialized within the constructor.\n",
    "\n",
    "def fitness_wrapper(solution):\n",
    "    print('fitness called')\n",
    "    return fitness_func(solution, 0)\n",
    "\n",
    "\n",
    "class PooledGA(pygad.GA):\n",
    "\n",
    "    def cal_pop_fitness(self):\n",
    "        global pool\n",
    "        print('cal_fitness called')\n",
    "        pop_fitness = pool.map(fitness_wrapper, self.population)\n",
    "#         print(pop_fitness)\n",
    "        pop_fitness = np.array(pop_fitness)\n",
    "        return pop_fitness\n",
    "\n",
    "ga_instance = PooledGA(num_generations=num_generations,\n",
    "                       num_parents_mating=num_parents_mating, \n",
    "                       fitness_func=fitness_function,\n",
    "                       sol_per_pop=sol_per_pop, \n",
    "                       num_genes=num_genes,\n",
    "#                        init_range_low=init_range_low,\n",
    "#                        init_range_high=init_range_high,\n",
    "                       parent_selection_type=parent_selection_type,\n",
    "                       keep_parents=keep_parents,\n",
    "                       crossover_type=crossover_type,\n",
    "                       mutation_type=mutation_type,\n",
    "                       mutation_percent_genes=mutation_percent_genes,\n",
    "                       on_generation=callback_generation,\n",
    "                       gene_type=int,\n",
    "                       gene_space=gene_space_int,\n",
    ")\n",
    "\n",
    "ga_instance = pygad.GA(num_generations=num_generations,\n",
    "                       num_parents_mating=num_parents_mating, \n",
    "                       fitness_func=fitness_function,\n",
    "                       sol_per_pop=sol_per_pop, \n",
    "                       num_genes=num_genes,\n",
    "#                        init_range_low=init_range_low,\n",
    "#                        init_range_high=init_range_high,\n",
    "                       parent_selection_type=parent_selection_type,\n",
    "                       keep_parents=keep_parents,\n",
    "                       crossover_type=crossover_type,\n",
    "                       mutation_type=mutation_type,\n",
    "                       mutation_percent_genes=mutation_percent_genes,\n",
    "                       on_generation=callback_generation,\n",
    "                       gene_type=int,\n",
    "                       gene_space=gene_space_int,\n",
    ")\n"
   ]
  },
  {
   "cell_type": "code",
   "execution_count": 14,
   "metadata": {
    "scrolled": true
   },
   "outputs": [
    {
     "ename": "NameError",
     "evalue": "name 'codon_to_int' is not defined",
     "output_type": "error",
     "traceback": [
      "\u001b[0;31m---------------------------------------------------------------------------\u001b[0m",
      "\u001b[0;31mNameError\u001b[0m                                 Traceback (most recent call last)",
      "\u001b[0;32m<timed exec>\u001b[0m in \u001b[0;36m<module>\u001b[0;34m\u001b[0m\n",
      "\u001b[0;32m/data/software/anaconda3/envs/bfx/lib/python3.7/site-packages/pygad/pygad.py\u001b[0m in \u001b[0;36mrun\u001b[0;34m(self)\u001b[0m\n\u001b[1;32m    576\u001b[0m         \u001b[0;32mfor\u001b[0m \u001b[0mgeneration\u001b[0m \u001b[0;32min\u001b[0m \u001b[0mrange\u001b[0m\u001b[0;34m(\u001b[0m\u001b[0mself\u001b[0m\u001b[0;34m.\u001b[0m\u001b[0mnum_generations\u001b[0m\u001b[0;34m)\u001b[0m\u001b[0;34m:\u001b[0m\u001b[0;34m\u001b[0m\u001b[0;34m\u001b[0m\u001b[0m\n\u001b[1;32m    577\u001b[0m             \u001b[0;31m# Measuring the fitness of each chromosome in the population.\u001b[0m\u001b[0;34m\u001b[0m\u001b[0;34m\u001b[0m\u001b[0;34m\u001b[0m\u001b[0m\n\u001b[0;32m--> 578\u001b[0;31m             \u001b[0mfitness\u001b[0m \u001b[0;34m=\u001b[0m \u001b[0mself\u001b[0m\u001b[0;34m.\u001b[0m\u001b[0mcal_pop_fitness\u001b[0m\u001b[0;34m(\u001b[0m\u001b[0;34m)\u001b[0m\u001b[0;34m\u001b[0m\u001b[0;34m\u001b[0m\u001b[0m\n\u001b[0m\u001b[1;32m    579\u001b[0m             \u001b[0;32mif\u001b[0m \u001b[0;32mnot\u001b[0m \u001b[0;34m(\u001b[0m\u001b[0mself\u001b[0m\u001b[0;34m.\u001b[0m\u001b[0mon_fitness\u001b[0m \u001b[0;32mis\u001b[0m \u001b[0;32mNone\u001b[0m\u001b[0;34m)\u001b[0m\u001b[0;34m:\u001b[0m\u001b[0;34m\u001b[0m\u001b[0;34m\u001b[0m\u001b[0m\n\u001b[1;32m    580\u001b[0m                 \u001b[0mself\u001b[0m\u001b[0;34m.\u001b[0m\u001b[0mon_fitness\u001b[0m\u001b[0;34m(\u001b[0m\u001b[0mself\u001b[0m\u001b[0;34m,\u001b[0m \u001b[0mfitness\u001b[0m\u001b[0;34m)\u001b[0m\u001b[0;34m\u001b[0m\u001b[0;34m\u001b[0m\u001b[0m\n",
      "\u001b[0;32m/data/software/anaconda3/envs/bfx/lib/python3.7/site-packages/pygad/pygad.py\u001b[0m in \u001b[0;36mcal_pop_fitness\u001b[0;34m(self)\u001b[0m\n\u001b[1;32m    555\u001b[0m         \u001b[0;31m# Calculating the fitness value of each solution in the current population.\u001b[0m\u001b[0;34m\u001b[0m\u001b[0;34m\u001b[0m\u001b[0;34m\u001b[0m\u001b[0m\n\u001b[1;32m    556\u001b[0m         \u001b[0;32mfor\u001b[0m \u001b[0msol_idx\u001b[0m\u001b[0;34m,\u001b[0m \u001b[0msol\u001b[0m \u001b[0;32min\u001b[0m \u001b[0menumerate\u001b[0m\u001b[0;34m(\u001b[0m\u001b[0mself\u001b[0m\u001b[0;34m.\u001b[0m\u001b[0mpopulation\u001b[0m\u001b[0;34m)\u001b[0m\u001b[0;34m:\u001b[0m\u001b[0;34m\u001b[0m\u001b[0;34m\u001b[0m\u001b[0m\n\u001b[0;32m--> 557\u001b[0;31m             \u001b[0mfitness\u001b[0m \u001b[0;34m=\u001b[0m \u001b[0mself\u001b[0m\u001b[0;34m.\u001b[0m\u001b[0mfitness_func\u001b[0m\u001b[0;34m(\u001b[0m\u001b[0msol\u001b[0m\u001b[0;34m,\u001b[0m \u001b[0msol_idx\u001b[0m\u001b[0;34m)\u001b[0m\u001b[0;34m\u001b[0m\u001b[0;34m\u001b[0m\u001b[0m\n\u001b[0m\u001b[1;32m    558\u001b[0m             \u001b[0mpop_fitness\u001b[0m\u001b[0;34m.\u001b[0m\u001b[0mappend\u001b[0m\u001b[0;34m(\u001b[0m\u001b[0mfitness\u001b[0m\u001b[0;34m)\u001b[0m\u001b[0;34m\u001b[0m\u001b[0;34m\u001b[0m\u001b[0m\n\u001b[1;32m    559\u001b[0m \u001b[0;34m\u001b[0m\u001b[0m\n",
      "\u001b[0;32m~/wip/Python_GA/general_functions.py\u001b[0m in \u001b[0;36mfitness_func\u001b[0;34m(solution, solution_idx)\u001b[0m\n\u001b[1;32m     55\u001b[0m \u001b[0;34m\u001b[0m\u001b[0m\n\u001b[1;32m     56\u001b[0m     \u001b[0;32mif\u001b[0m \u001b[0;32mnot\u001b[0m \u001b[0mtype\u001b[0m\u001b[0;34m(\u001b[0m\u001b[0msolution\u001b[0m\u001b[0;34m)\u001b[0m \u001b[0;32mis\u001b[0m \u001b[0mstr\u001b[0m\u001b[0;34m:\u001b[0m\u001b[0;34m\u001b[0m\u001b[0;34m\u001b[0m\u001b[0m\n\u001b[0;32m---> 57\u001b[0;31m         \u001b[0mseq_aa\u001b[0m \u001b[0;34m=\u001b[0m \u001b[0;34m''\u001b[0m\u001b[0;34m.\u001b[0m\u001b[0mjoin\u001b[0m\u001b[0;34m(\u001b[0m\u001b[0;34m[\u001b[0m\u001b[0mcodon_to_int\u001b[0m\u001b[0;34m[\u001b[0m\u001b[0mx\u001b[0m\u001b[0;34m]\u001b[0m \u001b[0;32mfor\u001b[0m \u001b[0mx\u001b[0m \u001b[0;32min\u001b[0m \u001b[0msolution\u001b[0m\u001b[0;34m]\u001b[0m\u001b[0;34m)\u001b[0m\u001b[0;34m\u001b[0m\u001b[0;34m\u001b[0m\u001b[0m\n\u001b[0m\u001b[1;32m     58\u001b[0m     \u001b[0;32melse\u001b[0m\u001b[0;34m:\u001b[0m\u001b[0;34m\u001b[0m\u001b[0;34m\u001b[0m\u001b[0m\n\u001b[1;32m     59\u001b[0m         \u001b[0mseq_aa\u001b[0m \u001b[0;34m=\u001b[0m \u001b[0msolution\u001b[0m\u001b[0;34m\u001b[0m\u001b[0;34m\u001b[0m\u001b[0m\n",
      "\u001b[0;32m~/wip/Python_GA/general_functions.py\u001b[0m in \u001b[0;36m<listcomp>\u001b[0;34m(.0)\u001b[0m\n\u001b[1;32m     55\u001b[0m \u001b[0;34m\u001b[0m\u001b[0m\n\u001b[1;32m     56\u001b[0m     \u001b[0;32mif\u001b[0m \u001b[0;32mnot\u001b[0m \u001b[0mtype\u001b[0m\u001b[0;34m(\u001b[0m\u001b[0msolution\u001b[0m\u001b[0;34m)\u001b[0m \u001b[0;32mis\u001b[0m \u001b[0mstr\u001b[0m\u001b[0;34m:\u001b[0m\u001b[0;34m\u001b[0m\u001b[0;34m\u001b[0m\u001b[0m\n\u001b[0;32m---> 57\u001b[0;31m         \u001b[0mseq_aa\u001b[0m \u001b[0;34m=\u001b[0m \u001b[0;34m''\u001b[0m\u001b[0;34m.\u001b[0m\u001b[0mjoin\u001b[0m\u001b[0;34m(\u001b[0m\u001b[0;34m[\u001b[0m\u001b[0mcodon_to_int\u001b[0m\u001b[0;34m[\u001b[0m\u001b[0mx\u001b[0m\u001b[0;34m]\u001b[0m \u001b[0;32mfor\u001b[0m \u001b[0mx\u001b[0m \u001b[0;32min\u001b[0m \u001b[0msolution\u001b[0m\u001b[0;34m]\u001b[0m\u001b[0;34m)\u001b[0m\u001b[0;34m\u001b[0m\u001b[0;34m\u001b[0m\u001b[0m\n\u001b[0m\u001b[1;32m     58\u001b[0m     \u001b[0;32melse\u001b[0m\u001b[0;34m:\u001b[0m\u001b[0;34m\u001b[0m\u001b[0;34m\u001b[0m\u001b[0m\n\u001b[1;32m     59\u001b[0m         \u001b[0mseq_aa\u001b[0m \u001b[0;34m=\u001b[0m \u001b[0msolution\u001b[0m\u001b[0;34m\u001b[0m\u001b[0;34m\u001b[0m\u001b[0m\n",
      "\u001b[0;31mNameError\u001b[0m: name 'codon_to_int' is not defined"
     ]
    }
   ],
   "source": [
    "%%time\n",
    "\n",
    "# Running the GA to optimize the parameters of the function.\n",
    "ga_instance.run()\n",
    "\n",
    "# After the generations complete, some plots are showed that summarize the how the outputs/fitenss values evolve over generations.\n",
    "ga_instance.plot_result()\n",
    "\n",
    "# Returning the details of the best solution.\n",
    "solution, solution_fitness, solution_idx = ga_instance.best_solution()\n",
    "print(\"Parameters of the best solution : {solution}\".format(solution=solution))\n",
    "seq_aa = ''.join([codon_to_int[x] for x in solution])\n",
    "print(\"NT Sequence of the best solution : {seq_aa}\".format(seq_aa=seq_aa))\n",
    "print(\"Fitness value of the best solution = {solution_fitness}\".format(solution_fitness=solution_fitness))\n",
    "print(\"Index of the best solution : {solution_idx}\".format(solution_idx=solution_idx))\n",
    "\n",
    "# # prediction = numpy.sum(numpy.array(function_inputs)*solution) Replace\n",
    "# print(\"Predicted output based on the best solution : {prediction}\".format(prediction=prediction))\n",
    "\n",
    "if ga_instance.best_solution_generation != -1:\n",
    "    print(\"Best fitness value reached after {best_solution_generation} generations.\".format(best_solution_generation=ga_instance.best_solution_generation))\n",
    "\n",
    "# Saving the GA instance.\n",
    "filename = 'genetic' # The filename to which the instance is saved. The name is without extension.\n",
    "ga_instance.save(filename=filename)\n",
    "\n",
    "# Loading the saved GA instance.\n",
    "loaded_ga_instance = pygad.load(filename=filename)\n",
    "loaded_ga_instance.plot_result()"
   ]
  },
  {
   "cell_type": "code",
   "execution_count": 15,
   "metadata": {},
   "outputs": [
    {
     "name": "stdout",
     "output_type": "stream",
     "text": [
      "Started\n"
     ]
    },
    {
     "ename": "NameError",
     "evalue": "name 'Pool' is not defined",
     "output_type": "error",
     "traceback": [
      "\u001b[0;31m---------------------------------------------------------------------------\u001b[0m",
      "\u001b[0;31mNameError\u001b[0m                                 Traceback (most recent call last)",
      "\u001b[0;32m<timed exec>\u001b[0m in \u001b[0;36m<module>\u001b[0;34m\u001b[0m\n",
      "\u001b[0;31mNameError\u001b[0m: name 'Pool' is not defined"
     ]
    }
   ],
   "source": [
    "%%time\n",
    "\n",
    "print('Started')\n",
    "with Pool(processes=5) as pool:\n",
    "\n",
    "    # Running the GA to optimize the parameters of the funcabstion.\n",
    "    ga_instance.run()\n",
    "\n",
    "    # After the generations complete, some plots are showed that summarize the how the outputs/fitenss values evolve over generations.\n",
    "    ga_instance.plot_result()\n",
    "\n",
    "    # Returning the details of the best solution.\n",
    "    solution, solution_fitness, solution_idx = ga_instance.best_solution()\n",
    "    print(\"Parameters of the best solution : {solution}\".format(solution=solution))\n",
    "    print(\"Fitness value of the best solution = {solution_fitness}\".format(solution_fitness=solution_fitness))\n",
    "    print(\"Index of the best solution : {solution_idx}\".format(solution_idx=solution_idx))\n",
    "\n",
    "    solution_aa = ''.join([codon_to_int[x] for x in solution])\n",
    "   \n",
    "    print(\"Predicted output based on the best solution : {prediction}\".format(prediction=solution_aa))\n",
    "\n",
    "#     if ga_instance_pool.best_solution_generation != -1:\n",
    "#         print(\"Best fitness value reached after {best_solution_generation} generations.\".format(best_solution_generation=ga_instance.best_solution_generation))\n",
    "\n",
    "    # Saving the GA instance.\n",
    "    filename = 'genetic' # The filename to which the instance is saved. The name is without extension.\n",
    "    ga_instance.save(filename=filename)\n",
    "\n",
    "# Loading the saved GA instance.\n",
    "loaded_ga_instance = pygad.load(filename=filename)\n",
    "loaded_ga_instance.plot_result()"
   ]
  },
  {
   "cell_type": "code",
   "execution_count": 16,
   "metadata": {},
   "outputs": [],
   "source": [
    "# solution_aa\n",
    "# all_sols[seq_aa]\n"
   ]
  },
  {
   "cell_type": "code",
   "execution_count": 17,
   "metadata": {},
   "outputs": [
    {
     "ename": "IndentationError",
     "evalue": "expected an indented block (<unknown>, line 3)",
     "output_type": "error",
     "traceback": [
      "Traceback \u001b[0;36m(most recent call last)\u001b[0m:\n",
      "  File \u001b[1;32m\"/data/software/anaconda3/envs/bfx/lib/python3.7/site-packages/IPython/core/interactiveshell.py\"\u001b[0m, line \u001b[1;32m3331\u001b[0m, in \u001b[1;35mrun_code\u001b[0m\n    exec(code_obj, self.user_global_ns, self.user_ns)\n",
      "  File \u001b[1;32m\"<ipython-input-17-181e7798cfc2>\"\u001b[0m, line \u001b[1;32m1\u001b[0m, in \u001b[1;35m<module>\u001b[0m\n    get_ipython().run_cell_magic('time', '', \"with Pool(processes=5) as pool:\\n\\nseq_aa = 'ATGAGACCTTTACGACCTCGGGCAGCGCTACTGGCATTGTTAGCTTCTTTATTGGCAGCTCCGCCAGTAGCCCCCGCGGAAGCTCCTCATCTCGTCCACGTTGACGCGGCCCGCGCCCTTTGGCCACTAAGGCGGTTCTGGAGAAGCACGGGTTTCTGTCCTCCCCTTCCGCATTCCCAAGCGGACCAGTATGTACTCTCATGGGATCAGCAACTGAATTTAGCCTATGTTGGTGCGGTCCCACACAGAGGGATCAAACAGGTGCGCACCCATTGGCTATTGGAATTGGTTACAACCAGGGGCAGTACTGGCAGAGGGCTGAGCTACAATTTTACGCATCTGGACGGCTACTTAGATCTTCTCAGGGAGAACCAACTACTCCCGGGCTTCGAACTGATGGGAAGTGCCTCCGGGCACTTTACTGATTTCGAGGACAAGCAACAAGTCTTCGAGTGGAAAGATTTAGTCTCGTCTTTGGCTCGCAGGTATATTGGTAGGTACGGGCTAGCGCACGTTTCTAAATGGAATTTTGAAACGTGGAACGAGCCCGACCATCACGACTTCGACAACGTATCGATGACTATGCAGGGGTTTCTCAACTATTATGATGCTTGTAGCGAAGGGCTTAGGGCGGCCTCGCCTGCCCTTCGGCTGGGCGGGCCCGGGGACTCGTTCCATACCCCACCCCGATCCCCATTATCTTGGGGCCTGCTCCGCCATTGCCATGATGGGACGAACTTCTTCACAGGCGAGGCAGGCGTTCGCTTGGACTATATCAGTCTACACCGCAAGGGCGCCCGCTCGAGTATTTCTATCTTAGAGCAGGAAAAAGTGGTGGCGCAGCAAATACGACAATTGTTCCCTAAGTTCGCTGACACACCAATATACAATGACGAGGCAGATCCTCTGGTTGGCTGGTCGTTGCCCCAGCCCTGGCGGGCAGATGTCACCTATGCCGCCATGGTCGTTAAAGTGATAGCACAGCACCAAAATCTTCTACTTGCTAACACGACCAGTGCCTTTCCATACGCTCTATTGTCGAACGATAATGCCTTCTTATCGTACCACCCACATCCGTTTGCCCAGAGAACTCTGACCGCTCGTTTTCAAGTTAATAACACCCGACCGCCGCATGTCCAGCTATTAAGGAAGCCGGTCTTAACCGCCATGGGGCTCCTCGCGCTGCTTGATGAAGAACAACTATGGGCGGAGGTGTCGCAAGCTGGCACTGTCCTAGATTCGAACCATACAGTTGGAGTCTTGGCCTCCGCTCACCGTCCACAAGGACCCGCAGATGCATGGAGGGCAGCGGTTCTAATCTACGCATCTGATGATACCCGGGCTCACCCGAATCGATCGGTAGCAGTTACCCTGCGTCTACGTGGTGTGCCTCCAGGACCGGGTCTAGTCTACGTCACGCGATATCTTGACAATGGCCTATGCAGTCCTGACGGGGAATGGCGGCGCCTCGGTCGACCGGTTTTTCCAACAGCAGAACAGTTTCGACGCATGAGAGCTGCAGAAGATCCTGTAGCAGCAGCCCCCAGGCCATTACCAGCCGGGGGTCGCCTAACACTACGCCCGGCCCTCCGACTTCCATCGTTACTGTTGGTCCATGTCTGCGCACGGCCCGAAAAACCCCCCGGACAAGTCACCCGATTACGAGCGCTTCCATTGACTCAGGGACAGCTAGTGTTGGTATGGTCGGACGAGCATGTTGGTAGTAAGTGCTTGTGGACATACGAAATACAGTTTTCACAAGACGGCAAGGCCTATACGCCGGTATCGAGAAAGCCGTCCACCTTTAATCTATTCGTATTTTCACCTGACACCGGGGCAGTATCCGGGTCTTACCGCGTTCGTGCTTTAGATTACTGGGCTAGGCCCGGGCCATTTTCCGATCCGGTTCCATATTTAGAGGTTCCGGTACCACGAGGTCCTCCCTCCCCTGGGAATCCGTAA'\\nfitness_func(seq_aa,0)\\n\")\n",
      "  File \u001b[1;32m\"/data/software/anaconda3/envs/bfx/lib/python3.7/site-packages/IPython/core/interactiveshell.py\"\u001b[0m, line \u001b[1;32m2362\u001b[0m, in \u001b[1;35mrun_cell_magic\u001b[0m\n    result = fn(*args, **kwargs)\n",
      "  File \u001b[1;32m\"<decorator-gen-61>\"\u001b[0m, line \u001b[1;32m2\u001b[0m, in \u001b[1;35mtime\u001b[0m\n",
      "  File \u001b[1;32m\"/data/software/anaconda3/envs/bfx/lib/python3.7/site-packages/IPython/core/magic.py\"\u001b[0m, line \u001b[1;32m187\u001b[0m, in \u001b[1;35m<lambda>\u001b[0m\n    call = lambda f, *a, **k: f(*a, **k)\n",
      "  File \u001b[1;32m\"/data/software/anaconda3/envs/bfx/lib/python3.7/site-packages/IPython/core/magics/execution.py\"\u001b[0m, line \u001b[1;32m1268\u001b[0m, in \u001b[1;35mtime\u001b[0m\n    expr_ast = self.shell.compile.ast_parse(expr)\n",
      "\u001b[0;36m  File \u001b[0;32m\"/data/software/anaconda3/envs/bfx/lib/python3.7/site-packages/IPython/core/compilerop.py\"\u001b[0;36m, line \u001b[0;32m101\u001b[0;36m, in \u001b[0;35mast_parse\u001b[0;36m\u001b[0m\n\u001b[0;31m    return compile(source, filename, symbol, self.flags | PyCF_ONLY_AST, 1)\u001b[0m\n",
      "\u001b[0;36m  File \u001b[0;32m\"<unknown>\"\u001b[0;36m, line \u001b[0;32m3\u001b[0m\n\u001b[0;31m    seq_aa = 'ATGAGACCTTTACGACCTCGGGCAGCGCTACTGGCATTGTTAGCTTCTTTATTGGCAGCTCCGCCAGTAGCCCCCGCGGAAGCTCCTCATCTCGTCCACGTTGACGCGGCCCGCGCCCTTTGGCCACTAAGGCGGTTCTGGAGAAGCACGGGTTTCTGTCCTCCCCTTCCGCATTCCCAAGCGGACCAGTATGTACTCTCATGGGATCAGCAACTGAATTTAGCCTATGTTGGTGCGGTCCCACACAGAGGGATCAAACAGGTGCGCACCCATTGGCTATTGGAATTGGTTACAACCAGGGGCAGTACTGGCAGAGGGCTGAGCTACAATTTTACGCATCTGGACGGCTACTTAGATCTTCTCAGGGAGAACCAACTACTCCCGGGCTTCGAACTGATGGGAAGTGCCTCCGGGCACTTTACTGATTTCGAGGACAAGCAACAAGTCTTCGAGTGGAAAGATTTAGTCTCGTCTTTGGCTCGCAGGTATATTGGTAGGTACGGGCTAGCGCACGTTTCTAAATGGAATTTTGAAACGTGGAACGAGCCCGACCATCACGACTTCGACAACGTATCGATGACTATGCAGGGGTTTCTCAACTATTATGATGCTTGTAGCGAAGGGCTTAGGGCGGCCTCGCCTGCCCTTCGGCTGGGCGGGCCCGGGGACTCGTTCCATACCCCACCCCGATCCCCATTATCTTGGGGCCTGCTCCGCCATTGCCATGATGGGACGAACTTCTTCACAGGCGAGGCAGGCGTTCGCTTGGACTATATCAGTCTACACCGCAAGGGCGCCCGCTCGAGTATTTCTATCTTAGAGCAGGAAAAAGTGGTGGCGCAGCAAATACGACAATTGTTCCCTAAGTTCGCTGACACACCAATATACAATGACGAGGCAGATCCTCTGGTTGGCTGGTCGTTGCCCCAGCCCTGGCGGGCAGATGTCACCTATGCCGCCATGGTCGTTAAAGTGATAGCACAGCACCAAAATCTTCTACTTGCTAACACGACCAGTGCCTTTCCATACGCTCTATTGTCGAACGATAATGCCTTCTTATCGTACCACCCACATCCGTTTGCCCAGAGAACTCTGACCGCTCGTTTTCAAGTTAATAACACCCGACCGCCGCATGTCCAGCTATTAAGGAAGCCGGTCTTAACCGCCATGGGGCTCCTCGCGCTGCTTGATGAAGAACAACTATGGGCGGAGGTGTCGCAAGCTGGCACTGTCCTAGATTCGAACCATACAGTTGGAGTCTTGGCCTCCGCTCACCGTCCACAAGGACCCGCAGATGCATGGAGGGCAGCGGTTCTAATCTACGCATCTGATGATACCCGGGCTCACCCGAATCGATCGGTAGCAGTTACCCTGCGTCTACGTGGTGTGCCTCCAGGACCGGGTCTAGTCTACGTCACGCGATATCTTGACAATGGCCTATGCAGTCCTGACGGGGAATGGCGGCGCCTCGGTCGACCGGTTTTTCCAACAGCAGAACAGTTTCGACGCATGAGAGCTGCAGAAGATCCTGTAGCAGCAGCCCCCAGGCCATTACCAGCCGGGGGTCGCCTAACACTACGCCCGGCCCTCCGACTTCCATCGTTACTGTTGGTCCATGTCTGCGCACGGCCCGAAAAACCCCCCGGACAAGTCACCCGATTACGAGCGCTTCCATTGACTCAGGGACAGCTAGTGTTGGTATGGTCGGACGAGCATGTTGGTAGTAAGTGCTTGTGGACATACGAAATACAGTTTTCACAAGACGGCAAGGCCTATACGCCGGTATCGAGAAAGCCGTCCACCTTTAATCTATTCGTATTTTCACCTGACACCGGGGCAGTATCCGGGTCTTACCGCGTTCGTGCTTTAGATTACTGGGCTAGGCCCGGGCCATTTTCCGATCCGGTTCCATATTTAGAGGTTCCGGTACCACGAGGTCCTCCCTCCCCTGGGAATCCGTAA'\u001b[0m\n\u001b[0m         ^\u001b[0m\n\u001b[0;31mIndentationError\u001b[0m\u001b[0;31m:\u001b[0m expected an indented block\n"
     ]
    }
   ],
   "source": [
    "%%time\n",
    "with Pool(processes=5) as pool:\n",
    "\n",
    "seq_aa = 'ATGAGACCTTTACGACCTCGGGCAGCGCTACTGGCATTGTTAGCTTCTTTATTGGCAGCTCCGCCAGTAGCCCCCGCGGAAGCTCCTCATCTCGTCCACGTTGACGCGGCCCGCGCCCTTTGGCCACTAAGGCGGTTCTGGAGAAGCACGGGTTTCTGTCCTCCCCTTCCGCATTCCCAAGCGGACCAGTATGTACTCTCATGGGATCAGCAACTGAATTTAGCCTATGTTGGTGCGGTCCCACACAGAGGGATCAAACAGGTGCGCACCCATTGGCTATTGGAATTGGTTACAACCAGGGGCAGTACTGGCAGAGGGCTGAGCTACAATTTTACGCATCTGGACGGCTACTTAGATCTTCTCAGGGAGAACCAACTACTCCCGGGCTTCGAACTGATGGGAAGTGCCTCCGGGCACTTTACTGATTTCGAGGACAAGCAACAAGTCTTCGAGTGGAAAGATTTAGTCTCGTCTTTGGCTCGCAGGTATATTGGTAGGTACGGGCTAGCGCACGTTTCTAAATGGAATTTTGAAACGTGGAACGAGCCCGACCATCACGACTTCGACAACGTATCGATGACTATGCAGGGGTTTCTCAACTATTATGATGCTTGTAGCGAAGGGCTTAGGGCGGCCTCGCCTGCCCTTCGGCTGGGCGGGCCCGGGGACTCGTTCCATACCCCACCCCGATCCCCATTATCTTGGGGCCTGCTCCGCCATTGCCATGATGGGACGAACTTCTTCACAGGCGAGGCAGGCGTTCGCTTGGACTATATCAGTCTACACCGCAAGGGCGCCCGCTCGAGTATTTCTATCTTAGAGCAGGAAAAAGTGGTGGCGCAGCAAATACGACAATTGTTCCCTAAGTTCGCTGACACACCAATATACAATGACGAGGCAGATCCTCTGGTTGGCTGGTCGTTGCCCCAGCCCTGGCGGGCAGATGTCACCTATGCCGCCATGGTCGTTAAAGTGATAGCACAGCACCAAAATCTTCTACTTGCTAACACGACCAGTGCCTTTCCATACGCTCTATTGTCGAACGATAATGCCTTCTTATCGTACCACCCACATCCGTTTGCCCAGAGAACTCTGACCGCTCGTTTTCAAGTTAATAACACCCGACCGCCGCATGTCCAGCTATTAAGGAAGCCGGTCTTAACCGCCATGGGGCTCCTCGCGCTGCTTGATGAAGAACAACTATGGGCGGAGGTGTCGCAAGCTGGCACTGTCCTAGATTCGAACCATACAGTTGGAGTCTTGGCCTCCGCTCACCGTCCACAAGGACCCGCAGATGCATGGAGGGCAGCGGTTCTAATCTACGCATCTGATGATACCCGGGCTCACCCGAATCGATCGGTAGCAGTTACCCTGCGTCTACGTGGTGTGCCTCCAGGACCGGGTCTAGTCTACGTCACGCGATATCTTGACAATGGCCTATGCAGTCCTGACGGGGAATGGCGGCGCCTCGGTCGACCGGTTTTTCCAACAGCAGAACAGTTTCGACGCATGAGAGCTGCAGAAGATCCTGTAGCAGCAGCCCCCAGGCCATTACCAGCCGGGGGTCGCCTAACACTACGCCCGGCCCTCCGACTTCCATCGTTACTGTTGGTCCATGTCTGCGCACGGCCCGAAAAACCCCCCGGACAAGTCACCCGATTACGAGCGCTTCCATTGACTCAGGGACAGCTAGTGTTGGTATGGTCGGACGAGCATGTTGGTAGTAAGTGCTTGTGGACATACGAAATACAGTTTTCACAAGACGGCAAGGCCTATACGCCGGTATCGAGAAAGCCGTCCACCTTTAATCTATTCGTATTTTCACCTGACACCGGGGCAGTATCCGGGTCTTACCGCGTTCGTGCTTTAGATTACTGGGCTAGGCCCGGGCCATTTTCCGATCCGGTTCCATATTTAGAGGTTCCGGTACCACGAGGTCCTCCCTCCCCTGGGAATCCGTAA'\n",
    "fitness_func(seq_aa,0)\n"
   ]
  }
 ],
 "metadata": {
  "kernelspec": {
   "display_name": "Python 3",
   "language": "python",
   "name": "python3"
  },
  "language_info": {
   "codemirror_mode": {
    "name": "ipython",
    "version": 3
   },
   "file_extension": ".py",
   "mimetype": "text/x-python",
   "name": "python",
   "nbconvert_exporter": "python",
   "pygments_lexer": "ipython3",
   "version": "3.7.6"
  }
 },
 "nbformat": 4,
 "nbformat_minor": 4
}
