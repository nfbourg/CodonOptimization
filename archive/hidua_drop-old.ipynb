{
 "cells": [
  {
   "cell_type": "markdown",
   "metadata": {},
   "source": [
    "# Test on Hidua with dropdown menu\n",
    "env = Python (codon)"
   ]
  },
  {
   "cell_type": "markdown",
   "metadata": {},
   "source": [
    "# Imports\n"
   ]
  },
  {
   "cell_type": "code",
   "execution_count": 2,
   "metadata": {},
   "outputs": [
    {
     "name": "stderr",
     "output_type": "stream",
     "text": [
      "Using TensorFlow backend.\n"
     ]
    }
   ],
   "source": [
    "import os\n",
    "import pygad\n",
    "\n",
    "cwd = os.getcwd()\n",
    "pygad_loc = '/grid/home/nbourgeois/codonOpt'\n",
    "os.chdir(pygad_loc)\n",
    "from general_functions import *\n",
    "from metrics import *\n",
    "os.chdir(cwd)"
   ]
  },
  {
   "cell_type": "markdown",
   "metadata": {},
   "source": [
    "# Variables"
   ]
  },
  {
   "cell_type": "code",
   "execution_count": 3,
   "metadata": {},
   "outputs": [
    {
     "data": {
      "application/vnd.jupyter.widget-view+json": {
       "model_id": "5ce0c6ebbc5b4a16bcd7c8b0dd3dc7c6",
       "version_major": 2,
       "version_minor": 0
      },
      "text/plain": [
       "Dropdown(description='Tissue:', index=53, options=('Adipose_Subcutaneous', 'Adipose_Visceral_Omentum', 'Adrena…"
      ]
     },
     "metadata": {},
     "output_type": "display_data"
    }
   ],
   "source": [
    "ga_input = '/grid/home/nbourgeois/data/test_proteins/hidua/hidua.pep.fas' #sequence pep.fas Input\n",
    "output = '' #output filename\n",
    "dropdown = tissue_opt(pygad_loc) # Tissue type for CoCoPuts\n",
    "dropdown\n",
    "# Pick Brain_Cerebellum"
   ]
  },
  {
   "cell_type": "markdown",
   "metadata": {},
   "source": [
    "## Metrics"
   ]
  },
  {
   "cell_type": "code",
   "execution_count": 4,
   "metadata": {},
   "outputs": [],
   "source": [
    "cai_on = True\n",
    "bai_on = True\n",
    "cpg_on = True"
   ]
  },
  {
   "cell_type": "markdown",
   "metadata": {},
   "source": [
    "## PyGAD"
   ]
  },
  {
   "cell_type": "markdown",
   "metadata": {},
   "source": [
    "# Start"
   ]
  },
  {
   "cell_type": "markdown",
   "metadata": {},
   "source": [
    "## Parameters"
   ]
  },
  {
   "cell_type": "markdown",
   "metadata": {},
   "source": [
    "### Weights"
   ]
  },
  {
   "cell_type": "code",
   "execution_count": 5,
   "metadata": {},
   "outputs": [],
   "source": [
    "cai_w = 1 *cai_on\n",
    "bai_w = 1 *bai_on\n",
    "cpg_w = 1 *cpg_on"
   ]
  },
  {
   "cell_type": "code",
   "execution_count": 6,
   "metadata": {},
   "outputs": [],
   "source": [
    "global total_weight\n",
    "total_weight = sum([cai_w,bai_w,cpg_w])"
   ]
  },
  {
   "cell_type": "markdown",
   "metadata": {},
   "source": [
    "### Locations"
   ]
  },
  {
   "cell_type": "code",
   "execution_count": 7,
   "metadata": {},
   "outputs": [],
   "source": [
    "tissue = dropdown.value\n",
    "cai_weight_dict = get_codon_weights(tissue)\n",
    "bai_weight_dict = get_bicodon_weights(tissue)"
   ]
  },
  {
   "cell_type": "markdown",
   "metadata": {},
   "source": [
    "# Algorithm"
   ]
  },
  {
   "cell_type": "markdown",
   "metadata": {},
   "source": [
    "### Read in File"
   ]
  },
  {
   "cell_type": "code",
   "execution_count": 8,
   "metadata": {},
   "outputs": [],
   "source": [
    "(keys, seqs) = readFasta(ga_input)\n",
    "if len(seqs) == 1:\n",
    "    aa_seq=str(seqs[0])"
   ]
  },
  {
   "cell_type": "markdown",
   "metadata": {},
   "source": [
    "### Initialize Parameters\n",
    "- gene_space\n",
    "- codon_to_int dictionary"
   ]
  },
  {
   "cell_type": "code",
   "execution_count": 9,
   "metadata": {},
   "outputs": [],
   "source": [
    "global codon_to_int\n",
    "\n",
    "codon_to_int, gene_space = init_parameters(aa_seq)\n",
    "    \n",
    "gene_space_int = [[codon_to_int[x] for x in y] for y in gene_space]"
   ]
  },
  {
   "cell_type": "markdown",
   "metadata": {},
   "source": [
    "# Fitness Function"
   ]
  },
  {
   "cell_type": "code",
   "execution_count": 10,
   "metadata": {},
   "outputs": [],
   "source": [
    "def fitness_func(solution, solution_idx):\n",
    "    \n",
    "    global all_sols\n",
    "    \n",
    "    if not type(solution) is str:\n",
    "        seq_aa = ''.join([codon_to_int[x] for x in solution])\n",
    "    else:\n",
    "        seq_aa = solution\n",
    "#     print(solution_idx)\n",
    "\n",
    "    tmp_dict = {}\n",
    "    \n",
    "    #Check for redundancy\n",
    "    if seq_aa in all_sols.keys():\n",
    "        fitness = all_sols[seq_aa]['fitness']\n",
    "\n",
    "    else:\n",
    "        fitness = 0\n",
    "        \n",
    "        if cai_on:\n",
    "            cai = get_cai(seq_aa, cai_weight_dict)\n",
    "            fitness += cai*cai_w\n",
    "            tmp_dict['cai'] = cai\n",
    "        \n",
    "        if bai_on:\n",
    "            bai = get_bai(seq_aa, bai_weight_dict)\n",
    "            fitness += bai*bai_w\n",
    "            tmp_dict['bai'] = bai\n",
    "            \n",
    "        if cpg_on:\n",
    "            cpg = get_cpg(seq_aa)\n",
    "            fitness += cpg*cpg_w\n",
    "            tmp_dict['cpg'] = cpg\n",
    "\n",
    "        fitness = fitness/total_weight\n",
    "        tmp_dict['fitness'] = fitness\n",
    "        all_sols[seq_aa] = tmp_dict\n",
    "        \n",
    "    \n",
    "    return fitness\n",
    "\n",
    "    "
   ]
  },
  {
   "cell_type": "markdown",
   "metadata": {},
   "source": [
    "# Genetic Algorithm"
   ]
  },
  {
   "cell_type": "code",
   "execution_count": 11,
   "metadata": {},
   "outputs": [],
   "source": [
    "\"\"\"\n",
    "Given the following function:\n",
    "    y = f(w1:w6) = w1x1 + w2x2 + w3x3 + w4x4 + w5x5 + 6wx6\n",
    "    where (x1,x2,x3,x4,x5,x6)=(4,-2,3.5,5,-11,-4.7) and y=44\n",
    "What are the best values for the 6 weights (w1 to w6)? We are going to use the genetic algorithm to optimize this function.\n",
    "\"\"\"\n",
    "\n",
    "# def convert_aa_int():\n",
    "    \n",
    "desired_output = 1 # Function output.\n",
    "all_sols = {}\n",
    "\n",
    "fitness_function = fitness_func\n",
    "\n",
    "num_generations = 100 # Number of generations.\n",
    "num_parents_mating = 5 # Number of solutions to be selected as parents in the mating pool.\n",
    "\n",
    "sol_per_pop = 20 \n",
    "\n",
    "parent_selection_type = \"sss\" # Type of parent selection.\n",
    "keep_parents = 5 # Number of parents to keep in the next population. -1 means keep all parents and 0 means keep nothing.\n",
    "\n",
    "crossover_type = \"two_points\" # Type of the crossover operator.\n",
    "\n",
    "# Parameters of the mutation operation.\n",
    "mutation_type = \"random\" # Type of the mutation operator.\n",
    "mutation_percent_genes = 5 # Percentage of genes to mutate. This parameter has no action if the parameter mutation_num_genes exists or when mutation_type is None.\n",
    "\n",
    "last_fitness = 0\n",
    "\n",
    "def callback_generation(ga_instance):\n",
    "    global last_fitness\n",
    "    print(\"Generation = {generation}\".format(generation=ga_instance.generations_completed))\n",
    "    print(\"Fitness    = {fitness}\".format(fitness=ga_instance.best_solution()[1]))\n",
    "    print(\"Change     = {change}\".format(change=ga_instance.best_solution()[1] - last_fitness))\n",
    "    last_fitness = ga_instance.best_solution()[1]\n",
    "\n",
    "# Creating an instance of the GA class inside the ga module. Some parameters are initialized within the constructor.\n",
    "\n",
    "num_genes = len(gene_space)\n",
    "ga_instance = pygad.GA(num_generations=num_generations,\n",
    "                       num_parents_mating=num_parents_mating, \n",
    "                       fitness_func=fitness_function,\n",
    "                       sol_per_pop=sol_per_pop, \n",
    "                       num_genes=num_genes,\n",
    "                       parent_selection_type=parent_selection_type,\n",
    "                       keep_parents=keep_parents,\n",
    "                       crossover_type=crossover_type,\n",
    "                       mutation_type=mutation_type,\n",
    "                       mutation_percent_genes=mutation_percent_genes,\n",
    "                       on_generation=callback_generation,\n",
    "                       gene_type=int,\n",
    "                       gene_space=gene_space_int,\n",
    ")\n"
   ]
  },
  {
   "cell_type": "code",
   "execution_count": 12,
   "metadata": {
    "scrolled": true
   },
   "outputs": [
    {
     "name": "stdout",
     "output_type": "stream",
     "text": [
      "Generation = 1\n",
      "Fitness    = 0.5988515939016771\n",
      "Change     = 0.5988515939016771\n",
      "Generation = 2\n",
      "Fitness    = 0.6069488203677738\n",
      "Change     = 0.008097226466096674\n",
      "Generation = 3\n",
      "Fitness    = 0.6071754601916369\n",
      "Change     = 0.00022663982386317283\n",
      "Generation = 4\n",
      "Fitness    = 0.6142241260498617\n",
      "Change     = 0.007048665858224723\n",
      "Generation = 5\n",
      "Fitness    = 0.6168604434997534\n",
      "Change     = 0.0026363174498917896\n",
      "Generation = 6\n",
      "Fitness    = 0.6189023390923559\n",
      "Change     = 0.002041895592602483\n",
      "Generation = 7\n",
      "Fitness    = 0.6233436653249349\n",
      "Change     = 0.004441326232578979\n",
      "Generation = 8\n",
      "Fitness    = 0.6319517924809055\n",
      "Change     = 0.00860812715597059\n",
      "Generation = 9\n",
      "Fitness    = 0.6319517924809055\n",
      "Change     = 0.0\n",
      "Generation = 10\n",
      "Fitness    = 0.6350403326837796\n",
      "Change     = 0.0030885402028740794\n",
      "Generation = 11\n",
      "Fitness    = 0.6351987331345111\n",
      "Change     = 0.00015840045073156617\n",
      "Generation = 12\n",
      "Fitness    = 0.6395011500956476\n",
      "Change     = 0.004302416961136424\n",
      "Generation = 13\n",
      "Fitness    = 0.6450027256376383\n",
      "Change     = 0.005501575541990711\n",
      "Generation = 14\n",
      "Fitness    = 0.6450027256376383\n",
      "Change     = 0.0\n",
      "Generation = 15\n",
      "Fitness    = 0.648642052334725\n",
      "Change     = 0.0036393266970867755\n",
      "Generation = 16\n",
      "Fitness    = 0.648642052334725\n",
      "Change     = 0.0\n",
      "Generation = 17\n",
      "Fitness    = 0.648642052334725\n",
      "Change     = 0.0\n",
      "Generation = 18\n",
      "Fitness    = 0.648642052334725\n",
      "Change     = 0.0\n",
      "Generation = 19\n",
      "Fitness    = 0.648642052334725\n",
      "Change     = 0.0\n",
      "Generation = 20\n",
      "Fitness    = 0.6554603203386545\n",
      "Change     = 0.006818268003929484\n",
      "Generation = 21\n",
      "Fitness    = 0.6576432957532757\n",
      "Change     = 0.002182975414621202\n",
      "Generation = 22\n",
      "Fitness    = 0.6605182423952313\n",
      "Change     = 0.0028749466419555336\n",
      "Generation = 23\n",
      "Fitness    = 0.6605182423952313\n",
      "Change     = 0.0\n",
      "Generation = 24\n",
      "Fitness    = 0.6655371396462514\n",
      "Change     = 0.005018897251020116\n",
      "Generation = 25\n",
      "Fitness    = 0.6655371396462514\n",
      "Change     = 0.0\n",
      "Generation = 26\n",
      "Fitness    = 0.6655371396462514\n",
      "Change     = 0.0\n",
      "Generation = 27\n",
      "Fitness    = 0.6655371396462514\n",
      "Change     = 0.0\n",
      "Generation = 28\n",
      "Fitness    = 0.6664259574030686\n",
      "Change     = 0.0008888177568172617\n",
      "Generation = 29\n",
      "Fitness    = 0.6685548225045377\n",
      "Change     = 0.002128865101469035\n",
      "Generation = 30\n",
      "Fitness    = 0.6702473297854706\n",
      "Change     = 0.0016925072809329533\n",
      "Generation = 31\n",
      "Fitness    = 0.6702473297854706\n",
      "Change     = 0.0\n",
      "Generation = 32\n",
      "Fitness    = 0.6713455080794795\n",
      "Change     = 0.0010981782940088225\n",
      "Generation = 33\n",
      "Fitness    = 0.6713455080794795\n",
      "Change     = 0.0\n",
      "Generation = 34\n",
      "Fitness    = 0.6745995679046692\n",
      "Change     = 0.003254059825189781\n",
      "Generation = 35\n",
      "Fitness    = 0.6745995679046692\n",
      "Change     = 0.0\n",
      "Generation = 36\n",
      "Fitness    = 0.6745995679046692\n",
      "Change     = 0.0\n",
      "Generation = 37\n",
      "Fitness    = 0.6745995679046692\n",
      "Change     = 0.0\n",
      "Generation = 38\n",
      "Fitness    = 0.6745995679046692\n",
      "Change     = 0.0\n",
      "Generation = 39\n",
      "Fitness    = 0.6747782354824229\n",
      "Change     = 0.00017866757775364395\n",
      "Generation = 40\n",
      "Fitness    = 0.6747782354824229\n",
      "Change     = 0.0\n",
      "Generation = 41\n",
      "Fitness    = 0.6747782354824229\n",
      "Change     = 0.0\n",
      "Generation = 42\n",
      "Fitness    = 0.6747782354824229\n",
      "Change     = 0.0\n",
      "Generation = 43\n",
      "Fitness    = 0.6747782354824229\n",
      "Change     = 0.0\n",
      "Generation = 44\n",
      "Fitness    = 0.6747782354824229\n",
      "Change     = 0.0\n",
      "Generation = 45\n",
      "Fitness    = 0.6749803934115673\n",
      "Change     = 0.00020215792914446418\n",
      "Generation = 46\n",
      "Fitness    = 0.6749803934115673\n",
      "Change     = 0.0\n",
      "Generation = 47\n",
      "Fitness    = 0.6749803934115673\n",
      "Change     = 0.0\n",
      "Generation = 48\n",
      "Fitness    = 0.6749803934115673\n",
      "Change     = 0.0\n",
      "Generation = 49\n",
      "Fitness    = 0.6749803934115673\n",
      "Change     = 0.0\n",
      "Generation = 50\n",
      "Fitness    = 0.6749803934115673\n",
      "Change     = 0.0\n",
      "Generation = 51\n",
      "Fitness    = 0.6749803934115673\n",
      "Change     = 0.0\n",
      "Generation = 52\n",
      "Fitness    = 0.6750029455103211\n",
      "Change     = 2.2552098753791938e-05\n",
      "Generation = 53\n",
      "Fitness    = 0.6750029455103211\n",
      "Change     = 0.0\n",
      "Generation = 54\n",
      "Fitness    = 0.6750029455103211\n",
      "Change     = 0.0\n",
      "Generation = 55\n",
      "Fitness    = 0.6750287604373028\n",
      "Change     = 2.581492698161547e-05\n",
      "Generation = 56\n",
      "Fitness    = 0.6750287604373028\n",
      "Change     = 0.0\n",
      "Generation = 57\n",
      "Fitness    = 0.6750287604373028\n",
      "Change     = 0.0\n",
      "Generation = 58\n",
      "Fitness    = 0.6750287604373028\n",
      "Change     = 0.0\n",
      "Generation = 59\n",
      "Fitness    = 0.6768902928255187\n",
      "Change     = 0.0018615323882159585\n",
      "Generation = 60\n",
      "Fitness    = 0.6768902928255187\n",
      "Change     = 0.0\n",
      "Generation = 61\n",
      "Fitness    = 0.6768902928255187\n",
      "Change     = 0.0\n",
      "Generation = 62\n",
      "Fitness    = 0.6768902928255187\n",
      "Change     = 0.0\n",
      "Generation = 63\n",
      "Fitness    = 0.6772822139315502\n",
      "Change     = 0.00039192110603147867\n",
      "Generation = 64\n",
      "Fitness    = 0.6775024760176382\n",
      "Change     = 0.0002202620860880522\n",
      "Generation = 65\n",
      "Fitness    = 0.6775024760176382\n",
      "Change     = 0.0\n",
      "Generation = 66\n",
      "Fitness    = 0.6838111246510117\n",
      "Change     = 0.006308648633373437\n",
      "Generation = 67\n",
      "Fitness    = 0.6838111246510117\n",
      "Change     = 0.0\n",
      "Generation = 68\n",
      "Fitness    = 0.6838111246510117\n",
      "Change     = 0.0\n",
      "Generation = 69\n",
      "Fitness    = 0.6847686147753737\n",
      "Change     = 0.0009574901243619705\n",
      "Generation = 70\n",
      "Fitness    = 0.6847686147753737\n",
      "Change     = 0.0\n",
      "Generation = 71\n",
      "Fitness    = 0.6847686147753737\n",
      "Change     = 0.0\n",
      "Generation = 72\n",
      "Fitness    = 0.6847686147753737\n",
      "Change     = 0.0\n",
      "Generation = 73\n",
      "Fitness    = 0.6847686147753737\n",
      "Change     = 0.0\n",
      "Generation = 74\n",
      "Fitness    = 0.6847686147753737\n",
      "Change     = 0.0\n",
      "Generation = 75\n",
      "Fitness    = 0.6857462765855252\n",
      "Change     = 0.0009776618101515755\n",
      "Generation = 76\n",
      "Fitness    = 0.6857462765855252\n",
      "Change     = 0.0\n",
      "Generation = 77\n",
      "Fitness    = 0.6857462765855252\n",
      "Change     = 0.0\n",
      "Generation = 78\n",
      "Fitness    = 0.6871923947223705\n",
      "Change     = 0.0014461181368452536\n",
      "Generation = 79\n",
      "Fitness    = 0.6871923947223705\n",
      "Change     = 0.0\n",
      "Generation = 80\n",
      "Fitness    = 0.6871923947223705\n",
      "Change     = 0.0\n",
      "Generation = 81\n",
      "Fitness    = 0.6871923947223705\n",
      "Change     = 0.0\n",
      "Generation = 82\n",
      "Fitness    = 0.6901678025461974\n",
      "Change     = 0.002975407823826881\n",
      "Generation = 83\n",
      "Fitness    = 0.6901678025461974\n",
      "Change     = 0.0\n",
      "Generation = 84\n",
      "Fitness    = 0.6901678025461974\n",
      "Change     = 0.0\n",
      "Generation = 85\n",
      "Fitness    = 0.6901678025461974\n",
      "Change     = 0.0\n",
      "Generation = 86\n",
      "Fitness    = 0.6901678025461974\n",
      "Change     = 0.0\n",
      "Generation = 87\n",
      "Fitness    = 0.6901678025461974\n",
      "Change     = 0.0\n",
      "Generation = 88\n",
      "Fitness    = 0.6901678025461974\n",
      "Change     = 0.0\n",
      "Generation = 89\n",
      "Fitness    = 0.6901678025461974\n",
      "Change     = 0.0\n",
      "Generation = 90\n",
      "Fitness    = 0.6901678025461974\n",
      "Change     = 0.0\n",
      "Generation = 91\n",
      "Fitness    = 0.6901678025461974\n",
      "Change     = 0.0\n",
      "Generation = 92\n",
      "Fitness    = 0.6901678025461974\n",
      "Change     = 0.0\n",
      "Generation = 93\n",
      "Fitness    = 0.6901678025461974\n",
      "Change     = 0.0\n",
      "Generation = 94\n",
      "Fitness    = 0.6901678025461974\n",
      "Change     = 0.0\n",
      "Generation = 95\n",
      "Fitness    = 0.6936564081201707\n",
      "Change     = 0.003488605573973347\n",
      "Generation = 96\n",
      "Fitness    = 0.6936564081201707\n",
      "Change     = 0.0\n",
      "Generation = 97\n",
      "Fitness    = 0.6936564081201707\n",
      "Change     = 0.0\n",
      "Generation = 98\n",
      "Fitness    = 0.6936564081201707\n",
      "Change     = 0.0\n",
      "Generation = 99\n",
      "Fitness    = 0.6936564081201707\n",
      "Change     = 0.0\n",
      "Generation = 100\n",
      "Fitness    = 0.6936564081201707\n",
      "Change     = 0.0\n"
     ]
    },
    {
     "name": "stderr",
     "output_type": "stream",
     "text": [
      "/data/software/anaconda3/envs/bfx-codon/lib/python3.7/site-packages/pygad/pygad.py:3105: UserWarning: Please use the plot_fitness() method instead of plot_result(). The plot_result() method will be removed in the future.\n",
      "  warnings.warn(\"Please use the plot_fitness() method instead of plot_result(). The plot_result() method will be removed in the future.\")\n"
     ]
    },
    {
     "data": {
      "image/png": "[encoded data removed]",
      "text/plain": [
       "<Figure size 432x288 with 1 Axes>"
      ]
     },
     "metadata": {
      "needs_background": "light"
     },
     "output_type": "display_data"
    },
    {
     "name": "stdout",
     "output_type": "stream",
     "text": [
      "Parameters of the best solution : [11 53 38  7 55 36 55 47 44  7  3 44  5  3 44 56  7  7 44 44 38 38 15 45\n",
      " 37 45 31 45 36 21  5 15 21 12 28 46 44 58 44  6 51 37  5 55 59  0 51 58\n",
      " 56 40 61  0 48 36 38  2 37 21 57 23 45 28 23 17 12  7 32 51 29 23 23  7\n",
      " 24  4 45 17 15 63 45 14 37 20 59 63 10 26 23 15 58 40 21 51  5  7 31  5\n",
      " 14 42 41 54 61 33 40 61 58 61  3 56 17 24  0 42 21  4 28 62 17  7 29  5\n",
      "  4 58 31 25 23  3  5 36 61  1 31  7 11 60 34 45 56 62 21  1 40 29  0 31\n",
      " 28 27 23 23 13  1 31 51 27 29  4 13 32 56  7 46 58 54 17  9 61 54 16 61\n",
      "  5 44 20 13 57 27 51 25  1 31 41 51 24 31 36 29 21 21 28  1 28 24 12 56\n",
      " 11 42 11 23 60  1  5 24 16 16 28 45 49 34 30 61  3 59 45 45 56 38 46  3\n",
      " 53  4 62 62 38 61 29 32  0 21 42 36 37 58 34 38  7 56 51 61  6  5 53 21\n",
      " 49 21 28 63 41 25  1  1 43 61 30 47 60 12 55  5 28 16  9 32  4 20 58 26\n",
      " 63 46 58 32 34  9 33 10  7 31 23 31 27 15 12 45 23 22  8 58 23  5  1 38\n",
      " 26  0 44 29 40 36  8 16 24 28 31 46 29 38  4 12 60 51 32  3 37 23 37 51\n",
      " 52 44 28 13 40 17 45 44 11 13 12 26 13  8 44 22 20 23 25  6  7  7 46 24\n",
      " 41 41 56 45  1 36 17 45  3  7 35 24 29 24 45  1  7 33 17 20 37 21 37  0\n",
      " 46 23 52 41  6 40 45 52  1 23 15 24 25 41 59 36 36 21 13 22  7  5 53 26\n",
      " 38 13  3 42 45 11 63  7  7 45  7  5 29 31 30 23  3 51 44 30 12 33 23 47\n",
      " 63 42 15  5 29 33 24 21 41 15 60 13  4 44 33 45 21 58 36 23 63 36 46 29\n",
      " 45 51 58 44 47 13  5  9 16 45 32 28 29 42 52 47 21 38 25 58 34 15 44 14\n",
      " 40  7 58  2 58 60 14 38 37 61 37 61  7 13 17 15 41 53 17  2 29 24 61  5\n",
      " 49 33 38 28 62 31 51 58 59  4 61 52 36 15  0 36 40 46 31 22  0 53 59 11\n",
      " 58 44 44 31 29 38 12 45 46 47 37 59 37  7 38 47 61 61 55  5 41  4 55 37\n",
      " 46  2 55  7 39 32  7  7  7 13 21 13 48 45 59 36 31 27 38 37 63 22 13 41\n",
      " 53  7 55 45  7 38  4 41 23 62 23  7 15  6 12 51 32 28 31 20 12 60 33 27\n",
      " 48  4 51 40 17 30  9 23  1 33 23 28 62 27 45 16 41 38 15 57 54 26 37 33\n",
      " 41  1 24  5  1 12  1 57 38 28 42 62 45 13 32 61 33 17 58 13 59 45  3 28\n",
      " 16 51 45 58 38 63 37  0 32 28 36 13 37 17  3 31 12 38 13 38 59 61 38 39\n",
      " 33 36 63 24 38 18]\n",
      "NT Sequence of the best solution : ATGCGCCCACTGCGGCCTCGGGCGGCTCTGTTGGCTCTCTTGGCTAGTCTGCTGGCTGCTCCACCAGTGGCCCCCGCCGAGGCCCCTCACCTCGTGCACGTTGATGCAGCTAGAGCTCTATGGCCCCTCCGGAGGTTTTGGAGAAGTACTGGCTTTTGTCCTCCATTACCCCACAGCCAGGCCGATCAGTACGTTCTGTCTTGGGACCAGCAGCTGAATCTTGCCTACGTGGGGGCCGTACCCCATAGGGGGATAAAACAGGTGAGAACTCACTGGCTCCTGGAGCTCGTAACAACCCGAGGCTCCACTGGCAGAGGCTTGAGTTACAATTTTACACACCTTGATGGATACCTGGACCTCCTTAGAGAGAACCAGTTGCTCCCTGGCTTCGAGCTGATGGGTTCAGCCAGTGGACACTTCACTGACTTTGAGGATAAGCAGCAGGTCTTCGAGTGGAAGGACCTTGTCTCTAGTCTGGCAAGACGATACATCGGCCGATATGGCCTCGCTCATGTCAGCAAGTGGAACTTCGAGACCTGGAATGAGCCTGACCACCACGATTTCGATAATGTTAGTATGACAATGCAGGGTTTCCTCAATTATTATGATGCCTGCTCAGAAGGCTTGAGGGCCGCCAGTCCAGCATTGCGCCTTGGAGGACCAGGCGACTCTTTTCACACACCTCCCAGATCACCACTGAGTTGGGGCCTACTCCGCCACTGCCACGATGGGACCAACTTCTTCACGGGCGAAGCGGGTGTTCGGCTCGATTATATCTCTCTTCATAGAAAAGGGGCAAGATCTTCAATCTCCATACTGGAGCAGGAGAAGGTGGTTGCCCAGCAAATTAGACAGCTCTTCCCAAAATTTGCTGACACTCCTATTTATAATGATGAGGCAGACCCACTTGTTGGTTGGTCTTTGCCCCAGCCCTGGCGTGCTGATGTCACTTACGCCGCTATGGTCGTTAAAGTCATTGCTCAACATCAGAACCTACTGCTGGCAAATACCACCAGTGCCTTCCCTTACGCCTTGCTGTCGAATGACAATGCCTTCCTGTCCTACCATCCCCACCCCTTTGCACAGCGTACCCTAACTGCCCGTTTCCAGGTGAATAACACCAGGCCTCCTCACGTCCAACTGCTCCGCAAACCAGTCTTGACAGCCATGGGGCTGCTGGCCCTGCTCGACGAGGAACAGTTGTGGGCTGAAGTTTCCCAGGCGGGGACAGTGCTCGACTCCAATCACACCGTGGGTGTCCTTGCTTCCGCCCACAGACCTCAGGGGCCTGCAGACGCCTGGAGAGCTGCGGTCCTCATCTATGCCTCTGATGACACACGTGCGCACCCAAACAGATCAGTGGCTGTAACTCTGAGATTAAGAGGTGTACCACCCGGCCCCGGCCTGGTCTACGTGACCCGCTACTTAGACAATGGCCTCTGCTCCCCAGATGGAGAGTGGAGAAGGCTTGGCCGTCCTGTGTTTCCTACTGCAGAGCAATTTCGCAGGATGAGAGCTGCTGAGGACCCAGTTGCCGCAGCGCCCAGGCCCCTGCCAGCGGGCGGCCGGCTCACCCTTCGGCCCGCATTACGGCTGCCGTCTCTGCTGCTGGTCCACGTCTGTGCCAGGCCTGAGAAGCCACCCGGGCAAGTCACCCGCCTGCGGGCCCTGCCACTTACCCAGGGACAGCTGGTGCTAGTTTGGTCTGATGAGCATGTTGGTTCCAAGTGTCTTTGGACTTACGAAATCCAGTTCTCCCAGGATGGAAAGGCCTATACCCCAGTGAGCCGAAAACCCTCCACCTTCAATCTCTTCGTTTTCAGCCCAGATACAGGAGCCGTCTCTGGCTCCTACAGAGTCAGGGCCTTGGATTATTGGGCCAGACCAGGGCCCTTTTCTGATCCTGTCCCCTACTTGGAGGTTCCAGTCCCAAGGGGCCCACCGTCCCCTGGGAATCCATAA\n",
      "Fitness value of the best solution = 0.6936564081201707\n",
      "Index of the best solution : 0\n",
      "Best fitness value reached after 95 generations.\n"
     ]
    },
    {
     "data": {
      "image/png": "[encoded data removed]",
      "text/plain": [
       "<Figure size 432x288 with 1 Axes>"
      ]
     },
     "metadata": {
      "needs_background": "light"
     },
     "output_type": "display_data"
    },
    {
     "name": "stdout",
     "output_type": "stream",
     "text": [
      "CPU times: user 2.49 s, sys: 93.1 ms, total: 2.59 s\n",
      "Wall time: 2.55 s\n"
     ]
    },
    {
     "data": {
      "image/png": "[encoded data removed]",
      "text/plain": [
       "<Figure size 432x288 with 1 Axes>"
      ]
     },
     "execution_count": 12,
     "metadata": {},
     "output_type": "execute_result"
    }
   ],
   "source": [
    "%%time\n",
    "\n",
    "# Running the GA to optimize the parameters of the function.\n",
    "ga_instance.run()\n",
    "\n",
    "# After the generations complete, some plots are showed that summarize the how the outputs/fitenss values evolve over generations.\n",
    "ga_instance.plot_result()\n",
    "\n",
    "# Returning the details of the best solution.\n",
    "solution, solution_fitness, solution_idx = ga_instance.best_solution()\n",
    "print(\"Parameters of the best solution : {solution}\".format(solution=solution))\n",
    "seq_aa = ''.join([codon_to_int[x] for x in solution])\n",
    "print(\"NT Sequence of the best solution : {seq_aa}\".format(seq_aa=seq_aa))\n",
    "print(\"Fitness value of the best solution = {solution_fitness}\".format(solution_fitness=solution_fitness))\n",
    "print(\"Index of the best solution : {solution_idx}\".format(solution_idx=solution_idx))\n",
    "\n",
    "# # prediction = numpy.sum(numpy.array(function_inputs)*solution) Replace\n",
    "# print(\"Predicted output based on the best solution : {prediction}\".format(prediction=prediction))\n",
    "\n",
    "if ga_instance.best_solution_generation != -1:\n",
    "    print(\"Best fitness value reached after {best_solution_generation} generations.\".format(best_solution_generation=ga_instance.best_solution_generation))\n",
    "\n",
    "# Saving the GA instance.\n",
    " # The filename to which the instance is saved. The name is without extension.\n",
    "ga_instance.save(filename=output)\n",
    "\n",
    "# Loading the saved GA instance.\n",
    "loaded_ga_instance = pygad.load(filename=output)\n",
    "loaded_ga_instance.plot_result()"
   ]
  },
  {
   "cell_type": "code",
   "execution_count": null,
   "metadata": {},
   "outputs": [],
   "source": []
  },
  {
   "cell_type": "code",
   "execution_count": null,
   "metadata": {},
   "outputs": [],
   "source": []
  },
  {
   "cell_type": "code",
   "execution_count": null,
   "metadata": {},
   "outputs": [],
   "source": []
  }
 ],
 "metadata": {
  "kernelspec": {
   "display_name": "Python (codon)",
   "language": "python",
   "name": "bfx-codon"
  },
  "language_info": {
   "codemirror_mode": {
    "name": "ipython",
    "version": 3
   },
   "file_extension": ".py",
   "mimetype": "text/x-python",
   "name": "python",
   "nbconvert_exporter": "python",
   "pygments_lexer": "ipython3",
   "version": "3.7.11"
  }
 },
 "nbformat": 4,
 "nbformat_minor": 4
}
