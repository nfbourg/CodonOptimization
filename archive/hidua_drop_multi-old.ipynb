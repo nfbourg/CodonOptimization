{
 "cells": [
  {
   "cell_type": "markdown",
   "metadata": {},
   "source": [
    "# Test on Hidua with dropdown menu and multithreading\n",
    "env = Python (codon)"
   ]
  },
  {
   "cell_type": "markdown",
   "metadata": {},
   "source": [
    "# Imports\n"
   ]
  },
  {
   "cell_type": "code",
   "execution_count": 1,
   "metadata": {},
   "outputs": [
    {
     "name": "stderr",
     "output_type": "stream",
     "text": [
      "Using TensorFlow backend.\n"
     ]
    }
   ],
   "source": [
    "import os\n",
    "import pygad\n",
    "from multiprocessing import Pool\n",
    "\n",
    "cwd = os.getcwd()\n",
    "pygad_loc = '/grid/home/nbourgeois/codonOpt'\n",
    "os.chdir(pygad_loc)\n",
    "from general_functions import *\n",
    "from metrics import *\n",
    "os.chdir(cwd)"
   ]
  },
  {
   "cell_type": "markdown",
   "metadata": {},
   "source": [
    "# Variables"
   ]
  },
  {
   "cell_type": "code",
   "execution_count": 2,
   "metadata": {},
   "outputs": [
    {
     "data": {
      "application/vnd.jupyter.widget-view+json": {
       "model_id": "73530188415d4ff6a740ec39381c51f4",
       "version_major": 2,
       "version_minor": 0
      },
      "text/plain": [
       "Dropdown(description='Tissue:', index=53, options=('Adipose_Subcutaneous', 'Adipose_Visceral_Omentum', 'Adrena…"
      ]
     },
     "metadata": {},
     "output_type": "display_data"
    }
   ],
   "source": [
    "ga_input = '/grid/home/nbourgeois/data/test_proteins/hidua/hidua.pep.fas' #sequence pep.fas Input\n",
    "output = '' #output filename\n",
    "dropdown = tissue_opt(pygad_loc) # Tissue type for CoCoPuts\n",
    "dropdown\n",
    "# Pick Brain_Cerebellum"
   ]
  },
  {
   "cell_type": "markdown",
   "metadata": {},
   "source": [
    "## Metrics"
   ]
  },
  {
   "cell_type": "code",
   "execution_count": 3,
   "metadata": {},
   "outputs": [],
   "source": [
    "cai_on = True\n",
    "bai_on = True\n",
    "cpg_on = True"
   ]
  },
  {
   "cell_type": "markdown",
   "metadata": {},
   "source": [
    "## PyGAD"
   ]
  },
  {
   "cell_type": "markdown",
   "metadata": {},
   "source": [
    "# Start"
   ]
  },
  {
   "cell_type": "markdown",
   "metadata": {},
   "source": [
    "## Parameters"
   ]
  },
  {
   "cell_type": "markdown",
   "metadata": {},
   "source": [
    "### Weights"
   ]
  },
  {
   "cell_type": "code",
   "execution_count": 4,
   "metadata": {},
   "outputs": [],
   "source": [
    "cai_w = 1 *cai_on\n",
    "bai_w = 1 *bai_on\n",
    "cpg_w = 1 *cpg_on"
   ]
  },
  {
   "cell_type": "code",
   "execution_count": 5,
   "metadata": {},
   "outputs": [],
   "source": [
    "global total_weight\n",
    "total_weight = sum([cai_w,bai_w,cpg_w])"
   ]
  },
  {
   "cell_type": "markdown",
   "metadata": {},
   "source": [
    "### Locations"
   ]
  },
  {
   "cell_type": "code",
   "execution_count": 6,
   "metadata": {},
   "outputs": [],
   "source": [
    "tissue = dropdown.value\n",
    "cai_weight_dict = get_codon_weights(tissue)\n",
    "bai_weight_dict = get_bicodon_weights(tissue)"
   ]
  },
  {
   "cell_type": "markdown",
   "metadata": {},
   "source": [
    "# Algorithm"
   ]
  },
  {
   "cell_type": "markdown",
   "metadata": {},
   "source": [
    "### Read in File"
   ]
  },
  {
   "cell_type": "code",
   "execution_count": 7,
   "metadata": {},
   "outputs": [],
   "source": [
    "(keys, seqs) = readFasta(ga_input)\n",
    "if len(seqs) == 1:\n",
    "    aa_seq=str(seqs[0])"
   ]
  },
  {
   "cell_type": "markdown",
   "metadata": {},
   "source": [
    "### Initialize Parameters\n",
    "- gene_space\n",
    "- codon_to_int dictionary"
   ]
  },
  {
   "cell_type": "code",
   "execution_count": 8,
   "metadata": {},
   "outputs": [],
   "source": [
    "global codon_to_int\n",
    "\n",
    "codon_to_int, gene_space = init_parameters(aa_seq)\n",
    "    \n",
    "gene_space_int = [[codon_to_int[x] for x in y] for y in gene_space]"
   ]
  },
  {
   "cell_type": "markdown",
   "metadata": {},
   "source": [
    "# Fitness Function"
   ]
  },
  {
   "cell_type": "code",
   "execution_count": 9,
   "metadata": {},
   "outputs": [],
   "source": [
    "def fitness_func(solution, solution_idx):\n",
    "    \n",
    "    global all_sols\n",
    "    \n",
    "    if not type(solution) is str:\n",
    "        seq_aa = ''.join([codon_to_int[x] for x in solution])\n",
    "    else:\n",
    "        seq_aa = solution\n",
    "#     print(solution_idx)\n",
    "\n",
    "    tmp_dict = {}\n",
    "    \n",
    "    #Check for redundancy\n",
    "    if seq_aa in all_sols.keys():\n",
    "        fitness = all_sols[seq_aa]['fitness']\n",
    "\n",
    "    else:\n",
    "        fitness = 0\n",
    "        \n",
    "        if cai_on:\n",
    "            cai = get_cai(seq_aa, cai_weight_dict)\n",
    "            fitness += cai*cai_w\n",
    "            tmp_dict['cai'] = cai\n",
    "        \n",
    "        if bai_on:\n",
    "            bai = get_bai(seq_aa, bai_weight_dict)\n",
    "            fitness += bai*bai_w\n",
    "            tmp_dict['bai'] = bai\n",
    "            \n",
    "        if cpg_on:\n",
    "            cpg = get_cpg(seq_aa)\n",
    "            fitness += cpg*cpg_w\n",
    "            tmp_dict['cpg'] = cpg\n",
    "\n",
    "        fitness = fitness/total_weight\n",
    "        tmp_dict['fitness'] = fitness\n",
    "        all_sols[seq_aa] = tmp_dict\n",
    "        \n",
    "    \n",
    "    return fitness\n",
    "\n",
    "    "
   ]
  },
  {
   "cell_type": "markdown",
   "metadata": {},
   "source": [
    "# Genetic Algorithm"
   ]
  },
  {
   "cell_type": "code",
   "execution_count": 10,
   "metadata": {},
   "outputs": [],
   "source": [
    "\"\"\"\n",
    "Given the following function:\n",
    "    y = f(w1:w6) = w1x1 + w2x2 + w3x3 + w4x4 + w5x5 + 6wx6\n",
    "    where (x1,x2,x3,x4,x5,x6)=(4,-2,3.5,5,-11,-4.7) and y=44\n",
    "What are the best values for the 6 weights (w1 to w6)? We are going to use the genetic algorithm to optimize this function.\n",
    "\"\"\"\n",
    "\n",
    "# def convert_aa_int():\n",
    "    \n",
    "desired_output = 1 # Function output.\n",
    "all_sols = {}\n",
    "\n",
    "fitness_function = fitness_func\n",
    "\n",
    "num_generations = 100 # Number of generations.\n",
    "num_parents_mating = 5 # Number of solutions to be selected as parents in the mating pool.\n",
    "\n",
    "sol_per_pop = 20 \n",
    "\n",
    "parent_selection_type = \"sss\" # Type of parent selection.\n",
    "keep_parents = 5 # Number of parents to keep in the next population. -1 means keep all parents and 0 means keep nothing.\n",
    "\n",
    "crossover_type = \"two_points\" # Type of the crossover operator.\n",
    "\n",
    "# Parameters of the mutation operation.\n",
    "mutation_type = \"random\" # Type of the mutation operator.\n",
    "mutation_percent_genes = 5 # Percentage of genes to mutate. This parameter has no action if the parameter mutation_num_genes exists or when mutation_type is None.\n",
    "\n",
    "last_fitness = 0\n",
    "num_genes = len(gene_space)\n",
    "\n",
    "def callback_generation(ga_instance):\n",
    "    global last_fitness\n",
    "    print(\"Generation = {generation}\".format(generation=ga_instance.generations_completed))\n",
    "    print(\"Fitness    = {fitness}\".format(fitness=ga_instance.best_solution()[1]))\n",
    "    print(\"Change     = {change}\".format(change=ga_instance.best_solution()[1] - last_fitness))\n",
    "    last_fitness = ga_instance.best_solution()[1]\n",
    "\n",
    "# Creating an instance of the GA class inside the ga module. Some parameters are initialized within the constructor.\n",
    "\n",
    "def fitness_wrapper(solution):\n",
    "    return fitness_func(solution, 0)\n",
    "\n",
    "\n",
    "class PooledGA(pygad.GA):\n",
    "\n",
    "    def cal_pop_fitness(self):\n",
    "        global pool\n",
    "        pop_fitness = pool.map(fitness_wrapper, self.population)\n",
    "        pop_fitness = np.array(pop_fitness)\n",
    "        return pop_fitness\n",
    "\n",
    "ga_instance = PooledGA(num_generations=num_generations,\n",
    "                       num_parents_mating=num_parents_mating, \n",
    "                       fitness_func=fitness_function,\n",
    "                       sol_per_pop=sol_per_pop, \n",
    "                       num_genes=num_genes,\n",
    "#                        init_range_low=init_range_low,\n",
    "#                        init_range_high=init_range_high,\n",
    "                       parent_selection_type=parent_selection_type,\n",
    "                       keep_parents=keep_parents,\n",
    "                       crossover_type=crossover_type,\n",
    "                       mutation_type=mutation_type,\n",
    "                       mutation_percent_genes=mutation_percent_genes,\n",
    "                       on_generation=callback_generation,\n",
    "                       gene_type=int,\n",
    "                       gene_space=gene_space_int,\n",
    ")\n"
   ]
  },
  {
   "cell_type": "code",
   "execution_count": 11,
   "metadata": {},
   "outputs": [
    {
     "name": "stdout",
     "output_type": "stream",
     "text": [
      "Started\n",
      "ERROR! Session/line number was not unique in database. History logging moved to new session 1493\n",
      "Generation = 1\n",
      "Fitness    = 0.7049168698196447\n",
      "Change     = 0.0\n",
      "Generation = 2\n",
      "Fitness    = 0.7049168698196447\n",
      "Change     = 0.0\n",
      "Generation = 3\n",
      "Fitness    = 0.7049168698196447\n",
      "Change     = 0.0\n",
      "Generation = 4\n",
      "Fitness    = 0.7049168698196447\n",
      "Change     = 0.0\n",
      "Generation = 5\n",
      "Fitness    = 0.7049168698196447\n",
      "Change     = 0.0\n",
      "Generation = 6\n",
      "Fitness    = 0.7049168698196447\n",
      "Change     = 0.0\n",
      "Generation = 7\n",
      "Fitness    = 0.7049168698196447\n",
      "Change     = 0.0\n",
      "Generation = 8\n",
      "Fitness    = 0.7049168698196447\n",
      "Change     = 0.0\n",
      "Generation = 9\n",
      "Fitness    = 0.7054072130551402\n",
      "Change     = 0.0004903432354954607\n",
      "Generation = 10\n",
      "Fitness    = 0.7054072130551402\n",
      "Change     = 0.0\n",
      "Generation = 11\n",
      "Fitness    = 0.7054072130551402\n",
      "Change     = 0.0\n",
      "Generation = 12\n",
      "Fitness    = 0.7087875400669136\n",
      "Change     = 0.0033803270117733764\n",
      "Generation = 13\n",
      "Fitness    = 0.7087875400669136\n",
      "Change     = 0.0\n",
      "Generation = 14\n",
      "Fitness    = 0.7087875400669136\n",
      "Change     = 0.0\n",
      "Generation = 15\n",
      "Fitness    = 0.7087875400669136\n",
      "Change     = 0.0\n",
      "Generation = 16\n",
      "Fitness    = 0.7087875400669136\n",
      "Change     = 0.0\n",
      "Generation = 17\n",
      "Fitness    = 0.7087875400669136\n",
      "Change     = 0.0\n",
      "Generation = 18\n",
      "Fitness    = 0.7087875400669136\n",
      "Change     = 0.0\n",
      "Generation = 19\n",
      "Fitness    = 0.7087875400669136\n",
      "Change     = 0.0\n",
      "Generation = 20\n",
      "Fitness    = 0.7087875400669136\n",
      "Change     = 0.0\n",
      "Generation = 21\n",
      "Fitness    = 0.7087875400669136\n",
      "Change     = 0.0\n",
      "Generation = 22\n",
      "Fitness    = 0.7087875400669136\n",
      "Change     = 0.0\n",
      "Generation = 23\n",
      "Fitness    = 0.7087875400669136\n",
      "Change     = 0.0\n",
      "Generation = 24\n",
      "Fitness    = 0.7087875400669136\n",
      "Change     = 0.0\n",
      "Generation = 25\n",
      "Fitness    = 0.7087875400669136\n",
      "Change     = 0.0\n",
      "Generation = 26\n",
      "Fitness    = 0.7087875400669136\n",
      "Change     = 0.0\n",
      "Generation = 27\n",
      "Fitness    = 0.7087875400669136\n",
      "Change     = 0.0\n",
      "Generation = 28\n",
      "Fitness    = 0.7087875400669136\n",
      "Change     = 0.0\n",
      "Generation = 29\n",
      "Fitness    = 0.7087875400669136\n",
      "Change     = 0.0\n",
      "Generation = 30\n",
      "Fitness    = 0.7087875400669136\n",
      "Change     = 0.0\n",
      "Generation = 31\n",
      "Fitness    = 0.7087875400669136\n",
      "Change     = 0.0\n",
      "Generation = 32\n",
      "Fitness    = 0.7087875400669136\n",
      "Change     = 0.0\n",
      "Generation = 33\n",
      "Fitness    = 0.7087875400669136\n",
      "Change     = 0.0\n",
      "Generation = 34\n",
      "Fitness    = 0.7087875400669136\n",
      "Change     = 0.0\n",
      "Generation = 35\n",
      "Fitness    = 0.7087875400669136\n",
      "Change     = 0.0\n",
      "Generation = 36\n",
      "Fitness    = 0.7087875400669136\n",
      "Change     = 0.0\n",
      "Generation = 37\n",
      "Fitness    = 0.7087875400669136\n",
      "Change     = 0.0\n",
      "Generation = 38\n",
      "Fitness    = 0.7087875400669136\n",
      "Change     = 0.0\n",
      "Generation = 39\n",
      "Fitness    = 0.7087875400669136\n",
      "Change     = 0.0\n",
      "Generation = 40\n",
      "Fitness    = 0.7087875400669136\n",
      "Change     = 0.0\n",
      "Generation = 41\n",
      "Fitness    = 0.7087875400669136\n",
      "Change     = 0.0\n",
      "Generation = 42\n",
      "Fitness    = 0.7087875400669136\n",
      "Change     = 0.0\n",
      "Generation = 43\n",
      "Fitness    = 0.7087875400669136\n",
      "Change     = 0.0\n",
      "Generation = 44\n",
      "Fitness    = 0.7087875400669136\n",
      "Change     = 0.0\n",
      "Generation = 45\n",
      "Fitness    = 0.7087875400669136\n",
      "Change     = 0.0\n",
      "Generation = 46\n",
      "Fitness    = 0.7087875400669136\n",
      "Change     = 0.0\n",
      "Generation = 47\n",
      "Fitness    = 0.7087875400669136\n",
      "Change     = 0.0\n",
      "Generation = 48\n",
      "Fitness    = 0.7087875400669136\n",
      "Change     = 0.0\n",
      "Generation = 49\n",
      "Fitness    = 0.7087875400669136\n",
      "Change     = 0.0\n",
      "Generation = 50\n",
      "Fitness    = 0.7087875400669136\n",
      "Change     = 0.0\n",
      "Generation = 51\n",
      "Fitness    = 0.7087875400669136\n",
      "Change     = 0.0\n",
      "Generation = 52\n",
      "Fitness    = 0.7087875400669136\n",
      "Change     = 0.0\n",
      "Generation = 53\n",
      "Fitness    = 0.7091740164981507\n",
      "Change     = 0.00038647643123712605\n",
      "Generation = 54\n",
      "Fitness    = 0.7091740164981507\n",
      "Change     = 0.0\n",
      "Generation = 55\n",
      "Fitness    = 0.7091740164981507\n",
      "Change     = 0.0\n",
      "Generation = 56\n",
      "Fitness    = 0.7091740164981507\n",
      "Change     = 0.0\n",
      "Generation = 57\n",
      "Fitness    = 0.7098845700715971\n",
      "Change     = 0.0007105535734464041\n",
      "Generation = 58\n",
      "Fitness    = 0.7098845700715971\n",
      "Change     = 0.0\n",
      "Generation = 59\n",
      "Fitness    = 0.7098845700715971\n",
      "Change     = 0.0\n",
      "Generation = 60\n",
      "Fitness    = 0.7098845700715971\n",
      "Change     = 0.0\n",
      "Generation = 61\n",
      "Fitness    = 0.7098845700715971\n",
      "Change     = 0.0\n",
      "Generation = 62\n",
      "Fitness    = 0.7106711982995905\n",
      "Change     = 0.0007866282279933579\n",
      "Generation = 63\n",
      "Fitness    = 0.7106711982995905\n",
      "Change     = 0.0\n",
      "Generation = 64\n",
      "Fitness    = 0.7106711982995905\n",
      "Change     = 0.0\n",
      "Generation = 65\n",
      "Fitness    = 0.7106711982995905\n",
      "Change     = 0.0\n",
      "Generation = 66\n",
      "Fitness    = 0.7106711982995905\n",
      "Change     = 0.0\n",
      "Generation = 67\n",
      "Fitness    = 0.7106711982995905\n",
      "Change     = 0.0\n",
      "Generation = 68\n",
      "Fitness    = 0.7106711982995905\n",
      "Change     = 0.0\n",
      "Generation = 69\n",
      "Fitness    = 0.7106711982995905\n",
      "Change     = 0.0\n",
      "Generation = 70\n",
      "Fitness    = 0.7106711982995905\n",
      "Change     = 0.0\n",
      "Generation = 71\n",
      "Fitness    = 0.7106711982995905\n",
      "Change     = 0.0\n",
      "Generation = 72\n",
      "Fitness    = 0.7106711982995905\n",
      "Change     = 0.0\n",
      "Generation = 73\n",
      "Fitness    = 0.7110233198896384\n",
      "Change     = 0.00035212159004793797\n",
      "Generation = 74\n",
      "Fitness    = 0.711229670593507\n",
      "Change     = 0.00020635070386854082\n",
      "Generation = 75\n",
      "Fitness    = 0.711229670593507\n",
      "Change     = 0.0\n",
      "Generation = 76\n",
      "Fitness    = 0.711229670593507\n",
      "Change     = 0.0\n",
      "Generation = 77\n",
      "Fitness    = 0.711229670593507\n",
      "Change     = 0.0\n",
      "Generation = 78\n",
      "Fitness    = 0.711229670593507\n",
      "Change     = 0.0\n",
      "Generation = 79\n",
      "Fitness    = 0.711229670593507\n",
      "Change     = 0.0\n",
      "Generation = 80\n",
      "Fitness    = 0.711229670593507\n",
      "Change     = 0.0\n",
      "Generation = 81\n",
      "Fitness    = 0.711229670593507\n",
      "Change     = 0.0\n",
      "Generation = 82\n",
      "Fitness    = 0.711229670593507\n",
      "Change     = 0.0\n",
      "Generation = 83\n",
      "Fitness    = 0.711229670593507\n",
      "Change     = 0.0\n",
      "Generation = 84\n",
      "Fitness    = 0.711229670593507\n",
      "Change     = 0.0\n",
      "Generation = 85\n",
      "Fitness    = 0.711229670593507\n",
      "Change     = 0.0\n",
      "Generation = 86\n",
      "Fitness    = 0.7152495818388941\n",
      "Change     = 0.004019911245387142\n",
      "Generation = 87\n",
      "Fitness    = 0.7152495818388941\n",
      "Change     = 0.0\n",
      "Generation = 88\n",
      "Fitness    = 0.7152495818388941\n",
      "Change     = 0.0\n",
      "Generation = 89\n",
      "Fitness    = 0.7152495818388941\n",
      "Change     = 0.0\n",
      "Generation = 90\n",
      "Fitness    = 0.7152495818388941\n",
      "Change     = 0.0\n",
      "Generation = 91\n",
      "Fitness    = 0.7152495818388941\n",
      "Change     = 0.0\n",
      "Generation = 92\n",
      "Fitness    = 0.7152495818388941\n",
      "Change     = 0.0\n",
      "Generation = 93\n",
      "Fitness    = 0.7152495818388941\n",
      "Change     = 0.0\n",
      "Generation = 94\n",
      "Fitness    = 0.7152495818388941\n",
      "Change     = 0.0\n",
      "Generation = 95\n",
      "Fitness    = 0.7152495818388941\n",
      "Change     = 0.0\n",
      "Generation = 96\n",
      "Fitness    = 0.7152495818388941\n",
      "Change     = 0.0\n",
      "Generation = 97\n",
      "Fitness    = 0.7152495818388941\n",
      "Change     = 0.0\n",
      "Generation = 98\n",
      "Fitness    = 0.7152495818388941\n",
      "Change     = 0.0\n",
      "Generation = 99\n",
      "Fitness    = 0.7152495818388941\n",
      "Change     = 0.0\n",
      "Generation = 100\n",
      "Fitness    = 0.7152495818388941\n",
      "Change     = 0.0\n"
     ]
    },
    {
     "data": {
      "image/png": "[encoded data removed]",
      "text/plain": [
       "<Figure size 432x288 with 1 Axes>"
      ]
     },
     "metadata": {
      "needs_background": "light"
     },
     "output_type": "display_data"
    },
    {
     "name": "stdout",
     "output_type": "stream",
     "text": [
      "Parameters of the best solution : [11 53 39  5 58 37 58 46 45  5  7 45  2  7 45 34  7  7 44 44 37 38 14 45\n",
      " 38 44 30 45 37 21  7 12 21 15 28 46 45 54 45  4 51 36  2 58 53  0 51 59\n",
      " 33 40 62  0 48 37 37  7 36 21 33 23 44 28 23 16 13  3 57 51 29 22 22  5\n",
      " 25  6 45 16 15 62 45 13 38 21 59 62  8 26 23 13 55 42 21 51  7  3 30  3\n",
      " 15 40 41 55 61 57 42 61 58 62  4 32 17 24  1 42 21  7 29 61 16  4 28  4\n",
      "  7 58 30 25 22  3  7 36 60  0 30  5 11 61 32 44 32 62 21  0 40 29  0 31\n",
      " 28 27 23 22 15  0 30 51 26 29  4 15 32 32  7 45 59 53 17  9 61 58 17 63\n",
      "  7 45 20 15 57 26 51 24  0 31 41 51 25 31 38 29 20 20 29  0 29 25 13 33\n",
      " 11 40 11 23 61  1  7 25 17 16 28 44 49 34 30 61  7 55 44 45 32 39 45  6\n",
      " 58  7 62 62 38 63 28 57  0 21 41 36 37 58 57 37  7 57 51 61  3  2 58 21\n",
      " 48 20 28 62 42 25  1  1 43 62 31 46 62 12 59  7 29 17  8 32  7 21 59 26\n",
      " 62 45 58 34 57  8 33  9  7 30 23 31 26 15 15 45 23 23  8 58 23  7  1 36\n",
      " 27  0 44 28 40 37  9 16 24 28 30 44 29 38  6 12 61 51 32  4 38 22 38 51\n",
      " 59 44 29 15 41 16 44 44 11 15 14 26 15  9 45 23 21 23 25  7  7  6 44 25\n",
      " 40 41 56 45  0 38 17 44  5  6 57 24 29 24 45  1  7 33 17 21 36 21 37  1\n",
      " 45 23 58 40  7 40 44 55  1 23 12 24 25 41 55 37 36 20 15 22  7  7 59 27\n",
      " 37 15  4 42 45 11 60  7  4 46  3  3 28 31 31 23  7 51 45 31 15 57 23 45\n",
      " 60 42 12  7 28 32 25 21 43 15 63 12  7 45 32 44 20 52 38 22 60 39 45 29\n",
      " 45 51 59 45 46 15  3  8 16 45 32 28 28 42 53 44 21 37 24 52 32 15 45 12\n",
      " 42  6 52  7 58 60 12 37 36 60 36 61  5 15 16 13 41 59 17  4 28 24 62  2\n",
      " 48 32 38 28 60 31 51 53 59  7 61 59 39 15  1 37 41 46 30 23  0 59 53 11\n",
      " 58 46 46 31 29 38 14 44 46 44 37 54 37  6 36 46 61 63 55  5 41  7 53 37\n",
      " 44  7 59  5 38 33  4  5  2 15 21 13 48 44 55 36 30 26 36 38 62 22 15 41\n",
      " 53  5 59 45  5 37  5 41 22 61 22  3 15  4 13 51 32 28 30 20 15 63 57 27\n",
      " 49  3 51 41 16 30  9 23  0 56 23 28 60 27 45 17 40 36 13 32 59 27 37 57\n",
      " 43  1 25  7  0 13  1 57 36 29 42 63 45 13 34 61 57 17 59 15 59 45  7 29\n",
      " 16 51 44 59 37 60 38  0 56 29 38 12 36 17  7 31 13 37 14 37 55 61 38 36\n",
      " 57 36 62 25 38 18]\n",
      "Fitness value of the best solution = 0.7152495818388941\n",
      "Index of the best solution : 0\n",
      "Predicted output based on the best solution : ATGCGCCCGCTCAGACCCAGAGCAGCCCTCCTGGCCTTACTGGCCTCACTGCTGGCTGCTCCCCCAGTAGCCCCAGCTGAAGCCCCCCACCTGGTTCACGTGGATGCAGCCCGAGCCCTTTGGCCTTTAAGACGCTTTTGGAGGTCCACTGGATTTTGTCCCCCCCTGCCTCACTCCCAGGCTGATCAGTATGTCTTGAGCTGGGACCAACAACTCAACCTAGCCTATGTGGGAGCCGTCCCACACAGGGGAATTAAACAGGTCCGGACACACTGGCTGTTGGAATTGGTGACTACCCGGGGCAGCACAGGCAGAGGACTTTCTTACAATTTCACACACCTGGACGGCTATCTTGATCTTCTGAGAGAAAACCAATTGCTGCCTGGTTTTGAACTCATGGGCTCTGCTTCTGGACACTTTACTGACTTTGAGGATAAGCAGCAAGTGTTTGAATGGAAAGACCTTGTGTCTTCTCTGGCCAGGCGCTACATCGGCAGATACGGGCTGGCCCATGTGAGCAAATGGAATTTTGAGACCTGGAACGAGCCAGACCATCATGACTTTGACAACGTCTCCATGACTATGCAGGGCTTCCTGAACTACTATGATGCTTGCTCAGAAGGCCTGCGGGCTGCCTCTCCGGCCCTAAGACTGGGAGGACCAGGGGATAGCTTTCACACCCCTCCCAGAAGCCCCCTGAGCTGGGGCTTGTTAAGACACTGTCATGATGGAACAAACTTCTTCACGGGAGAGGCAGGAGTTAGGCTGGACTACATTTCTCTGCACAGGAAAGGAGCCAGATCAAGCATTTCCATCCTGGAACAGGAGAAAGTGGTGGCCCAGCAGATTAGACAGCTGTTCCCTAAGTTTGCTGATACTCCCATCTATAATGATGAAGCTGACCCACTAGTTGGCTGGTCTCTTCCACAACCATGGAGGGCTGACGTGACCTATGCTGCTATGGTGGTAAAAGTGATCGCCCAGCACCAGAACCTGCTGCTAGCTAACACTACCAGTGCCTTTCCATACGCTCTCCTAAGCAATGACAATGCCTTCCTGTCCTACCACCCTCACCCCTTCGCCCAGAGAACTCTGACTGCTCGGTTCCAGGTTAATAACACCCGGCCCCCTCATGTGCAACTGCTGAGGAAGCCCGTGCTTACAGCCATGGGTCTGCTTGCATTGTTGGATGAGGAGCAGCTGTGGGCCGAGGTGAGCCAGGCCGGTACAGTTCTGGATTCTAACCACACGGTGGGGGTTCTGGCCTCTGCTCATCGTCCACAAGGTCCGGCCGACGCCTGGAGGGCCGCAGTGTTGATTTATGCCTCTGATGATACACGCGCTCACCCCAATCGTTCTGTGGCCGTTACACTACGTCTGAGAGGTGTTCCCCCTGGTCCTGGCCTCGTGTATGTCACCAGGTACCTTGATAATGGATTATGTTCTCCAGATGGTGAGTGGCGCAGGCTGGGCAGGCCGGTGTTCCCCACCGCAGAACAGTTTAGGCGCATGAGAGCAGCAGAGGACCCAGTAGCTGCAGCTCCCCGACCCCTACCTGCAGGCGGGCGGCTCACCCTGCGCCCCGCTCTGAGGCTCCCATCCCTTCTCTTAGTGCACGTCTGTGCTCGGCCTGAAAAACCTCCAGGACAAGTGACCCGCCTCAGGGCCCTCCCCCTCACCCAAGGCCAATTGGTGCTTGTCTGGTCTGATGAACATGTGGGGAGCAAGTGCTTGTGGACCTATGAAATCCAGTTTAGTCAGGATGGTAAGGCCTACACTCCTGTCTCTAGGAAGCCCAGCACGTTCAACCTGTTTGTCTTCAGCCCTGACACAGGGGCCGTCTCAGGCAGCTACAGGGTGAGGGCCCTGGACTATTGGGCTAGGCCCGGTCCATTTAGTGACCCAGTTCCTTACCTGGAGGTCCCCGTACCCCGGGGCCCACCTAGCCCTGGAAACCCATAA\n"
     ]
    },
    {
     "data": {
      "image/png": "[encoded data removed]",
      "text/plain": [
       "<Figure size 432x288 with 1 Axes>"
      ]
     },
     "metadata": {
      "needs_background": "light"
     },
     "output_type": "display_data"
    },
    {
     "name": "stdout",
     "output_type": "stream",
     "text": [
      "CPU times: user 1.58 s, sys: 309 ms, total: 1.89 s\n",
      "Wall time: 2 s\n"
     ]
    },
    {
     "data": {
      "image/png": "[encoded data removed]",
      "text/plain": [
       "<Figure size 432x288 with 1 Axes>"
      ]
     },
     "execution_count": 11,
     "metadata": {},
     "output_type": "execute_result"
    }
   ],
   "source": [
    "%%time\n",
    "\n",
    "print('Started')\n",
    "with Pool(processes=5) as pool:\n",
    "\n",
    "    # Running the GA to optimize the parameters of the funcabstion.\n",
    "    ga_instance.run()\n",
    "\n",
    "    # After the generations complete, some plots are showed that summarize the how the outputs/fitenss values evolve over generations.\n",
    "    ga_instance.plot_result()\n",
    "\n",
    "    # Returning the details of the best solution.\n",
    "    solution, solution_fitness, solution_idx = ga_instance.best_solution()\n",
    "    print(\"Parameters of the best solution : {solution}\".format(solution=solution))\n",
    "    print(\"Fitness value of the best solution = {solution_fitness}\".format(solution_fitness=solution_fitness))\n",
    "    print(\"Index of the best solution : {solution_idx}\".format(solution_idx=solution_idx))\n",
    "\n",
    "    solution_aa = ''.join([codon_to_int[x] for x in solution])\n",
    "   \n",
    "    print(\"Predicted output based on the best solution : {prediction}\".format(prediction=solution_aa))\n",
    "\n",
    "#     if ga_instance_pool.best_solution_generation != -1:\n",
    "#         print(\"Best fitness value reached after {best_solution_generation} generations.\".format(best_solution_generation=ga_instance.best_solution_generation))\n",
    "\n",
    "    # Saving the GA instance.\n",
    "    ga_instance.save(filename=output)\n",
    "\n",
    "# Loading the saved GA instance.\n",
    "loaded_ga_instance = pygad.load(filename=output)\n",
    "loaded_ga_instance.plot_result()"
   ]
  },
  {
   "cell_type": "code",
   "execution_count": null,
   "metadata": {},
   "outputs": [],
   "source": []
  }
 ],
 "metadata": {
  "kernelspec": {
   "display_name": "Python (codon)",
   "language": "python",
   "name": "bfx-codon"
  },
  "language_info": {
   "codemirror_mode": {
    "name": "ipython",
    "version": 3
   },
   "file_extension": ".py",
   "mimetype": "text/x-python",
   "name": "python",
   "nbconvert_exporter": "python",
   "pygments_lexer": "ipython3",
   "version": "3.7.11"
  }
 },
 "nbformat": 4,
 "nbformat_minor": 4
}
