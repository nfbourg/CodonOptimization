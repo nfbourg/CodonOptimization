{
 "cells": [
  {
   "cell_type": "code",
   "execution_count": 1,
   "metadata": {},
   "outputs": [
    {
     "name": "stderr",
     "output_type": "stream",
     "text": [
      "Using TensorFlow backend.\n"
     ]
    }
   ],
   "source": [
    "import os\n",
    "cwd = os.getcwd()\n",
    "pygad_loc = '/grid/home/nbourgeois/codonOpt'\n",
    "os.chdir(pygad_loc)\n",
    "from general_functions import *\n",
    "from metrics import *\n",
    "os.chdir(cwd)"
   ]
  },
  {
   "cell_type": "code",
   "execution_count": 2,
   "metadata": {},
   "outputs": [],
   "source": [
    "ga_input = '/grid/home/nbourgeois/data/codon_jason/final_seq.fa'\n",
    "output = '' #output filename\n",
    "tissue = 'Liver'"
   ]
  },
  {
   "cell_type": "code",
   "execution_count": 3,
   "metadata": {},
   "outputs": [],
   "source": [
    "def get_codon_weights(loc):\n",
    "    # read table\n",
    "    try:\n",
    "        index_loc = os.path.join(pygad_loc,loc)\n",
    "        codon_table_raw = pd.read_csv(index_loc,sep='\\t')\n",
    "\n",
    "    except FileNotFoundError:\n",
    "        print('Invalid Tissue')\n",
    "        return()    \n",
    "\n",
    "    \n",
    "    try:\n",
    "        codon_table = codon_table_raw.set_index('#Codon')\n",
    "    except KeyError:\n",
    "        codon_table = codon_table_raw.set_index('Codon')\n",
    "    maxes = codon_table_raw.groupby(by=['AA'])['Frequency'].max()\n",
    "    codon_table['max_col'] = codon_table.apply(lambda x: maxes[x['AA']],axis=1)\n",
    "    codon_table['weight'] = codon_table['Frequency'] / codon_table['max_col']\n",
    "    weight_dict = codon_table['weight'].to_dict()\n",
    "    \n",
    "    return(weight_dict)\n",
    "\n",
    "def get_bicodon_weights(loc):\n",
    "    \n",
    "    def bicodon_to_AA(string):\n",
    "        cod1 = string[:3]\n",
    "        cod2 = string[3:]\n",
    "        biAA = forward_table[cod1] + forward_table[cod2]\n",
    "        return(biAA)\n",
    "    \n",
    "    def get_forward_table():\n",
    "        codon_usage_table_loc = os.path.join(pygad_loc,'references/codon_usage.getex.txt')\n",
    "        codon_usage_table = pd.read_csv(codon_usage_table_loc,sep='\\t')\n",
    "        forward_table = pd.Series(codon_usage_table.AA.values,index=codon_usage_table.Codon).to_dict()\n",
    "        return(forward_table)\n",
    "     \n",
    "    # read table\n",
    "    try:\n",
    "        index_loc = os.path.join(pygad_loc,loc)\n",
    "        codon_table_raw_t = pd.read_csv(index_loc,sep='\\t')\n",
    "\n",
    "    except FileNotFoundError:\n",
    "        print('Invalid Tissue')\n",
    "        return()    \n",
    "    \n",
    "    codon_table = codon_table_raw_t.T\n",
    "\n",
    "    # add amino acid pair column\n",
    "    bicodons_nt = list(codon_table.index)\n",
    "    forward_table = get_forward_table()\n",
    "    codon_table['AApair'] = list(map(bicodon_to_AA,bicodons_nt))\n",
    "    total = codon_table[0].sum()\n",
    "    \n",
    "    #add frequency\n",
    "    bicodons_nt = list(codon_table.index)\n",
    "    codon_table['AApair'] = list(map(bicodon_to_AA,bicodons_nt))\n",
    "    total = codon_table[0].sum()\n",
    "    codon_table['Frequency'] = codon_table.apply(lambda x: (x[0] / total * 1000) ,axis=1)\n",
    "    \n",
    "    #calculate weights\n",
    "    maxes = codon_table.groupby(by=['AApair'])['Frequency'].max()\n",
    "    codon_table['max_col'] = codon_table.apply(lambda x: maxes[x['AApair']],axis=1)\n",
    "    codon_table['weight'] = codon_table['Frequency'] / codon_table['max_col']\n",
    "    \n",
    "    weight_dict = codon_table['weight'].to_dict()\n",
    "    \n",
    "    return(weight_dict)"
   ]
  },
  {
   "cell_type": "code",
   "execution_count": 4,
   "metadata": {},
   "outputs": [],
   "source": [
    "(fastaIDs, fastaSeqs) = readFasta(ga_input)\n",
    "names = ['_'.join(anid.split(':')[1].split('_')[0:2]) for anid in fastaIDs]"
   ]
  },
  {
   "cell_type": "markdown",
   "metadata": {},
   "source": [
    "# CAI"
   ]
  },
  {
   "cell_type": "code",
   "execution_count": null,
   "metadata": {},
   "outputs": [],
   "source": []
  },
  {
   "cell_type": "code",
   "execution_count": 73,
   "metadata": {},
   "outputs": [
    {
     "data": {
      "text/plain": [
       "0.5371632959562902"
      ]
     },
     "execution_count": 73,
     "metadata": {},
     "output_type": "execute_result"
    }
   ],
   "source": [
    "\n",
    "tissue = 'Liver'\n",
    "orig_weights = get_codon_weights('references/CoCoPUTs_codon_usage/codon_usage/{}.codon.txt'.format(tissue))\n",
    "remade_weights = get_codon_weights('tissue_cocoputs/data/codon_tables/GTEx_{}_codon_orig_v7.tsv'.format(tissue))\n",
    "hi_weights = get_codon_weights('tissue_cocoputs/data/codon_tables/GTEx_{}_codon_hifr_v7.tsv'.format(tissue))\n",
    "\n",
    "orig_cais = []\n",
    "new_cais = []\n",
    "hi_cais = []\n",
    "diffs = []\n",
    "hidiffs = []\n",
    "for fid,aa_seq in zip(fastaIDs, fastaSeqs):\n",
    "    orig_cai = get_cai(aa_seq, orig_weights) *100\n",
    "    orig_cais.append(orig_cai)\n",
    "    new_cai = get_cai(aa_seq, remade_weights)*100\n",
    "    new_cais.append(new_cai)\n",
    "    hi_cai = get_cai(aa_seq, hi_weights)*100\n",
    "    hi_cais.append(hi_cai)\n",
    "    diffs.append(new_cai - orig_cai)\n",
    "    hidiffs.append(hi_cai - orig_cai)\n",
    "cai_table = pd.DataFrame(data = {'Name':names,'Orig':orig_cais,'New':new_cais,'Diff':diffs,'High':hi_cais,'Hi-Diff':hidiffs})\n",
    "cai_table['Diff'].max()"
   ]
  },
  {
   "cell_type": "code",
   "execution_count": null,
   "metadata": {},
   "outputs": [],
   "source": []
  },
  {
   "cell_type": "code",
   "execution_count": 74,
   "metadata": {},
   "outputs": [],
   "source": [
    "tissue = 'Liver'\n",
    "liver_orig_weights = get_codon_weights('references/CoCoPUTs_codon_usage/codon_usage/{}.codon.txt'.format(tissue))\n",
    "tissue = 'Heart_Left_Ventricle'\n",
    "heart_orig_weights = get_codon_weights('references/CoCoPUTs_codon_usage/codon_usage/{}.codon.txt'.format(tissue))\n",
    "# remade_weights = get_codon_weights('tissue_cocoputs/data/codon_tables/GTEx_{}_codon_orig_v7.tsv'.format(tissue))\n",
    "# hi_weights = get_codon_weights('tissue_cocoputs/data/codon_tables/GTEx_{}_codon_hifr_v7.tsv'.format(tissue))"
   ]
  },
  {
   "cell_type": "code",
   "execution_count": 75,
   "metadata": {},
   "outputs": [
    {
     "data": {
      "text/html": [
       "<div>\n",
       "<style scoped>\n",
       "    .dataframe tbody tr th:only-of-type {\n",
       "        vertical-align: middle;\n",
       "    }\n",
       "\n",
       "    .dataframe tbody tr th {\n",
       "        vertical-align: top;\n",
       "    }\n",
       "\n",
       "    .dataframe thead th {\n",
       "        text-align: right;\n",
       "    }\n",
       "</style>\n",
       "<table border=\"1\" class=\"dataframe\">\n",
       "  <thead>\n",
       "    <tr style=\"text-align: right;\">\n",
       "      <th></th>\n",
       "      <th>Codons</th>\n",
       "      <th>Liver</th>\n",
       "      <th>Heart</th>\n",
       "      <th>Diff</th>\n",
       "    </tr>\n",
       "  </thead>\n",
       "  <tbody>\n",
       "    <tr>\n",
       "      <th>0</th>\n",
       "      <td>TTT</td>\n",
       "      <td>0.750000</td>\n",
       "      <td>0.661972</td>\n",
       "      <td>0.088028</td>\n",
       "    </tr>\n",
       "    <tr>\n",
       "      <th>1</th>\n",
       "      <td>TTC</td>\n",
       "      <td>1.000000</td>\n",
       "      <td>1.000000</td>\n",
       "      <td>0.000000</td>\n",
       "    </tr>\n",
       "    <tr>\n",
       "      <th>2</th>\n",
       "      <td>TTA</td>\n",
       "      <td>0.139423</td>\n",
       "      <td>0.101810</td>\n",
       "      <td>0.037613</td>\n",
       "    </tr>\n",
       "    <tr>\n",
       "      <th>3</th>\n",
       "      <td>TTG</td>\n",
       "      <td>0.274038</td>\n",
       "      <td>0.237557</td>\n",
       "      <td>0.036482</td>\n",
       "    </tr>\n",
       "    <tr>\n",
       "      <th>4</th>\n",
       "      <td>CTT</td>\n",
       "      <td>0.283654</td>\n",
       "      <td>0.219457</td>\n",
       "      <td>0.064197</td>\n",
       "    </tr>\n",
       "    <tr>\n",
       "      <th>...</th>\n",
       "      <td>...</td>\n",
       "      <td>...</td>\n",
       "      <td>...</td>\n",
       "      <td>...</td>\n",
       "    </tr>\n",
       "    <tr>\n",
       "      <th>59</th>\n",
       "      <td>AGG</td>\n",
       "      <td>0.936937</td>\n",
       "      <td>0.758865</td>\n",
       "      <td>0.178072</td>\n",
       "    </tr>\n",
       "    <tr>\n",
       "      <th>60</th>\n",
       "      <td>GGT</td>\n",
       "      <td>0.448819</td>\n",
       "      <td>0.454183</td>\n",
       "      <td>0.005364</td>\n",
       "    </tr>\n",
       "    <tr>\n",
       "      <th>61</th>\n",
       "      <td>GGC</td>\n",
       "      <td>1.000000</td>\n",
       "      <td>1.000000</td>\n",
       "      <td>0.000000</td>\n",
       "    </tr>\n",
       "    <tr>\n",
       "      <th>62</th>\n",
       "      <td>GGA</td>\n",
       "      <td>0.653543</td>\n",
       "      <td>0.557769</td>\n",
       "      <td>0.095774</td>\n",
       "    </tr>\n",
       "    <tr>\n",
       "      <th>63</th>\n",
       "      <td>GGG</td>\n",
       "      <td>0.657480</td>\n",
       "      <td>0.633466</td>\n",
       "      <td>0.024014</td>\n",
       "    </tr>\n",
       "  </tbody>\n",
       "</table>\n",
       "<p>64 rows × 4 columns</p>\n",
       "</div>"
      ],
      "text/plain": [
       "   Codons     Liver     Heart      Diff\n",
       "0     TTT  0.750000  0.661972  0.088028\n",
       "1     TTC  1.000000  1.000000  0.000000\n",
       "2     TTA  0.139423  0.101810  0.037613\n",
       "3     TTG  0.274038  0.237557  0.036482\n",
       "4     CTT  0.283654  0.219457  0.064197\n",
       "..    ...       ...       ...       ...\n",
       "59    AGG  0.936937  0.758865  0.178072\n",
       "60    GGT  0.448819  0.454183  0.005364\n",
       "61    GGC  1.000000  1.000000  0.000000\n",
       "62    GGA  0.653543  0.557769  0.095774\n",
       "63    GGG  0.657480  0.633466  0.024014\n",
       "\n",
       "[64 rows x 4 columns]"
      ]
     },
     "execution_count": 75,
     "metadata": {},
     "output_type": "execute_result"
    }
   ],
   "source": [
    "liver_weights = []\n",
    "heart_weights = []\n",
    "codon = []\n",
    "\n",
    "for key in liver_orig_weights:\n",
    "    codon.append(key)\n",
    "    liver_weights.append(liver_orig_weights[key])\n",
    "    heart_weights.append(heart_orig_weights[key])\n",
    "df = pd.DataFrame(data={'Codons':codon,'Liver':liver_weights,'Heart':heart_weights})\n",
    "df['Diff'] = abs( df['Liver'] - df['Heart'] )\n",
    "df"
   ]
  },
  {
   "cell_type": "code",
   "execution_count": 77,
   "metadata": {},
   "outputs": [
    {
     "data": {
      "text/plain": [
       "0.35460992907801414"
      ]
     },
     "execution_count": 77,
     "metadata": {},
     "output_type": "execute_result"
    },
    {
     "name": "stdout",
     "output_type": "stream",
     "text": [
      "ERROR! Session/line number was not unique in database. History logging moved to new session 3078\n"
     ]
    }
   ],
   "source": [
    "df['Diff'].max()"
   ]
  },
  {
   "cell_type": "code",
   "execution_count": null,
   "metadata": {},
   "outputs": [],
   "source": [
    "df['Diff'].max()"
   ]
  },
  {
   "cell_type": "code",
   "execution_count": 76,
   "metadata": {},
   "outputs": [
    {
     "data": {
      "text/plain": [
       "<AxesSubplot:xlabel='Liver', ylabel='Heart'>"
      ]
     },
     "execution_count": 76,
     "metadata": {},
     "output_type": "execute_result"
    },
    {
     "data": {
      "image/png": "[encoded data removed]",
      "text/plain": [
       "<Figure size 432x288 with 1 Axes>"
      ]
     },
     "metadata": {
      "needs_background": "light"
     },
     "output_type": "display_data"
    }
   ],
   "source": [
    "sns.scatterplot(x=\"Liver\", y=\"Heart\", alpha=.1, data=df)\n"
   ]
  },
  {
   "cell_type": "markdown",
   "metadata": {},
   "source": [
    "# BAI"
   ]
  },
  {
   "cell_type": "code",
   "execution_count": 6,
   "metadata": {},
   "outputs": [
    {
     "name": "stderr",
     "output_type": "stream",
     "text": [
      "/data/software/anaconda3/envs/bfx-codon/lib/python3.7/site-packages/ipykernel_launcher.py:58: RuntimeWarning: invalid value encountered in double_scalars\n"
     ]
    }
   ],
   "source": [
    "tissue = 'Lung'\n",
    "orig_weights = get_bicodon_weights('references/CoCoPUTs_codon_usage/bicodon_usage/Liver.bicodon.txt')\n",
    "remade_weights = get_bicodon_weights('tissue_cocoputs/data/bicodon_tables/GTEx_{}_bicodon_orig_v7.tsv'.format(tissue))\n",
    "hi_weights = get_bicodon_weights('tissue_cocoputs/data/bicodon_tables/GTEx_{}_bicodon_test_v7.tsv'.format(tissue))"
   ]
  },
  {
   "cell_type": "code",
   "execution_count": 7,
   "metadata": {},
   "outputs": [],
   "source": [
    "orig_bai = get_bai(aa_seq, orig_weights) *100\n",
    "\n",
    "hi_bai = get_bai(aa_seq, hi_weights)*100\n"
   ]
  },
  {
   "cell_type": "code",
   "execution_count": 8,
   "metadata": {},
   "outputs": [
    {
     "data": {
      "text/plain": [
       "6.1497085596250685"
      ]
     },
     "execution_count": 8,
     "metadata": {},
     "output_type": "execute_result"
    }
   ],
   "source": [
    "\n",
    "orig_bais = []\n",
    "new_bais = []\n",
    "hi_bais = []\n",
    "diffs = []\n",
    "hidiffs = []\n",
    "for fid,aa_seq in zip(fastaIDs, fastaSeqs):\n",
    "    orig_bai = get_bai(aa_seq, orig_weights) *100\n",
    "    orig_bais.append(orig_bai)\n",
    "    new_bai = get_bai(aa_seq, remade_weights)*100\n",
    "    new_bais.append(new_bai)\n",
    "    hi_bai = get_bai(aa_seq, hi_weights)*100\n",
    "    hi_bais.append(hi_bai)\n",
    "    diffs.append(new_bai - orig_bai)\n",
    "    hidiffs.append(hi_bai - orig_bai)\n",
    "bai_table = pd.DataFrame(data = {'Name':names,'Orig':orig_bais,'New':new_bais,'Diff':diffs,'High':hi_bais,'Hi-Diff':hidiffs})\n",
    "bai_table['Diff'].max()"
   ]
  },
  {
   "cell_type": "code",
   "execution_count": 9,
   "metadata": {},
   "outputs": [
    {
     "data": {
      "text/html": [
       "<div>\n",
       "<style scoped>\n",
       "    .dataframe tbody tr th:only-of-type {\n",
       "        vertical-align: middle;\n",
       "    }\n",
       "\n",
       "    .dataframe tbody tr th {\n",
       "        vertical-align: top;\n",
       "    }\n",
       "\n",
       "    .dataframe thead th {\n",
       "        text-align: right;\n",
       "    }\n",
       "</style>\n",
       "<table border=\"1\" class=\"dataframe\">\n",
       "  <thead>\n",
       "    <tr style=\"text-align: right;\">\n",
       "      <th></th>\n",
       "      <th>Name</th>\n",
       "      <th>Orig</th>\n",
       "      <th>New</th>\n",
       "      <th>Diff</th>\n",
       "      <th>High</th>\n",
       "      <th>Hi-Diff</th>\n",
       "    </tr>\n",
       "  </thead>\n",
       "  <tbody>\n",
       "    <tr>\n",
       "      <th>0</th>\n",
       "      <td>cai_0</td>\n",
       "      <td>49.636312</td>\n",
       "      <td>53.695463</td>\n",
       "      <td>4.059151</td>\n",
       "      <td>NaN</td>\n",
       "      <td>NaN</td>\n",
       "    </tr>\n",
       "    <tr>\n",
       "      <th>1</th>\n",
       "      <td>cai_1</td>\n",
       "      <td>55.389658</td>\n",
       "      <td>59.018071</td>\n",
       "      <td>3.628413</td>\n",
       "      <td>NaN</td>\n",
       "      <td>NaN</td>\n",
       "    </tr>\n",
       "    <tr>\n",
       "      <th>2</th>\n",
       "      <td>cai_2</td>\n",
       "      <td>56.645103</td>\n",
       "      <td>60.702536</td>\n",
       "      <td>4.057433</td>\n",
       "      <td>NaN</td>\n",
       "      <td>NaN</td>\n",
       "    </tr>\n",
       "    <tr>\n",
       "      <th>3</th>\n",
       "      <td>cpg_0</td>\n",
       "      <td>35.003562</td>\n",
       "      <td>40.899825</td>\n",
       "      <td>5.896263</td>\n",
       "      <td>NaN</td>\n",
       "      <td>NaN</td>\n",
       "    </tr>\n",
       "    <tr>\n",
       "      <th>4</th>\n",
       "      <td>cpg_1</td>\n",
       "      <td>34.202749</td>\n",
       "      <td>39.929349</td>\n",
       "      <td>5.726599</td>\n",
       "      <td>NaN</td>\n",
       "      <td>NaN</td>\n",
       "    </tr>\n",
       "    <tr>\n",
       "      <th>5</th>\n",
       "      <td>cpg_2</td>\n",
       "      <td>37.656560</td>\n",
       "      <td>43.806269</td>\n",
       "      <td>6.149709</td>\n",
       "      <td>NaN</td>\n",
       "      <td>NaN</td>\n",
       "    </tr>\n",
       "    <tr>\n",
       "      <th>6</th>\n",
       "      <td>bai_0</td>\n",
       "      <td>71.307436</td>\n",
       "      <td>71.686982</td>\n",
       "      <td>0.379546</td>\n",
       "      <td>NaN</td>\n",
       "      <td>NaN</td>\n",
       "    </tr>\n",
       "    <tr>\n",
       "      <th>7</th>\n",
       "      <td>bai_1</td>\n",
       "      <td>71.161317</td>\n",
       "      <td>72.233356</td>\n",
       "      <td>1.072039</td>\n",
       "      <td>NaN</td>\n",
       "      <td>NaN</td>\n",
       "    </tr>\n",
       "    <tr>\n",
       "      <th>8</th>\n",
       "      <td>bai_2</td>\n",
       "      <td>70.982440</td>\n",
       "      <td>72.804082</td>\n",
       "      <td>1.821642</td>\n",
       "      <td>NaN</td>\n",
       "      <td>NaN</td>\n",
       "    </tr>\n",
       "    <tr>\n",
       "      <th>9</th>\n",
       "      <td>cpg-n_0</td>\n",
       "      <td>19.711016</td>\n",
       "      <td>21.149214</td>\n",
       "      <td>1.438198</td>\n",
       "      <td>NaN</td>\n",
       "      <td>NaN</td>\n",
       "    </tr>\n",
       "    <tr>\n",
       "      <th>10</th>\n",
       "      <td>cpg-n_1</td>\n",
       "      <td>18.340718</td>\n",
       "      <td>20.144818</td>\n",
       "      <td>1.804100</td>\n",
       "      <td>NaN</td>\n",
       "      <td>NaN</td>\n",
       "    </tr>\n",
       "    <tr>\n",
       "      <th>11</th>\n",
       "      <td>cpg-n_2</td>\n",
       "      <td>19.864080</td>\n",
       "      <td>21.319740</td>\n",
       "      <td>1.455660</td>\n",
       "      <td>NaN</td>\n",
       "      <td>NaN</td>\n",
       "    </tr>\n",
       "    <tr>\n",
       "      <th>12</th>\n",
       "      <td>bai-n_0</td>\n",
       "      <td>10.605928</td>\n",
       "      <td>13.991596</td>\n",
       "      <td>3.385668</td>\n",
       "      <td>NaN</td>\n",
       "      <td>NaN</td>\n",
       "    </tr>\n",
       "    <tr>\n",
       "      <th>13</th>\n",
       "      <td>bai-n_1</td>\n",
       "      <td>10.694853</td>\n",
       "      <td>14.506611</td>\n",
       "      <td>3.811759</td>\n",
       "      <td>NaN</td>\n",
       "      <td>NaN</td>\n",
       "    </tr>\n",
       "    <tr>\n",
       "      <th>14</th>\n",
       "      <td>bai-n_2</td>\n",
       "      <td>10.698093</td>\n",
       "      <td>14.401799</td>\n",
       "      <td>3.703706</td>\n",
       "      <td>NaN</td>\n",
       "      <td>NaN</td>\n",
       "    </tr>\n",
       "    <tr>\n",
       "      <th>15</th>\n",
       "      <td>cai-n_0</td>\n",
       "      <td>17.333576</td>\n",
       "      <td>21.187515</td>\n",
       "      <td>3.853939</td>\n",
       "      <td>NaN</td>\n",
       "      <td>NaN</td>\n",
       "    </tr>\n",
       "    <tr>\n",
       "      <th>16</th>\n",
       "      <td>cai-n_1</td>\n",
       "      <td>21.826880</td>\n",
       "      <td>25.535247</td>\n",
       "      <td>3.708367</td>\n",
       "      <td>NaN</td>\n",
       "      <td>NaN</td>\n",
       "    </tr>\n",
       "    <tr>\n",
       "      <th>17</th>\n",
       "      <td>cai-n_2</td>\n",
       "      <td>18.291203</td>\n",
       "      <td>20.719480</td>\n",
       "      <td>2.428277</td>\n",
       "      <td>NaN</td>\n",
       "      <td>NaN</td>\n",
       "    </tr>\n",
       "    <tr>\n",
       "      <th>18</th>\n",
       "      <td>RandomSeq_0</td>\n",
       "      <td>28.760278</td>\n",
       "      <td>34.405848</td>\n",
       "      <td>5.645570</td>\n",
       "      <td>NaN</td>\n",
       "      <td>NaN</td>\n",
       "    </tr>\n",
       "    <tr>\n",
       "      <th>19</th>\n",
       "      <td>RandomSeq_1</td>\n",
       "      <td>25.581967</td>\n",
       "      <td>29.283010</td>\n",
       "      <td>3.701043</td>\n",
       "      <td>NaN</td>\n",
       "      <td>NaN</td>\n",
       "    </tr>\n",
       "    <tr>\n",
       "      <th>20</th>\n",
       "      <td>RandomSeq_2</td>\n",
       "      <td>27.346813</td>\n",
       "      <td>30.866505</td>\n",
       "      <td>3.519692</td>\n",
       "      <td>NaN</td>\n",
       "      <td>NaN</td>\n",
       "    </tr>\n",
       "    <tr>\n",
       "      <th>21</th>\n",
       "      <td>PoorSplicing_0</td>\n",
       "      <td>27.284500</td>\n",
       "      <td>30.689415</td>\n",
       "      <td>3.404916</td>\n",
       "      <td>NaN</td>\n",
       "      <td>NaN</td>\n",
       "    </tr>\n",
       "    <tr>\n",
       "      <th>22</th>\n",
       "      <td>PoorSplicing_1</td>\n",
       "      <td>28.384723</td>\n",
       "      <td>32.563776</td>\n",
       "      <td>4.179053</td>\n",
       "      <td>NaN</td>\n",
       "      <td>NaN</td>\n",
       "    </tr>\n",
       "    <tr>\n",
       "      <th>23</th>\n",
       "      <td>PoorSplicing_2</td>\n",
       "      <td>28.043364</td>\n",
       "      <td>32.306872</td>\n",
       "      <td>4.263508</td>\n",
       "      <td>NaN</td>\n",
       "      <td>NaN</td>\n",
       "    </tr>\n",
       "    <tr>\n",
       "      <th>24</th>\n",
       "      <td>PoorSplicing_3</td>\n",
       "      <td>27.708888</td>\n",
       "      <td>31.334543</td>\n",
       "      <td>3.625655</td>\n",
       "      <td>NaN</td>\n",
       "      <td>NaN</td>\n",
       "    </tr>\n",
       "    <tr>\n",
       "      <th>25</th>\n",
       "      <td>PoorSplicing_4</td>\n",
       "      <td>26.417124</td>\n",
       "      <td>31.195310</td>\n",
       "      <td>4.778186</td>\n",
       "      <td>NaN</td>\n",
       "      <td>NaN</td>\n",
       "    </tr>\n",
       "    <tr>\n",
       "      <th>26</th>\n",
       "      <td>PoorSplicing_5</td>\n",
       "      <td>23.684366</td>\n",
       "      <td>27.830291</td>\n",
       "      <td>4.145925</td>\n",
       "      <td>NaN</td>\n",
       "      <td>NaN</td>\n",
       "    </tr>\n",
       "  </tbody>\n",
       "</table>\n",
       "</div>"
      ],
      "text/plain": [
       "              Name       Orig        New      Diff  High  Hi-Diff\n",
       "0            cai_0  49.636312  53.695463  4.059151   NaN      NaN\n",
       "1            cai_1  55.389658  59.018071  3.628413   NaN      NaN\n",
       "2            cai_2  56.645103  60.702536  4.057433   NaN      NaN\n",
       "3            cpg_0  35.003562  40.899825  5.896263   NaN      NaN\n",
       "4            cpg_1  34.202749  39.929349  5.726599   NaN      NaN\n",
       "5            cpg_2  37.656560  43.806269  6.149709   NaN      NaN\n",
       "6            bai_0  71.307436  71.686982  0.379546   NaN      NaN\n",
       "7            bai_1  71.161317  72.233356  1.072039   NaN      NaN\n",
       "8            bai_2  70.982440  72.804082  1.821642   NaN      NaN\n",
       "9          cpg-n_0  19.711016  21.149214  1.438198   NaN      NaN\n",
       "10         cpg-n_1  18.340718  20.144818  1.804100   NaN      NaN\n",
       "11         cpg-n_2  19.864080  21.319740  1.455660   NaN      NaN\n",
       "12         bai-n_0  10.605928  13.991596  3.385668   NaN      NaN\n",
       "13         bai-n_1  10.694853  14.506611  3.811759   NaN      NaN\n",
       "14         bai-n_2  10.698093  14.401799  3.703706   NaN      NaN\n",
       "15         cai-n_0  17.333576  21.187515  3.853939   NaN      NaN\n",
       "16         cai-n_1  21.826880  25.535247  3.708367   NaN      NaN\n",
       "17         cai-n_2  18.291203  20.719480  2.428277   NaN      NaN\n",
       "18     RandomSeq_0  28.760278  34.405848  5.645570   NaN      NaN\n",
       "19     RandomSeq_1  25.581967  29.283010  3.701043   NaN      NaN\n",
       "20     RandomSeq_2  27.346813  30.866505  3.519692   NaN      NaN\n",
       "21  PoorSplicing_0  27.284500  30.689415  3.404916   NaN      NaN\n",
       "22  PoorSplicing_1  28.384723  32.563776  4.179053   NaN      NaN\n",
       "23  PoorSplicing_2  28.043364  32.306872  4.263508   NaN      NaN\n",
       "24  PoorSplicing_3  27.708888  31.334543  3.625655   NaN      NaN\n",
       "25  PoorSplicing_4  26.417124  31.195310  4.778186   NaN      NaN\n",
       "26  PoorSplicing_5  23.684366  27.830291  4.145925   NaN      NaN"
      ]
     },
     "execution_count": 9,
     "metadata": {},
     "output_type": "execute_result"
    }
   ],
   "source": [
    "bai_table"
   ]
  },
  {
   "cell_type": "code",
   "execution_count": 24,
   "metadata": {},
   "outputs": [],
   "source": [
    "tissue = 'Heart_Left_Ventricle'\n",
    "heart_orig_weights = get_bicodon_weights('references/CoCoPUTs_codon_usage/bicodon_usage/Heart_Left_Ventricle.bicodon.txt')\n",
    "heart_remade_weights = get_bicodon_weights('tissue_cocoputs/data/bicodon_tables/GTEx_{}_bicodon_orig_v7.tsv'.format(tissue))\n",
    "heart_hi_weights = get_bicodon_weights('tissue_cocoputs/data/bicodon_tables/GTEx_{}_bicodon_hifr_v8.tsv'.format(tissue))"
   ]
  },
  {
   "cell_type": "code",
   "execution_count": 23,
   "metadata": {},
   "outputs": [],
   "source": [
    "tissue = 'Liver'\n",
    "liver_orig_weights = get_bicodon_weights('references/CoCoPUTs_codon_usage/bicodon_usage/Liver.bicodon.txt')\n",
    "liver_remade_weights = get_bicodon_weights('tissue_cocoputs/data/bicodon_tables/GTEx_{}_bicodon_orig_v7.tsv'.format(tissue))\n",
    "liver_hi_weights = get_bicodon_weights('tissue_cocoputs/data/bicodon_tables/GTEx_{}_bicodon_hifr_v8.tsv'.format(tissue))"
   ]
  },
  {
   "cell_type": "code",
   "execution_count": 38,
   "metadata": {},
   "outputs": [
    {
     "name": "stdout",
     "output_type": "stream",
     "text": [
      "ERROR! Session/line number was not unique in database. History logging moved to new session 3064\n"
     ]
    }
   ],
   "source": [
    "original_diff = []\n",
    "hifi_diff = []\n",
    "for key in liver_orig_weights:\n",
    "    original_diff.append(liver_orig_weights[key] - heart_orig_weights[key] )\n",
    "    hifi_diff.append(liver_hi_weights[key] - heart_hi_weights[key])  \n",
    "    \n",
    "original_diff = np.array(original_diff)\n",
    "hifi_diff = np.array(hifi_diff)\n",
    "hifi_diff = np.nan_to_num(hifi_diff)"
   ]
  },
  {
   "cell_type": "code",
   "execution_count": null,
   "metadata": {},
   "outputs": [],
   "source": [
    "import seaborn as sns\n"
   ]
  },
  {
   "cell_type": "code",
   "execution_count": 56,
   "metadata": {},
   "outputs": [],
   "source": [
    "liver_weights = []\n",
    "heart_weights = []\n",
    "codon = []\n",
    "\n",
    "for key in liver_orig_weights:\n",
    "    codon.append(key)\n",
    "    liver_weights.append(liver_orig_weights[key])\n",
    "    heart_weights.append(heart_orig_weights[key])\n",
    "df = pd.DataFrame(data={'Codons':codon,'Liver':liver_weights,'Heart':heart_weights})\n",
    "df['Diff'] = abs( df['Liver'] - df['Heart'] )\n",
    "df"
   ]
  },
  {
   "cell_type": "code",
   "execution_count": 65,
   "metadata": {},
   "outputs": [
    {
     "data": {
      "text/html": [
       "<div>\n",
       "<style scoped>\n",
       "    .dataframe tbody tr th:only-of-type {\n",
       "        vertical-align: middle;\n",
       "    }\n",
       "\n",
       "    .dataframe tbody tr th {\n",
       "        vertical-align: top;\n",
       "    }\n",
       "\n",
       "    .dataframe thead th {\n",
       "        text-align: right;\n",
       "    }\n",
       "</style>\n",
       "<table border=\"1\" class=\"dataframe\">\n",
       "  <thead>\n",
       "    <tr style=\"text-align: right;\">\n",
       "      <th></th>\n",
       "      <th>Codons</th>\n",
       "      <th>Liver</th>\n",
       "      <th>Heart</th>\n",
       "      <th>Ratio</th>\n",
       "      <th>Diff</th>\n",
       "    </tr>\n",
       "  </thead>\n",
       "  <tbody>\n",
       "    <tr>\n",
       "      <th>0</th>\n",
       "      <td>TTTTTT</td>\n",
       "      <td>0.141530</td>\n",
       "      <td>0.180240</td>\n",
       "      <td>0.785233</td>\n",
       "      <td>0.038710</td>\n",
       "    </tr>\n",
       "    <tr>\n",
       "      <th>1</th>\n",
       "      <td>TTTTTC</td>\n",
       "      <td>0.205088</td>\n",
       "      <td>0.223558</td>\n",
       "      <td>0.917382</td>\n",
       "      <td>0.018470</td>\n",
       "    </tr>\n",
       "    <tr>\n",
       "      <th>2</th>\n",
       "      <td>TTTTTA</td>\n",
       "      <td>0.070255</td>\n",
       "      <td>0.063758</td>\n",
       "      <td>1.101910</td>\n",
       "      <td>0.006498</td>\n",
       "    </tr>\n",
       "    <tr>\n",
       "      <th>3</th>\n",
       "      <td>TTTTTG</td>\n",
       "      <td>0.183624</td>\n",
       "      <td>0.122646</td>\n",
       "      <td>1.497183</td>\n",
       "      <td>0.060978</td>\n",
       "    </tr>\n",
       "    <tr>\n",
       "      <th>4</th>\n",
       "      <td>TTTCTT</td>\n",
       "      <td>0.122959</td>\n",
       "      <td>0.129985</td>\n",
       "      <td>0.945947</td>\n",
       "      <td>0.007026</td>\n",
       "    </tr>\n",
       "    <tr>\n",
       "      <th>...</th>\n",
       "      <td>...</td>\n",
       "      <td>...</td>\n",
       "      <td>...</td>\n",
       "      <td>...</td>\n",
       "      <td>...</td>\n",
       "    </tr>\n",
       "    <tr>\n",
       "      <th>4091</th>\n",
       "      <td>GGGAGG</td>\n",
       "      <td>0.221108</td>\n",
       "      <td>0.178858</td>\n",
       "      <td>1.236223</td>\n",
       "      <td>0.042250</td>\n",
       "    </tr>\n",
       "    <tr>\n",
       "      <th>4092</th>\n",
       "      <td>GGGGGT</td>\n",
       "      <td>0.622878</td>\n",
       "      <td>0.272012</td>\n",
       "      <td>2.289893</td>\n",
       "      <td>0.350866</td>\n",
       "    </tr>\n",
       "    <tr>\n",
       "      <th>4093</th>\n",
       "      <td>GGGGGC</td>\n",
       "      <td>0.680903</td>\n",
       "      <td>1.000000</td>\n",
       "      <td>0.680903</td>\n",
       "      <td>0.319097</td>\n",
       "    </tr>\n",
       "    <tr>\n",
       "      <th>4094</th>\n",
       "      <td>GGGGGA</td>\n",
       "      <td>0.287155</td>\n",
       "      <td>0.212016</td>\n",
       "      <td>1.354399</td>\n",
       "      <td>0.075138</td>\n",
       "    </tr>\n",
       "    <tr>\n",
       "      <th>4095</th>\n",
       "      <td>GGGGGG</td>\n",
       "      <td>0.216820</td>\n",
       "      <td>0.138174</td>\n",
       "      <td>1.569176</td>\n",
       "      <td>0.078645</td>\n",
       "    </tr>\n",
       "  </tbody>\n",
       "</table>\n",
       "<p>4096 rows × 5 columns</p>\n",
       "</div>"
      ],
      "text/plain": [
       "      Codons     Liver     Heart     Ratio      Diff\n",
       "0     TTTTTT  0.141530  0.180240  0.785233  0.038710\n",
       "1     TTTTTC  0.205088  0.223558  0.917382  0.018470\n",
       "2     TTTTTA  0.070255  0.063758  1.101910  0.006498\n",
       "3     TTTTTG  0.183624  0.122646  1.497183  0.060978\n",
       "4     TTTCTT  0.122959  0.129985  0.945947  0.007026\n",
       "...      ...       ...       ...       ...       ...\n",
       "4091  GGGAGG  0.221108  0.178858  1.236223  0.042250\n",
       "4092  GGGGGT  0.622878  0.272012  2.289893  0.350866\n",
       "4093  GGGGGC  0.680903  1.000000  0.680903  0.319097\n",
       "4094  GGGGGA  0.287155  0.212016  1.354399  0.075138\n",
       "4095  GGGGGG  0.216820  0.138174  1.569176  0.078645\n",
       "\n",
       "[4096 rows x 5 columns]"
      ]
     },
     "execution_count": 65,
     "metadata": {},
     "output_type": "execute_result"
    }
   ],
   "source": [
    "df['Diff'] = abs( df['Liver'] - df['Heart'] )\n",
    "df"
   ]
  },
  {
   "cell_type": "code",
   "execution_count": 71,
   "metadata": {},
   "outputs": [
    {
     "data": {
      "text/plain": [
       "<AxesSubplot:xlabel='Liver', ylabel='Heart'>"
      ]
     },
     "execution_count": 71,
     "metadata": {},
     "output_type": "execute_result"
    },
    {
     "data": {
      "image/png": "[encoded data removed]",
      "text/plain": [
       "<Figure size 432x288 with 1 Axes>"
      ]
     },
     "metadata": {
      "needs_background": "light"
     },
     "output_type": "display_data"
    }
   ],
   "source": [
    "sns.scatterplot(x=\"Liver\", y=\"Heart\", alpha=.1, data=df)\n"
   ]
  },
  {
   "cell_type": "code",
   "execution_count": 69,
   "metadata": {},
   "outputs": [
    {
     "data": {
      "text/plain": [
       "98"
      ]
     },
     "execution_count": 69,
     "metadata": {},
     "output_type": "execute_result"
    }
   ],
   "source": [
    "sum(df['Diff'] > .5)"
   ]
  },
  {
   "cell_type": "code",
   "execution_count": 63,
   "metadata": {},
   "outputs": [
    {
     "name": "stdout",
     "output_type": "stream",
     "text": [
      "ERROR! Session/line number was not unique in database. History logging moved to new session 3074\n"
     ]
    },
    {
     "data": {
      "text/plain": [
       "<AxesSubplot:xlabel='Diff', ylabel='Count'>"
      ]
     },
     "execution_count": 63,
     "metadata": {},
     "output_type": "execute_result"
    },
    {
     "data": {
      "image/png": "[encoded data removed]",
      "text/plain": [
       "<Figure size 432x288 with 1 Axes>"
      ]
     },
     "metadata": {
      "needs_background": "light"
     },
     "output_type": "display_data"
    }
   ],
   "source": [
    "sns.histplot(x=\"Diff\",  data=df)\n"
   ]
  },
  {
   "cell_type": "code",
   "execution_count": 39,
   "metadata": {},
   "outputs": [
    {
     "data": {
      "text/plain": [
       "(0.8688048140535467, 1.0)"
      ]
     },
     "execution_count": 39,
     "metadata": {},
     "output_type": "execute_result"
    }
   ],
   "source": [
    "original_diff.max(), hifi_diff.max()"
   ]
  },
  {
   "cell_type": "code",
   "execution_count": 40,
   "metadata": {},
   "outputs": [
    {
     "data": {
      "text/plain": [
       "(-0.9228480420340519, -1.0)"
      ]
     },
     "execution_count": 40,
     "metadata": {},
     "output_type": "execute_result"
    }
   ],
   "source": [
    "original_diff.min(), hifi_diff.min()"
   ]
  },
  {
   "cell_type": "code",
   "execution_count": 41,
   "metadata": {},
   "outputs": [
    {
     "data": {
      "text/plain": [
       "array([-0.03870963, -0.01846996,  0.00649755, ..., -0.31909669,\n",
       "        0.07513833,  0.07864541])"
      ]
     },
     "execution_count": 41,
     "metadata": {},
     "output_type": "execute_result"
    }
   ],
   "source": [
    "original_diff"
   ]
  }
 ],
 "metadata": {
  "interpreter": {
   "hash": "fbeaddbcfa20e556290e66709676010ba3fa91a169757ce7752c597d396ac62c"
  },
  "kernelspec": {
   "display_name": "Python (codon)",
   "language": "python",
   "name": "bfx-codon"
  },
  "language_info": {
   "codemirror_mode": {
    "name": "ipython",
    "version": 3
   },
   "file_extension": ".py",
   "mimetype": "text/x-python",
   "name": "python",
   "nbconvert_exporter": "python",
   "pygments_lexer": "ipython3",
   "version": "3.7.11"
  }
 },
 "nbformat": 4,
 "nbformat_minor": 4
}
