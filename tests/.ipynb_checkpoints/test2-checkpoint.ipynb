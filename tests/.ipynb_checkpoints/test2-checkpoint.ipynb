{
 "cells": [
  {
   "cell_type": "markdown",
   "metadata": {
    "scrolled": true
   },
   "source": [
    "# Variables"
   ]
  },
  {
   "cell_type": "code",
   "execution_count": 1,
   "metadata": {},
   "outputs": [],
   "source": [
    "ga_input = '/grid/home/nbourgeois/data/test_sequences/hidua/hidua.pep.fas' #sequence pep.fas Input\n",
    "tissue = 'Brain_Cerebellum' # Tissue type for CoCoPuts\n",
    "filename = 'test'"
   ]
  },
  {
   "cell_type": "code",
   "execution_count": null,
   "metadata": {},
   "outputs": [],
   "source": []
  },
  {
   "cell_type": "markdown",
   "metadata": {},
   "source": [
    "# Imports\n"
   ]
  },
  {
   "cell_type": "markdown",
   "metadata": {},
   "source": [
    "## PyGAD"
   ]
  },
  {
   "cell_type": "code",
   "execution_count": 19,
   "metadata": {},
   "outputs": [
    {
     "name": "stdout",
     "output_type": "stream",
     "text": [
      "ERROR! Session/line number was not unique in database. History logging moved to new session 780\n"
     ]
    }
   ],
   "source": [
    "import os\n",
    "cwd = os.getcwd()\n",
    "pygad_loc = '/grid/home/nbourgeois/wip/codon_optimization'\n",
    "os.chdir(pygad_loc)\n",
    "import pygad\n",
    "import numpy\n",
    "import os\n",
    "import sys\n",
    "import Bio\n",
    "import pandas as pd\n",
    "from general_functions import *\n",
    "from metrics import *\n",
    "import hashlib\n",
    "import subprocess\n",
    "import time\n",
    "os.chdir(cwd)\n",
    "import importlib\n"
   ]
  },
  {
   "cell_type": "markdown",
   "metadata": {},
   "source": [
    "# Start"
   ]
  },
  {
   "cell_type": "markdown",
   "metadata": {},
   "source": [
    "## Parameters"
   ]
  },
  {
   "cell_type": "markdown",
   "metadata": {},
   "source": [
    "### Metrics"
   ]
  },
  {
   "cell_type": "code",
   "execution_count": 12,
   "metadata": {},
   "outputs": [],
   "source": [
    "cai_on = True\n",
    "bai_on = False\n",
    "sps_on = False\n",
    "cpg_on = False\n",
    "pas_on = False\n"
   ]
  },
  {
   "cell_type": "markdown",
   "metadata": {},
   "source": [
    "### Weights"
   ]
  },
  {
   "cell_type": "code",
   "execution_count": 13,
   "metadata": {},
   "outputs": [],
   "source": [
    "cai_w = 1 *cai_on\n",
    "bai_w = 1 *bai_on\n",
    "sps_w = 1 *sps_on\n",
    "cpg_w = 1 *cpg_on\n",
    "pas_w = 1 *pas_on"
   ]
  },
  {
   "cell_type": "code",
   "execution_count": 14,
   "metadata": {},
   "outputs": [],
   "source": [
    "global total_weight\n",
    "total_weight = sum([cai_w,bai_w,sps_w,cpg_w,pas_w])"
   ]
  },
  {
   "cell_type": "markdown",
   "metadata": {},
   "source": [
    "### Locations"
   ]
  },
  {
   "cell_type": "code",
   "execution_count": 15,
   "metadata": {},
   "outputs": [],
   "source": [
    "cai_index_loc = os.path.join(pygad_loc,'CoCoPUTs_codon_usage/codon_usage/'+tissue+'.codon.txt')\n",
    "bai_index_loc = os.path.join(pygad_loc,'CoCoPUTs_codon_usage/bicodon_usage/'+tissue+'.bicodon.txt')\n",
    "\n",
    "codon_usage_table_loc = os.path.join(pygad_loc,'codon_usage.getex.txt')"
   ]
  },
  {
   "cell_type": "markdown",
   "metadata": {},
   "source": [
    "# Algorithm"
   ]
  },
  {
   "cell_type": "markdown",
   "metadata": {},
   "source": [
    "### Read in File"
   ]
  },
  {
   "cell_type": "code",
   "execution_count": 16,
   "metadata": {},
   "outputs": [],
   "source": [
    "(keys, seqs) = readFasta(ga_input)\n",
    "if len(seqs) == 1:\n",
    "    aa_seq=str(seqs[0])"
   ]
  },
  {
   "cell_type": "markdown",
   "metadata": {},
   "source": [
    "### Initialize Parameters\n",
    "- gene_space\n",
    "- codon_to_int dictionary"
   ]
  },
  {
   "cell_type": "code",
   "execution_count": 9,
   "metadata": {},
   "outputs": [],
   "source": [
    "global codon_to_int\n",
    "\n",
    "codon_to_int, gene_space = init_parameters(codon_usage_table_loc, aa_seq)\n",
    "    \n",
    "gene_space_int = [[codon_to_int[x] for x in y] for y in gene_space]"
   ]
  },
  {
   "cell_type": "markdown",
   "metadata": {},
   "source": [
    "# Fitness Function"
   ]
  },
  {
   "cell_type": "code",
   "execution_count": 10,
   "metadata": {},
   "outputs": [],
   "source": [
    "def fitness_func(solution, solution_idx):\n",
    "    \n",
    "    if not type(solution) is str:\n",
    "        seq_aa = ''.join([codon_to_int[x] for x in solution])\n",
    "    else:\n",
    "        seq_aa = solution\n",
    "#     print(solution_idx)\n",
    "\n",
    "    tmp_dict = {}\n",
    "    \n",
    "    #Check for redundancy\n",
    "    if seq_aa in all_sols.keys():\n",
    "        fitness = all_sols[seq_aa]['fitness']\n",
    "\n",
    "    else:\n",
    "        fitness = 0\n",
    "        \n",
    "        if cai_on:\n",
    "            cai = get_cai(seq_aa, cai_index_loc)\n",
    "            fitness += cai*cai_w\n",
    "            tmp_dict['cai'] = cai\n",
    "        \n",
    "        if bai_on:\n",
    "            bai = get_bai(seq_aa, bai_index_loc)\n",
    "            fitness += bai*bai_w\n",
    "            tmp_dict['bai'] = bai\n",
    "            \n",
    "        if cpg_on:\n",
    "            cpg = get_cpg(seq_aa)\n",
    "            fitness += cpg*cpg_w\n",
    "            tmp_dict['cpg'] = cpg\n",
    "\n",
    "        if sps_on:\n",
    "            sps = get_sps(seq_aa)\n",
    "            print('SPS retuned.')\n",
    "\n",
    "            fitness += sps*sps_w\n",
    "            tmp_dict['sps'] = sps\n",
    "\n",
    "        if pas_on:\n",
    "            pas = get_pas(seq_aa)\n",
    "            fitness += pas*pas_w\n",
    "            tmp_dict['pas'] = pas\n",
    "\n",
    "        fitness = fitness/total_weight\n",
    "        tmp_dict['fitness'] = fitness\n",
    "        all_sols[seq_aa] = tmp_dict\n",
    "        \n",
    "    \n",
    "    return fitness\n",
    "\n",
    "    "
   ]
  },
  {
   "cell_type": "markdown",
   "metadata": {},
   "source": [
    "# Genetic Algorithm"
   ]
  },
  {
   "cell_type": "code",
   "execution_count": 18,
   "metadata": {},
   "outputs": [],
   "source": [
    "\"\"\"\n",
    "Given the following function:\n",
    "    y = f(w1:w6) = w1x1 + w2x2 + w3x3 + w4x4 + w5x5 + 6wx6\n",
    "    where (x1,x2,x3,x4,x5,x6)=(4,-2,3.5,5,-11,-4.7) and y=44\n",
    "What are the best values for the 6 weights (w1 to w6)? We are going to use the genetic algorithm to optimize this function.\n",
    "\"\"\"\n",
    "\n",
    "# def convert_aa_int():\n",
    "    \n",
    "desired_output = 1 # Function output.\n",
    "all_sols = {}\n",
    "\n",
    "fitness_function = fitness_func\n",
    "\n",
    "num_generations = 100 # Number of generations.\n",
    "num_parents_mating = 5 # Number of solutions to be selected as parents in the mating pool.\n",
    "\n",
    "sol_per_pop = 20 \n",
    "\n",
    "parent_selection_type = \"sss\" # Type of parent selection.\n",
    "keep_parents = 5 # Number of parents to keep in the next population. -1 means keep all parents and 0 means keep nothing.\n",
    "\n",
    "crossover_type = \"two_points\" # Type of the crossover operator.\n",
    "\n",
    "# Parameters of the mutation operation.\n",
    "mutation_type = \"random\" # Type of the mutation operator.\n",
    "mutation_percent_genes = 5 # Percentage of genes to mutate. This parameter has no action if the parameter mutation_num_genes exists or when mutation_type is None.\n",
    "\n",
    "last_fitness = 0\n",
    "\n",
    "def callback_generation(ga_instance):\n",
    "    global last_fitness\n",
    "    print(\"Generation = {generation}\".format(generation=ga_instance.generations_completed))\n",
    "    print(\"Fitness    = {fitness}\".format(fitness=ga_instance.best_solution()[1]))\n",
    "    print(\"Change     = {change}\".format(change=ga_instance.best_solution()[1] - last_fitness))\n",
    "    last_fitness = ga_instance.best_solution()[1]\n",
    "\n",
    "# Creating an instance of the GA class inside the ga module. Some parameters are initialized within the constructor.\n",
    "\n",
    "num_genes = len(gene_space)\n",
    "ga_instance = pygad.GA(num_generations=num_generations,\n",
    "                       num_parents_mating=num_parents_mating, \n",
    "                       fitness_func=fitness_function,\n",
    "                       sol_per_pop=sol_per_pop, \n",
    "                       num_genes=num_genes,\n",
    "                       parent_selection_type=parent_selection_type,\n",
    "                       keep_parents=keep_parents,\n",
    "                       crossover_type=crossover_type,\n",
    "                       mutation_type=mutation_type,\n",
    "                       mutation_percent_genes=mutation_percent_genes,\n",
    "                       on_generation=callback_generation,\n",
    "                       gene_type=int,\n",
    "                       gene_space=gene_space_int,\n",
    ")\n"
   ]
  },
  {
   "cell_type": "code",
   "execution_count": 25,
   "metadata": {},
   "outputs": [],
   "source": [
    "def get_cai(seq, weight_dict):\n",
    "    if type(weight_dict) is str:\n",
    "        weight_dict = get_codon_weights(weight_dict)\n",
    "    weights = [weight_dict[seq[i:i+3]] for i in range(0, len(seq), 3)] #convert to codon_list -> use weight dictionary\n",
    "    cai = geo_mean(weights)\n",
    "    return(cai)"
   ]
  },
  {
   "cell_type": "code",
   "execution_count": 26,
   "metadata": {
    "scrolled": true
   },
   "outputs": [
    {
     "name": "stdout",
     "output_type": "stream",
     "text": [
      "Generation = 1\n",
      "Fitness    = 0.6118230406129566\n",
      "Change     = 0.6118230406129566\n",
      "Generation = 2\n",
      "Fitness    = 0.619755572563693\n",
      "Change     = 0.007932531950736399\n",
      "Generation = 3\n",
      "Fitness    = 0.6206038756386462\n",
      "Change     = 0.000848303074953205\n",
      "Generation = 4\n",
      "Fitness    = 0.6249378641871557\n",
      "Change     = 0.004333988548509526\n",
      "Generation = 5\n",
      "Fitness    = 0.6256283643248299\n",
      "Change     = 0.0006905001376742437\n",
      "Generation = 6\n",
      "Fitness    = 0.6296685289038093\n",
      "Change     = 0.004040164578979377\n",
      "Generation = 7\n",
      "Fitness    = 0.6450262724936956\n",
      "Change     = 0.015357743589886286\n",
      "Generation = 8\n",
      "Fitness    = 0.6502607106938424\n",
      "Change     = 0.005234438200146796\n",
      "Generation = 9\n",
      "Fitness    = 0.652796177097127\n",
      "Change     = 0.002535466403284614\n",
      "Generation = 10\n",
      "Fitness    = 0.6582470154670185\n",
      "Change     = 0.005450838369891464\n",
      "Generation = 11\n",
      "Fitness    = 0.6582470154670185\n",
      "Change     = 0.0\n",
      "Generation = 12\n",
      "Fitness    = 0.6582470154670185\n",
      "Change     = 0.0\n",
      "Generation = 13\n",
      "Fitness    = 0.6612519022334027\n",
      "Change     = 0.0030048867663842183\n",
      "Generation = 14\n",
      "Fitness    = 0.6612519022334027\n",
      "Change     = 0.0\n",
      "Generation = 15\n",
      "Fitness    = 0.662730749302499\n",
      "Change     = 0.0014788470690962896\n",
      "Generation = 16\n",
      "Fitness    = 0.6644737561399473\n",
      "Change     = 0.0017430068374483243\n",
      "Generation = 17\n",
      "Fitness    = 0.6659626708499021\n",
      "Change     = 0.001488914709954825\n",
      "Generation = 18\n",
      "Fitness    = 0.6706683691683331\n",
      "Change     = 0.004705698318430929\n",
      "Generation = 19\n",
      "Fitness    = 0.6710255260749317\n",
      "Change     = 0.0003571569065986546\n",
      "Generation = 20\n",
      "Fitness    = 0.6710255260749317\n",
      "Change     = 0.0\n",
      "Generation = 21\n",
      "Fitness    = 0.6773435237890644\n",
      "Change     = 0.0063179977141326615\n",
      "Generation = 22\n",
      "Fitness    = 0.6773435237890644\n",
      "Change     = 0.0\n",
      "Generation = 23\n",
      "Fitness    = 0.6818325482447511\n",
      "Change     = 0.004489024455686774\n",
      "Generation = 24\n",
      "Fitness    = 0.6818325482447511\n",
      "Change     = 0.0\n",
      "Generation = 25\n",
      "Fitness    = 0.6826948477959588\n",
      "Change     = 0.0008622995512076459\n",
      "Generation = 26\n",
      "Fitness    = 0.6850457859956952\n",
      "Change     = 0.0023509381997364187\n",
      "Generation = 27\n",
      "Fitness    = 0.6850457859956952\n",
      "Change     = 0.0\n",
      "Generation = 28\n",
      "Fitness    = 0.6850457859956952\n",
      "Change     = 0.0\n",
      "Generation = 29\n",
      "Fitness    = 0.6850457859956952\n",
      "Change     = 0.0\n",
      "Generation = 30\n",
      "Fitness    = 0.6850457859956952\n",
      "Change     = 0.0\n",
      "Generation = 31\n",
      "Fitness    = 0.6852141028831275\n",
      "Change     = 0.0001683168874322405\n",
      "Generation = 32\n",
      "Fitness    = 0.6888669937100178\n",
      "Change     = 0.0036528908268903537\n",
      "Generation = 33\n",
      "Fitness    = 0.6888669937100178\n",
      "Change     = 0.0\n",
      "Generation = 34\n",
      "Fitness    = 0.6888669937100178\n",
      "Change     = 0.0\n",
      "Generation = 35\n",
      "Fitness    = 0.6910299586085812\n",
      "Change     = 0.00216296489856338\n",
      "Generation = 36\n",
      "Fitness    = 0.6910299586085812\n",
      "Change     = 0.0\n",
      "Generation = 37\n",
      "Fitness    = 0.6910299586085812\n",
      "Change     = 0.0\n",
      "Generation = 38\n",
      "Fitness    = 0.6912990770543734\n",
      "Change     = 0.0002691184457922491\n",
      "Generation = 39\n",
      "Fitness    = 0.694997371981617\n",
      "Change     = 0.003698294927243606\n",
      "Generation = 40\n",
      "Fitness    = 0.694997371981617\n",
      "Change     = 0.0\n",
      "Generation = 41\n",
      "Fitness    = 0.694997371981617\n",
      "Change     = 0.0\n",
      "Generation = 42\n",
      "Fitness    = 0.694997371981617\n",
      "Change     = 0.0\n",
      "Generation = 43\n",
      "Fitness    = 0.694997371981617\n",
      "Change     = 0.0\n",
      "Generation = 44\n",
      "Fitness    = 0.694997371981617\n",
      "Change     = 0.0\n",
      "Generation = 45\n",
      "Fitness    = 0.694997371981617\n",
      "Change     = 0.0\n",
      "Generation = 46\n",
      "Fitness    = 0.694997371981617\n",
      "Change     = 0.0\n",
      "Generation = 47\n",
      "Fitness    = 0.694997371981617\n",
      "Change     = 0.0\n",
      "Generation = 48\n",
      "Fitness    = 0.6967298390557038\n",
      "Change     = 0.0017324670740868076\n",
      "Generation = 49\n",
      "Fitness    = 0.6967298390557038\n",
      "Change     = 0.0\n",
      "Generation = 50\n",
      "Fitness    = 0.6967298390557038\n",
      "Change     = 0.0\n",
      "Generation = 51\n",
      "Fitness    = 0.7001860406303004\n",
      "Change     = 0.0034562015745965846\n",
      "Generation = 52\n",
      "Fitness    = 0.7001860406303004\n",
      "Change     = 0.0\n",
      "Generation = 53\n",
      "Fitness    = 0.7001860406303004\n",
      "Change     = 0.0\n",
      "Generation = 54\n",
      "Fitness    = 0.7007210997387858\n",
      "Change     = 0.0005350591084853917\n",
      "Generation = 55\n",
      "Fitness    = 0.7007210997387858\n",
      "Change     = 0.0\n",
      "Generation = 56\n",
      "Fitness    = 0.7054978871673291\n",
      "Change     = 0.004776787428543261\n",
      "Generation = 57\n",
      "Fitness    = 0.7054978871673291\n",
      "Change     = 0.0\n",
      "Generation = 58\n",
      "Fitness    = 0.7054978871673291\n",
      "Change     = 0.0\n",
      "Generation = 59\n",
      "Fitness    = 0.7075599694545949\n",
      "Change     = 0.0020620822872657874\n",
      "Generation = 60\n",
      "Fitness    = 0.7075599694545949\n",
      "Change     = 0.0\n",
      "Generation = 61\n",
      "Fitness    = 0.7075599694545949\n",
      "Change     = 0.0\n",
      "Generation = 62\n",
      "Fitness    = 0.7108982739606953\n",
      "Change     = 0.003338304506100398\n",
      "Generation = 63\n",
      "Fitness    = 0.7108982739606953\n",
      "Change     = 0.0\n",
      "Generation = 64\n",
      "Fitness    = 0.7108982739606953\n",
      "Change     = 0.0\n",
      "Generation = 65\n",
      "Fitness    = 0.7108982739606953\n",
      "Change     = 0.0\n",
      "Generation = 66\n",
      "Fitness    = 0.7113352578075639\n",
      "Change     = 0.0004369838468686327\n",
      "Generation = 67\n",
      "Fitness    = 0.7150070046615342\n",
      "Change     = 0.0036717468539703146\n",
      "Generation = 68\n",
      "Fitness    = 0.7197671206333865\n",
      "Change     = 0.00476011597185233\n",
      "Generation = 69\n",
      "Fitness    = 0.7197671206333865\n",
      "Change     = 0.0\n",
      "Generation = 70\n",
      "Fitness    = 0.7221968786678696\n",
      "Change     = 0.002429758034483087\n",
      "Generation = 71\n",
      "Fitness    = 0.7221968786678696\n",
      "Change     = 0.0\n",
      "Generation = 72\n",
      "Fitness    = 0.7226539538837613\n",
      "Change     = 0.0004570752158916669\n",
      "Generation = 73\n",
      "Fitness    = 0.7226539538837613\n",
      "Change     = 0.0\n",
      "Generation = 74\n",
      "Fitness    = 0.7226539538837613\n",
      "Change     = 0.0\n",
      "Generation = 75\n",
      "Fitness    = 0.7226539538837613\n",
      "Change     = 0.0\n",
      "Generation = 76\n",
      "Fitness    = 0.7226539538837613\n",
      "Change     = 0.0\n",
      "Generation = 77\n",
      "Fitness    = 0.7226539538837613\n",
      "Change     = 0.0\n",
      "Generation = 78\n",
      "Fitness    = 0.7248046927601999\n",
      "Change     = 0.0021507388764385738\n",
      "Generation = 79\n",
      "Fitness    = 0.7248046927601999\n",
      "Change     = 0.0\n",
      "Generation = 80\n",
      "Fitness    = 0.7263562075329644\n",
      "Change     = 0.0015515147727644951\n",
      "Generation = 81\n",
      "Fitness    = 0.7263562075329644\n",
      "Change     = 0.0\n",
      "Generation = 82\n",
      "Fitness    = 0.7263562075329644\n",
      "Change     = 0.0\n",
      "Generation = 83\n",
      "Fitness    = 0.7263562075329644\n",
      "Change     = 0.0\n",
      "Generation = 84\n",
      "Fitness    = 0.7263562075329644\n",
      "Change     = 0.0\n",
      "Generation = 85\n",
      "Fitness    = 0.7263562075329644\n",
      "Change     = 0.0\n",
      "Generation = 86\n",
      "Fitness    = 0.7263562075329644\n",
      "Change     = 0.0\n",
      "Generation = 87\n",
      "Fitness    = 0.7263562075329644\n",
      "Change     = 0.0\n",
      "Generation = 88\n",
      "Fitness    = 0.7293607282086323\n",
      "Change     = 0.003004520675667921\n",
      "Generation = 89\n",
      "Fitness    = 0.7293607282086323\n",
      "Change     = 0.0\n",
      "Generation = 90\n",
      "Fitness    = 0.7293607282086323\n",
      "Change     = 0.0\n",
      "Generation = 91\n",
      "Fitness    = 0.7293607282086323\n",
      "Change     = 0.0\n",
      "Generation = 92\n",
      "Fitness    = 0.7293607282086323\n",
      "Change     = 0.0\n",
      "Generation = 93\n",
      "Fitness    = 0.7293607282086323\n",
      "Change     = 0.0\n",
      "Generation = 94\n",
      "Fitness    = 0.7293607282086323\n",
      "Change     = 0.0\n",
      "Generation = 95\n",
      "Fitness    = 0.7293607282086323\n",
      "Change     = 0.0\n",
      "Generation = 96\n",
      "Fitness    = 0.7313091668416802\n",
      "Change     = 0.0019484386330479442\n",
      "Generation = 97\n",
      "Fitness    = 0.7313091668416802\n",
      "Change     = 0.0\n",
      "Generation = 98\n",
      "Fitness    = 0.7313091668416802\n",
      "Change     = 0.0\n",
      "Generation = 99\n",
      "Fitness    = 0.7313091668416802\n",
      "Change     = 0.0\n",
      "Generation = 100\n",
      "Fitness    = 0.7313091668416802\n",
      "Change     = 0.0\n"
     ]
    },
    {
     "name": "stderr",
     "output_type": "stream",
     "text": [
      "/data/software/anaconda3/envs/bfx-gpu/lib/python3.7/site-packages/pygad/pygad.py:3105: UserWarning: Please use the plot_fitness() method instead of plot_result(). The plot_result() method will be removed in the future.\n",
      "  warnings.warn(\"Please use the plot_fitness() method instead of plot_result(). The plot_result() method will be removed in the future.\")\n"
     ]
    },
    {
     "data": {
      "image/png": "[encoded data removed]",
      "text/plain": [
       "<Figure size 432x288 with 1 Axes>"
      ]
     },
     "metadata": {
      "needs_background": "light"
     },
     "output_type": "display_data"
    },
    {
     "name": "stdout",
     "output_type": "stream",
     "text": [
      "Parameters of the best solution : [11 55 37  5 59 38 59 46 47  7  2 45  5  5 45 33  4  5 46 45 38 36 13 45\n",
      " 37 45 30 47 38 21  7 15 21 15 29 45 44 58 44  5 51 36  4 58 54  1 51 53\n",
      " 33 42 61  1 48 37 36  7 38 21 57 23 45 28 23 17 13  3 57 51 29 23 23  7\n",
      " 24  7 46 17 15 63 44 15 36 21 53 62  9 27 22 12 59 43 20 51  5  7 31  6\n",
      " 15 41 40 55 60 32 43 61 52 61  7 34 16 25  1 40 20  4 29 63 16  7 28  6\n",
      "  5 59 31 24 23  5  7 37 61  1 31  4 11 61 57 44 56 61 21  1 41 28  1 31\n",
      " 28 27 23 23 12  1 31 51 27 28  5 15 33 57  7 44 59 58 16  9 61 53 16 60\n",
      "  7 44 21 15 57 27 51 25  0 30 42 51 25 31 37 28 21 20 29  1 29 24 13 33\n",
      " 11 41 11 23 62  1  7 25 16 17 28 45 48 33 31 63  7 58 45 44 56 38 45  2\n",
      " 58  3 62 63 37 61 28 33  1 21 41 37 37 58 33 39  5 33 51 63  7  7 58 20\n",
      " 49 21 29 60 40 24  1  0 43 61 30 44 61 15 55  4 28 16  8 33  7 20 55 27\n",
      " 63 45 55 35 57  8 33  9  5 31 22 31 26 13 15 45 23 22  9 58 23  7  1 38\n",
      " 26  1 45 29 43 37  8 17 25 28 31 44 28 37  4 13 63 51 56  7 38 23 38 51\n",
      " 53 45 28 14 42 17 45 44 11 15 15 27 15  9 45 23 21 23 25  7  7  5 46 24\n",
      " 41 42 33 45  0 36 17 44  7  7 56 25 29 25 44  1  7 33 17 21 36 21 37  0\n",
      " 44 23 59 42  6 41 45 59  0 23 13 24 25 40 59 37 38 20 15 23  7  2 53 27\n",
      " 37 15  2 41 45 11 62  4  4 45  7  7 29 30 31 23  4 51 45 30 12 32 23 44\n",
      " 61 42 14  4 29 57 25 20 40 15 61 15  4 44 33 44 20 52 37 23 60 37 46 28\n",
      " 45 51 52 45 47 15  7  8 16 47 32 29 29 41 55 45 21 39 25 52 56 15 45 13\n",
      " 41  3 55  7 59 60 13 38 37 60 38 60  7 15 17 15 40 59 16  5 29 25 63  6\n",
      " 48 33 38 28 61 31 51 53 58  6 62 59 38 15  0 37 42 46 31 23  0 59 58 11\n",
      " 59 46 45 30 29 38 13 45 44 44 37 58 36  6 36 45 61 60 54  7 41  5 55 39\n",
      " 45  3 54  4 38 56  2  3  7 13 20 15 48 45 53 37 31 27 37 38 62 23 15 42\n",
      " 53  7 53 45  7 36  5 41 23 63 23  7 15  2 15 51 34 29 31 20 15 63 35 26\n",
      " 49  7 51 42 17 30  9 23  1 56 23 28 60 26 45 16 40 37 14 33 53 27 36 33\n",
      " 42  1 24  7  1 12  1 33 37 29 40 62 46 15 34 63 32 16 55 13 55 45  5 28\n",
      " 17 51 44 54 37 61 36  0 56 28 39 13 36 17  5 30 15 36 15 39 53 61 37 37\n",
      " 34 36 61 25 36 50]\n",
      "NT Sequence of the best solution : ATGCGGCCCCTCAGGCCAAGGGCAGCGCTGTTAGCCCTCCTCGCCTCCCTTCTCGCAGCCCCACCTGTCGCCCCCGCCGAAGCGCCACACCTGGTGCACGTGGACGCCGCTAGAGCTCTCTGGCCTCTTAGACGATTCTGGCGCTCCACAGGCTTCTGTCCCCCTCTGCCACACAGCCAGGCCGATCAGTACGTCTTGAGCTGGGACCAGCAGCTGAATCTGGCATACGTGGGGGCTGTGCCTCACCGCGGAATCAAGCAAGTTAGGACGCATTGGCTCCTGGAGCTAGTGACCACTCGGGGTTCTACGGGCCGTGGCCTGTCATATAACTTCACTCATCTTGACGGGTATCTGGATCTACTCAGGGAGAATCAGCTCCTGCCCGGCTTCGAGCTTATGGGCAGCGCTAGTGGCCACTTCACCGATTTCGAGGATAAGCAGCAGGTTTTCGAGTGGAAGGATCTCGTGTCCAGCCTGGCTAGGAGATATATCGGCCGCTATGGTCTGGCTCACGTGAGCAAGTGGAACTTTGAAACATGGAACGAGCCCGATCACCATGACTTCGACAATGTCTCCATGACCATGCAGGGATTCCTGAACTATTACGATGCCTGTTCCGAGGGGCTGAGAGCCGCTAGTCCAGCCTTAAGATTGGGAGGGCCCGGCGATTCCTTCCACACCCCCCCCAGATCCCCGCTCTCCTGGGGGCTGCTGAGACATTGCCACGACGGTACTAATTTCTTTACGGGCGAAGCTGGCGTGCGGCTTGATTATATTTCCCTGCATCGGAAGGGGGCCCGGTCGAGCATTTCCATCCTCGAGCAAGAGAAAGTCGTGGCCCAGCAAATCAGACAGCTGTTCCCAAAATTCGCCGACACGCCCATTTACAACGATGAGGCTGATCCCCTTGTCGGGTGGAGTCTGCCACAGCCATGGCGCGCCGATGTAACATACGCCGCTATGGTGGTGAAGGTGATCGCCCAGCACCAGAACCTGCTGCTCGCAAATACCACATCCGCCTTTCCTTACGCTCTGCTGAGTAACGACAACGCTTTCCTGTCCTACCACCCTCACCCCTTTGCTCAGAGGACACTAACCGCCAGGTTTCAGGTCAATAACACTAGGCCCCCACATGTGCAGCTGTTACGCAAGCCCGTGTTAACCGCCATGGGACTTCTTGCCCTGCTGGACGAAGAGCAGCTTTGGGCCGAAGTTTCTCAGGCTGGCACAGTACTTGACAGCAACCATACTGTGGGCGTGCTTGCTTCCGCTCATCGTCCCCAGGGTCCCGCAGATGCCTGGCGTGCCGCGGTGCTGATTTATGCGTCTGACGACACCCGGGCCCACCCGAACCGTAGTGTGGCCGTCACCTTGCGGCTGAGGGGTGTCCCACCCGGTCCAGGTCTGGTGTACGTGACTAGGTATCTCGACAACGGGCTATGTTCCCCAGATGGCGAGTGGCGCAGACTAGGAAGGCCAGTGTTTCCCACAGCAGAGCAGTTTAGGAGAATGAGGGCAGCCGAAGACCCAGTCGCCGCTGCTCCCAGACCTCTACCTGCCGGCGGTCGACTGACCCTCCGGCCGGCCTTGCGACTTCCAAGTTTATTGCTGGTCCATGTGTGTGCCCGCCCCGAGAAGCCCCCAGGACAGGTGACACGCCTGCGCGCCCTGCCTCTCACCCAGGGGCAGCTGGTGTTAGTGTGGTCAGACGAGCATGTGGGGTCGAAATGCCTGTGGACATACGAAATCCAGTTCAGTCAGGATGGTAAAGCCTATACTCCCGTATCCCGCAAGCCTTCCACATTCAATCTGTTCGTTTTCTCCCCCGACACTGGAGCAGTGTCAGGGTCTTATCGGGTCCGGGCCCTCGATTACTGGGCTCGACCCGGCCCTTTTAGTGATCCGGTCCCTTACCTCGAAGTGCCTGTGCCGCGCGGCCCCCCCTCACCTGGCAACCCTTGA\n",
      "Fitness value of the best solution = 0.7313091668416802\n",
      "Index of the best solution : 0\n",
      "Best fitness value reached after 96 generations.\n"
     ]
    },
    {
     "data": {
      "image/png": "[encoded data removed]",
      "text/plain": [
       "<Figure size 432x288 with 1 Axes>"
      ]
     },
     "metadata": {
      "needs_background": "light"
     },
     "output_type": "display_data"
    },
    {
     "name": "stdout",
     "output_type": "stream",
     "text": [
      "CPU times: user 7.95 s, sys: 173 ms, total: 8.13 s\n",
      "Wall time: 8.19 s\n"
     ]
    },
    {
     "data": {
      "image/png": "[encoded data removed]",
      "text/plain": [
       "<Figure size 432x288 with 1 Axes>"
      ]
     },
     "execution_count": 26,
     "metadata": {},
     "output_type": "execute_result"
    }
   ],
   "source": [
    "%%time\n",
    "\n",
    "# Running the GA to optimize the parameters of the function.\n",
    "ga_instance.run()\n",
    "\n",
    "# After the generations complete, some plots are showed that summarize the how the outputs/fitenss values evolve over generations.\n",
    "ga_instance.plot_result()\n",
    "\n",
    "# Returning the details of the best solution.\n",
    "solution, solution_fitness, solution_idx = ga_instance.best_solution()\n",
    "print(\"Parameters of the best solution : {solution}\".format(solution=solution))\n",
    "seq_aa = ''.join([codon_to_int[x] for x in solution])\n",
    "print(\"NT Sequence of the best solution : {seq_aa}\".format(seq_aa=seq_aa))\n",
    "print(\"Fitness value of the best solution = {solution_fitness}\".format(solution_fitness=solution_fitness))\n",
    "print(\"Index of the best solution : {solution_idx}\".format(solution_idx=solution_idx))\n",
    "\n",
    "# # prediction = numpy.sum(numpy.array(function_inputs)*solution) Replace\n",
    "# print(\"Predicted output based on the best solution : {prediction}\".format(prediction=prediction))\n",
    "\n",
    "if ga_instance.best_solution_generation != -1:\n",
    "    print(\"Best fitness value reached after {best_solution_generation} generations.\".format(best_solution_generation=ga_instance.best_solution_generation))\n",
    "\n",
    "# Saving the GA instance.\n",
    " # The filename to which the instance is saved. The name is without extension.\n",
    "ga_instance.save(filename=filename)\n",
    "\n",
    "# Loading the saved GA instance.\n",
    "loaded_ga_instance = pygad.load(filename=filename)\n",
    "loaded_ga_instance.plot_result()"
   ]
  },
  {
   "cell_type": "code",
   "execution_count": 24,
   "metadata": {},
   "outputs": [
    {
     "data": {
      "text/plain": [
       "True"
      ]
     },
     "execution_count": 24,
     "metadata": {},
     "output_type": "execute_result"
    }
   ],
   "source": []
  }
 ],
 "metadata": {
  "kernelspec": {
   "display_name": "Python 3 (GPU)",
   "language": "python",
   "name": "bfx-gpu"
  },
  "language_info": {
   "codemirror_mode": {
    "name": "ipython",
    "version": 3
   },
   "file_extension": ".py",
   "mimetype": "text/x-python",
   "name": "python",
   "nbconvert_exporter": "python",
   "pygments_lexer": "ipython3",
   "version": "3.7.10"
  }
 },
 "nbformat": 4,
 "nbformat_minor": 4
}
