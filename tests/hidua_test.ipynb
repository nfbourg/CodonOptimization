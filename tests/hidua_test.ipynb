{
 "cells": [
  {
   "cell_type": "markdown",
   "metadata": {},
   "source": [
    "# Variables"
   ]
  },
  {
   "cell_type": "code",
   "execution_count": 1,
   "metadata": {},
   "outputs": [],
   "source": [
    "ga_input = '/grid/home/nbourgeois/data/test_proteins/hidua/hidua.pep.fas' #sequence pep.fas Input\n",
    "tissue = 'Brain_Cerebellum' # Tissue type for CoCoPuts\n",
    "filename = 'test'"
   ]
  },
  {
   "cell_type": "markdown",
   "metadata": {},
   "source": [
    "# Imports\n"
   ]
  },
  {
   "cell_type": "markdown",
   "metadata": {},
   "source": [
    "## PyGAD"
   ]
  },
  {
   "cell_type": "code",
   "execution_count": 2,
   "metadata": {},
   "outputs": [
    {
     "name": "stderr",
     "output_type": "stream",
     "text": [
      "Using TensorFlow backend.\n"
     ]
    }
   ],
   "source": [
    "import os\n",
    "cwd = os.getcwd()\n",
    "\n",
    "global pygad_loc\n",
    "## Import the code for codon opt\n",
    "pygad_loc = '/grid/home/nbourgeois/codon_optimization'\n",
    "os.chdir(pygad_loc)\n",
    "import pygad\n",
    "import numpy\n",
    "import os\n",
    "import sys\n",
    "import Bio\n",
    "import pandas as pd\n",
    "from general_functions import *\n",
    "from metrics import *\n",
    "import hashlib\n",
    "import subprocess\n",
    "import time\n",
    "os.chdir(cwd)\n",
    "import importlib\n"
   ]
  },
  {
   "cell_type": "markdown",
   "metadata": {},
   "source": [
    "# Start"
   ]
  },
  {
   "cell_type": "markdown",
   "metadata": {},
   "source": [
    "## Parameters"
   ]
  },
  {
   "cell_type": "markdown",
   "metadata": {},
   "source": [
    "### Metrics"
   ]
  },
  {
   "cell_type": "code",
   "execution_count": 3,
   "metadata": {},
   "outputs": [],
   "source": [
    "cai_on = True\n",
    "bai_on = True\n",
    "cpg_on = True\n",
    "pas_on = False # PolyA\n",
    "sps_on = False # Splicing\n"
   ]
  },
  {
   "cell_type": "markdown",
   "metadata": {},
   "source": [
    "### Weights"
   ]
  },
  {
   "cell_type": "code",
   "execution_count": 4,
   "metadata": {},
   "outputs": [],
   "source": [
    "cai_w = 1 *cai_on\n",
    "bai_w = 1 *bai_on\n",
    "sps_w = 1 *sps_on\n",
    "cpg_w = 1 *cpg_on\n",
    "pas_w = 1 *pas_on"
   ]
  },
  {
   "cell_type": "code",
   "execution_count": 5,
   "metadata": {},
   "outputs": [],
   "source": [
    "global total_weight\n",
    "total_weight = sum([cai_w,bai_w,sps_w,cpg_w,pas_w])"
   ]
  },
  {
   "cell_type": "markdown",
   "metadata": {},
   "source": [
    "### Locations"
   ]
  },
  {
   "cell_type": "code",
   "execution_count": 6,
   "metadata": {},
   "outputs": [],
   "source": [
    "# cai_index_loc = os.path.join(pygad_loc,'references/CoCoPUTs_codon_usage/codon_usage/'+tissue+'.codon.txt')\n",
    "# bai_index_loc = os.path.join(pygad_loc,'references/CoCoPUTs_codon_usage/bicodon_usage/'+tissue+'.bicodon.txt')\n",
    "\n",
    "cai_weight_dict = get_codon_weights(tissue)\n",
    "bai_weight_dict = get_bicodon_weights(tissue)"
   ]
  },
  {
   "cell_type": "markdown",
   "metadata": {},
   "source": [
    "# Algorithm"
   ]
  },
  {
   "cell_type": "markdown",
   "metadata": {},
   "source": [
    "### Read in File"
   ]
  },
  {
   "cell_type": "code",
   "execution_count": 7,
   "metadata": {},
   "outputs": [],
   "source": [
    "(keys, seqs) = readFasta(ga_input)\n",
    "if len(seqs) == 1:\n",
    "    aa_seq=str(seqs[0])"
   ]
  },
  {
   "cell_type": "markdown",
   "metadata": {},
   "source": [
    "### Initialize Parameters\n",
    "- gene_space\n",
    "- codon_to_int dictionary"
   ]
  },
  {
   "cell_type": "code",
   "execution_count": 8,
   "metadata": {},
   "outputs": [],
   "source": [
    "global codon_to_int\n",
    "\n",
    "codon_to_int, gene_space = init_parameters(aa_seq)\n",
    "\n",
    "gene_space_int = [[codon_to_int[x] for x in y] for y in gene_space]\n",
    "\n"
   ]
  },
  {
   "cell_type": "markdown",
   "metadata": {},
   "source": [
    "# Fitness Function"
   ]
  },
  {
   "cell_type": "code",
   "execution_count": 9,
   "metadata": {},
   "outputs": [],
   "source": [
    "def fitness_func(solution, solution_idx):\n",
    "    \n",
    "    global all_sols\n",
    "    \n",
    "    if not type(solution) is str:\n",
    "        seq_aa = ''.join([codon_to_int[x] for x in solution])\n",
    "    else:\n",
    "        seq_aa = solution\n",
    "#     print(solution_idx)\n",
    "\n",
    "    tmp_dict = {}\n",
    "    \n",
    "    #Check for redundancy\n",
    "    if seq_aa in all_sols.keys():\n",
    "        fitness = all_sols[seq_aa]['fitness']\n",
    "\n",
    "    else:\n",
    "        fitness = 0\n",
    "        \n",
    "        if cai_on:\n",
    "            cai = get_cai(seq_aa, cai_weight_dict)\n",
    "            fitness += cai*cai_w\n",
    "            tmp_dict['cai'] = cai\n",
    "        \n",
    "        if bai_on:\n",
    "            bai = get_bai(seq_aa, bai_weight_dict)\n",
    "            fitness += bai*bai_w\n",
    "            tmp_dict['bai'] = bai\n",
    "            \n",
    "        if cpg_on:\n",
    "            cpg = get_cpg(seq_aa)\n",
    "            fitness += cpg*cpg_w\n",
    "            tmp_dict['cpg'] = cpg\n",
    "\n",
    "        if sps_on:\n",
    "            sps = get_sps(seq_aa)\n",
    "            print('SPS retuned.')\n",
    "\n",
    "            fitness += sps*sps_w\n",
    "            tmp_dict['sps'] = sps\n",
    "\n",
    "        if pas_on:\n",
    "            pas = get_pas(seq_aa)\n",
    "            fitness += pas*pas_w\n",
    "            tmp_dict['pas'] = pas\n",
    "\n",
    "        fitness = fitness/total_weight\n",
    "        tmp_dict['fitness'] = fitness\n",
    "        all_sols[seq_aa] = tmp_dict\n",
    "        \n",
    "    \n",
    "    return fitness\n",
    "\n",
    "    "
   ]
  },
  {
   "cell_type": "markdown",
   "metadata": {},
   "source": [
    "# Genetic Algorithm"
   ]
  },
  {
   "cell_type": "code",
   "execution_count": 10,
   "metadata": {},
   "outputs": [],
   "source": [
    "\"\"\"\n",
    "Given the following function:\n",
    "    y = f(w1:w6) = w1x1 + w2x2 + w3x3 + w4x4 + w5x5 + 6wx6\n",
    "    where (x1,x2,x3,x4,x5,x6)=(4,-2,3.5,5,-11,-4.7) and y=44\n",
    "What are the best values for the 6 weights (w1 to w6)? We are going to use the genetic algorithm to optimize this function.\n",
    "\"\"\"\n",
    "\n",
    "# def convert_aa_int():\n",
    "    \n",
    "desired_output = 1 # Function output.\n",
    "all_sols = {}\n",
    "\n",
    "fitness_function = fitness_func\n",
    "\n",
    "num_generations = 10 # Number of generations.\n",
    "num_parents_mating = 5 # Number of solutions to be selected as parents in the mating pool.\n",
    "\n",
    "sol_per_pop = 20 \n",
    "\n",
    "parent_selection_type = \"sss\" # Type of parent selection.\n",
    "keep_parents = 5 # Number of parents to keep in the next population. -1 means keep all parents and 0 means keep nothing.\n",
    "\n",
    "crossover_type = \"two_points\" # Type of the crossover operator.\n",
    "\n",
    "# Parameters of the mutation operation.\n",
    "mutation_type = \"random\" # Type of the mutation operator.\n",
    "mutation_percent_genes = 5 # Percentage of genes to mutate. This parameter has no action if the parameter mutation_num_genes exists or when mutation_type is None.\n",
    "\n",
    "last_fitness = 0\n",
    "\n",
    "def callback_generation(ga_instance):\n",
    "    global last_fitness\n",
    "    print(\"Generation = {generation}\".format(generation=ga_instance.generations_completed))\n",
    "    print(\"Fitness    = {fitness}\".format(fitness=ga_instance.best_solution()[1]))\n",
    "    print(\"Change     = {change}\".format(change=ga_instance.best_solution()[1] - last_fitness))\n",
    "    last_fitness = ga_instance.best_solution()[1]\n",
    "\n",
    "# Creating an instance of the GA class inside the ga module. Some parameters are initialized within the constructor.\n",
    "\n",
    "num_genes = len(gene_space)\n",
    "ga_instance = pygad.GA(num_generations=num_generations,\n",
    "                       num_parents_mating=num_parents_mating, \n",
    "                       fitness_func=fitness_function,\n",
    "                       sol_per_pop=sol_per_pop, \n",
    "                       num_genes=num_genes,\n",
    "                       parent_selection_type=parent_selection_type,\n",
    "                       keep_parents=keep_parents,\n",
    "                       crossover_type=crossover_type,\n",
    "                       mutation_type=mutation_type,\n",
    "                       mutation_percent_genes=mutation_percent_genes,\n",
    "                       on_generation=callback_generation,\n",
    "                       gene_type=int,\n",
    "                       gene_space=gene_space_int,\n",
    ")\n"
   ]
  },
  {
   "cell_type": "code",
   "execution_count": 11,
   "metadata": {
    "scrolled": true
   },
   "outputs": [
    {
     "name": "stdout",
     "output_type": "stream",
     "text": [
      "Generation = 1\n",
      "Fitness    = 0.5893926568923943\n",
      "Change     = 0.5893926568923943\n",
      "Generation = 2\n",
      "Fitness    = 0.5999310162306801\n",
      "Change     = 0.010538359338285841\n",
      "Generation = 3\n",
      "Fitness    = 0.6072501236192873\n",
      "Change     = 0.007319107388607193\n",
      "Generation = 4\n",
      "Fitness    = 0.6072501236192873\n",
      "Change     = 0.0\n",
      "Generation = 5\n",
      "Fitness    = 0.6091879695734587\n",
      "Change     = 0.0019378459541713466\n",
      "Generation = 6\n",
      "Fitness    = 0.6113438311569439\n",
      "Change     = 0.0021558615834852413\n",
      "Generation = 7\n",
      "Fitness    = 0.6166257865036425\n",
      "Change     = 0.005281955346698619\n",
      "Generation = 8\n",
      "Fitness    = 0.6166257865036425\n",
      "Change     = 0.0\n",
      "Generation = 9\n",
      "Fitness    = 0.6212612915660191\n",
      "Change     = 0.004635505062376533\n",
      "Generation = 10\n",
      "Fitness    = 0.6212644198978922\n",
      "Change     = 3.1283318731034626e-06\n"
     ]
    },
    {
     "name": "stderr",
     "output_type": "stream",
     "text": [
      "/data/software/anaconda3/envs/bfx-gpu/lib/python3.7/site-packages/pygad/pygad.py:3105: UserWarning: Please use the plot_fitness() method instead of plot_result(). The plot_result() method will be removed in the future.\n",
      "  warnings.warn(\"Please use the plot_fitness() method instead of plot_result(). The plot_result() method will be removed in the future.\")\n"
     ]
    },
    {
     "data": {
      "image/png": "[encoded data removed]",
      "text/plain": [
       "<Figure size 432x288 with 1 Axes>"
      ]
     },
     "metadata": {
      "needs_background": "light"
     },
     "output_type": "display_data"
    },
    {
     "name": "stdout",
     "output_type": "stream",
     "text": [
      "Parameters of the best solution : [11 58 37  5 54 36 53 45 46  2  3 44  4  4 44 34  6  6 44 44 38 38 13 44\n",
      " 38 45 30 44 39 20  4 14 20 12 29 46 45 58 45  4 51 38  7 55 58  1 51 59\n",
      " 33 40 61  1 48 37 37  2 36 20 32 23 46 28 22 16 13  4 34 51 29 22 22  5\n",
      " 25  7 44 16 13 60 46 13 36 21 53 60  8 26 23 15 55 43 21 51  2  7 31  5\n",
      " 12 40 42 53 63 57 41 61 54 63  6 32 17 24  1 40 20  3 28 63 17  3 29  2\n",
      "  7 52 31 25 22  6  2 38 60  0 31  5 11 62 34 47 56 60 20  0 40 29  0 30\n",
      " 28 27 22 22 15  1 31 51 27 28  2 15 57 56  6 45 54 58 17  8 61 53 16 61\n",
      "  7 46 20 13 33 26 51 25  0 30 41 51 24 31 37 28 21 20 29  0 29 24 15 34\n",
      " 11 41 11 23 61  1  5 25 16 17 28 45 49 32 31 62  5 58 47 46 57 37 44  7\n",
      " 55  3 61 60 36 60 28 57  1 21 43 37 38 55 34 36  7 32 51 63  5  7 52 20\n",
      " 48 20 28 61 40 24  0  0 41 62 30 45 61 15 52  7 28 17  9 33  4 21 54 27\n",
      " 62 47 53 57 35  8 57 10  6 31 23 31 27 15 15 44 22 23  9 58 23  6  1 37\n",
      " 27  0 46 29 41 38  9 17 25 28 30 46 28 39  2 14 62 51 32  3 37 23 37 51\n",
      " 58 47 28 15 40 17 44 45 11 15 15 27 15 10 44 22 21 22 25  6  3  7 45 24\n",
      " 41 41 33 45  0 39 17 47  6  3 33 24 28 25 44  0  7 57 16 21 37 20 39  1\n",
      " 44 22 53 42  6 42 44 54  1 23 12 25 24 42 58 39 37 21 13 22  7  7 55 27\n",
      " 38 15  7 42 44 11 62  6  5 47  2  7 28 30 30 23  2 51 46 31 13 34 23 45\n",
      " 63 41 12  7 29 34 24 21 43 15 61 12  3 45 35 44 21 59 38 23 61 38 44 28\n",
      " 45 51 55 45 44 14  7  9 17 47 32 28 29 42 55 47 20 37 25 59 32 13 45 13\n",
      " 41  3 54  7 54 60 14 36 36 60 36 62  4 14 17 15 40 58 17  7 29 25 61  5\n",
      " 49 32 37 29 62 31 51 53 59  5 62 58 38 13  1 37 40 44 30 23  1 53 53 11\n",
      " 53 47 45 31 29 37 15 46 45 46 36 55 37  5 38 45 62 60 53  7 41  7 58 36\n",
      " 47  3 58  7 36 56  4  7  5 14 20 15 49 45 54 36 31 27 37 36 60 23 13 43\n",
      " 53  7 53 45  7 38  5 43 23 61 23  5 13  4 13 51 57 28 31 21 15 60 57 26\n",
      " 48  4 51 41 16 30 10 22  0 56 23 29 61 26 44 17 43 38 12 33 52 27 36 32\n",
      " 41  0 25  2  1 15  0 57 39 28 42 63 46 15 33 61 34 17 53 13 52 45  5 29\n",
      " 16 51 45 58 37 60 36  0 33 29 36 14 37 16  3 30 13 38 13 38 52 62 37 36\n",
      " 35 37 62 24 36 18]\n",
      "NT Sequence of the best solution : ATGAGACCCCTCCGACCTCGCGCCGCATTATTGGCTCTTCTTGCTTCACTACTAGCTGCTCCACCAGTCGCTCCAGCCGAAGCTCCGCATCTTGTACATGTTGACGCAGCCAGAGCCCTTTGGCCACTGCGGAGATTCTGGAGGTCCACTGGCTTCTGTCCCCCCTTACCTCATTCTCAGGCAGATCAATATGTCCTTTCATGGGACCAACAACTCAACCTGGCTTATGTCGGTGCAGTCCCTCACCGCGGTATTAAACAGGTGCGGACGCACTGGTTACTGGAGCTCGTTACTACACGCGGGAGCACCGGCCGAGGGCTATCTTACAATTTCACTCATTTGGATGGGTACTTGGACTTACTGCGTGAGAACCAACTATTACCAGGTTTTGAGCTCATGGGATCAGCGAGTGGTCATTTTACTGACTTTGAAGATAAGCAACAAGTGTTCGAGTGGAAGGATTTAGTGAGCAGTCTAGCCCGAAGATACATTGGCCGCTATGGCCTGGCACATGTCTCCAAATGGAACTTTGAAACCTGGAATGAGCCCGATCACCATGACTTTGACAATGTGTCAATGACCATGCAGGGCTTCCTCAACTATTACGATGCCTGCTCTGAGGGACTCAGAGCGGCAAGCCCCGCTCTGCGGTTGGGCGGTCCTGGTGATAGCTTCCACACGCCCCCACGGTCACCTCTGTCTTGGGGGCTCCTGCGTCATTGTCATGATGGCACTAATTTTTTTACCGGAGAAGCCGGCGTGCGTCTGGATTACATCTCCCTTCACCGAAAGGGAGCGCGCAGCTCGATTAGCATACTAGAGCAGGAGAAGGTGGTGGCTCAACAGATCAGACAGCTATTCCCCAAGTTTGCAGACACCCCAATCTACAACGATGAAGCAGATCCGTTAGTAGGATGGTCTTTGCCCCAGCCCTGGAGAGCGGATGTGACTTACGCTGCCATGGTGGTGAAGGTGATAGCTCAACACCAAAACCTATTGCTGGCCAATACCACCTCCGCCTTTCCGTACGCGCTATTGTCCAATGATAACGCTTTTCTGAGCTATCACCCCCATCCGTTCGCTCAACGCACACTAACAGCTCGATTCCAGGTTAACAATACAAGACCGCCCCACGTCCAACTGCTGCGGAAGCCAGTGCTGACAGCTATGGGACTACTCGCGTTACTGGATGAAGAACAGTTATGGGCAGAGGTCTCACAGGCCGGGACCGTTCTGGACTCAAATCACACGGTGGGCGTTTTGGCCTCGGCTCACAGGCCACAGGGCCCAGCTGATGCCTGGCGGGCCGCTGTACTGATCTACGCGTCTGATGACACACGGGCGCATCCCAACAGGTCTGTCGCCGTCACCTTGCGACTGCGAGGTGTACCTCCTGGTCCTGGACTTGTATACGTGACTAGATACCTGGACAACGGCCTCTGCTCTCCCGACGGAGAGTGGCGCAGGCTCGGAAGACCAGTCTTCCCCACTGCTGAACAGTTCCGCCGCATGCGCGCGGCCGAGGACCCCGTGGCAGCCGCACCTCGGCCCCTCCCAGCCGGAGGTCGCCTGACCCTGAGACCTGCGTTGAGACTGCCTAGTCTTCTGCTCGTACATGTGTGCGCCCGACCTGAGAAGCCCCCTGGTCAGGTCACGCGCCTGCGCGCCCTGCCACTCACGCAGGGCCAGCTCGTCCTTGTCTGGAGCGATGAGCACGTGGGTAGCAAATGTCTTTGGACCTATGAAATACAATTTAGTCAGGACGGCAAAGCTTACACGCCAGTTTCCCGTAAGCCTTCTACCTTTAACTTATTCGTGTTTAGCCCGGATACAGGGGCAGTGTCCGGCTCATACCGCGTCCGTGCCCTCGACTATTGGGCCAGACCCGGTCCTTTTTCCGACCCTGTACCCTATTTGGAAGTCCCAGTCCCACGTGGACCCCCTTCGCCCGGAAATCCTTAA\n",
      "Fitness value of the best solution = 0.6212644198978922\n",
      "Index of the best solution : 15\n",
      "Best fitness value reached after 10 generations.\n"
     ]
    },
    {
     "data": {
      "image/png": "[encoded data removed]",
      "text/plain": [
       "<Figure size 432x288 with 1 Axes>"
      ]
     },
     "metadata": {
      "needs_background": "light"
     },
     "output_type": "display_data"
    },
    {
     "name": "stdout",
     "output_type": "stream",
     "text": [
      "CPU times: user 442 ms, sys: 42.3 ms, total: 485 ms\n",
      "Wall time: 597 ms\n"
     ]
    },
    {
     "data": {
      "image/png": "[encoded data removed]",
      "text/plain": [
       "<Figure size 432x288 with 1 Axes>"
      ]
     },
     "execution_count": 11,
     "metadata": {},
     "output_type": "execute_result"
    }
   ],
   "source": [
    "%%time\n",
    "\n",
    "# Running the GA to optimize the parameters of the function.\n",
    "ga_instance.run()\n",
    "\n",
    "# After the generations complete, some plots are showed that summarize the how the outputs/fitenss values evolve over generations.\n",
    "ga_instance.plot_result()\n",
    "\n",
    "# Returning the details of the best solution.\n",
    "solution, solution_fitness, solution_idx = ga_instance.best_solution()\n",
    "print(\"Parameters of the best solution : {solution}\".format(solution=solution))\n",
    "seq_aa = ''.join([codon_to_int[x] for x in solution])\n",
    "print(\"NT Sequence of the best solution : {seq_aa}\".format(seq_aa=seq_aa))\n",
    "print(\"Fitness value of the best solution = {solution_fitness}\".format(solution_fitness=solution_fitness))\n",
    "print(\"Index of the best solution : {solution_idx}\".format(solution_idx=solution_idx))\n",
    "\n",
    "# # prediction = numpy.sum(numpy.array(function_inputs)*solution) Replace\n",
    "# print(\"Predicted output based on the best solution : {prediction}\".format(prediction=prediction))\n",
    "\n",
    "if ga_instance.best_solution_generation != -1:\n",
    "    print(\"Best fitness value reached after {best_solution_generation} generations.\".format(best_solution_generation=ga_instance.best_solution_generation))\n",
    "\n",
    "# Saving the GA instance.\n",
    " # The filename to which the instance is saved. The name is without extension.\n",
    "ga_instance.save(filename=filename)\n",
    "\n",
    "# Loading the saved GA instance.\n",
    "loaded_ga_instance = pygad.load(filename=filename)\n",
    "loaded_ga_instance.plot_result()"
   ]
  },
  {
   "cell_type": "code",
   "execution_count": null,
   "metadata": {},
   "outputs": [],
   "source": []
  }
 ],
 "metadata": {
  "kernelspec": {
   "display_name": "Python 3 (GPU)",
   "language": "python",
   "name": "bfx-gpu"
  },
  "language_info": {
   "codemirror_mode": {
    "name": "ipython",
    "version": 3
   },
   "file_extension": ".py",
   "mimetype": "text/x-python",
   "name": "python",
   "nbconvert_exporter": "python",
   "pygments_lexer": "ipython3",
   "version": "3.7.11"
  }
 },
 "nbformat": 4,
 "nbformat_minor": 4
}
