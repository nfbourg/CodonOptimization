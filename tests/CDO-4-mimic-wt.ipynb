{
 "cells": [
  {
   "cell_type": "code",
   "execution_count": 1,
   "id": "77d8c53a-28c2-4cf9-9359-9d05fa6539b3",
   "metadata": {},
   "outputs": [],
   "source": [
    "ga_input = '/grid/home/nbourgeois/data/test_proteins/pah/pah.pep.fas' #sequence pep.fas Input\n",
    "tissue = 'Liver' # Tissue type for CoCoPuts\n"
   ]
  },
  {
   "cell_type": "code",
   "execution_count": 2,
   "id": "d458eaff-ef99-4c9f-a3b4-462b2dacfdeb",
   "metadata": {},
   "outputs": [],
   "source": [
    "import os\n",
    "cwd = os.getcwd()\n",
    "\n",
    "## Import the code for codon opt\n",
    "import sys\n",
    "sys.path.insert(1, '/grid/home/nbourgeois/codonOpt')\n",
    "# from run_pygad import *\n",
    "from general_functions import *\n",
    "import dyn_prog\n",
    "import importlib"
   ]
  },
  {
   "cell_type": "code",
   "execution_count": 3,
   "id": "1c3b2b46-940c-4b1c-83e7-2b8aabd6f383",
   "metadata": {},
   "outputs": [],
   "source": [
    "(keys, seqs) = readFasta(ga_input)\n",
    "if len(seqs) == 1:\n",
    "    aa_seq=str(seqs[0])"
   ]
  },
  {
   "cell_type": "code",
   "execution_count": 4,
   "id": "28ee5bbe-cbe2-4f32-9ed6-a6c27365b499",
   "metadata": {},
   "outputs": [],
   "source": [
    "wt_loc = '/grid/home/nbourgeois/data/codon_jason/wt_pah.fa'\n",
    "a,seq = readFasta(wt_loc)\n",
    "wt_seq = str(seq[0])\n"
   ]
  },
  {
   "cell_type": "code",
   "execution_count": 5,
   "id": "f49654a5-48fa-400c-a9d9-16ca1bae4461",
   "metadata": {},
   "outputs": [],
   "source": [
    "aa_seq = 'MSTAVLENP'\n",
    "\n",
    "wt_seq  = wt_seq[:len(aa_seq)*3]"
   ]
  },
  {
   "cell_type": "code",
   "execution_count": 6,
   "id": "26cd6095-6006-462d-a996-d031326e2f5f",
   "metadata": {},
   "outputs": [
    {
     "ename": "NameError",
     "evalue": "name 'time' is not defined",
     "output_type": "error",
     "traceback": [
      "\u001b[0;31m---------------------------------------------------------------------------\u001b[0m",
      "\u001b[0;31mNameError\u001b[0m                                 Traceback (most recent call last)",
      "\u001b[0;32m/tmp/ipykernel_5896/4074261006.py\u001b[0m in \u001b[0;36m<module>\u001b[0;34m\u001b[0m\n\u001b[1;32m      2\u001b[0m \u001b[0;34m\u001b[0m\u001b[0m\n\u001b[1;32m      3\u001b[0m \u001b[0mdepth\u001b[0m \u001b[0;34m=\u001b[0m \u001b[0;36m2\u001b[0m\u001b[0;34m\u001b[0m\u001b[0;34m\u001b[0m\u001b[0m\n\u001b[0;32m----> 4\u001b[0;31m \u001b[0mtic\u001b[0m \u001b[0;34m=\u001b[0m \u001b[0mtime\u001b[0m\u001b[0;34m.\u001b[0m\u001b[0mtime\u001b[0m\u001b[0;34m(\u001b[0m\u001b[0;34m)\u001b[0m\u001b[0;34m\u001b[0m\u001b[0;34m\u001b[0m\u001b[0m\n\u001b[0m\u001b[1;32m      5\u001b[0m \u001b[0moptimizer\u001b[0m \u001b[0;34m=\u001b[0m \u001b[0mdyn_prog\u001b[0m\u001b[0;34m.\u001b[0m\u001b[0mOptimizer\u001b[0m\u001b[0;34m(\u001b[0m\u001b[0maa_seq\u001b[0m\u001b[0;34m,\u001b[0m \u001b[0mtissues\u001b[0m\u001b[0;34m=\u001b[0m\u001b[0;34m'Liver'\u001b[0m\u001b[0;34m,\u001b[0m \u001b[0mmimic\u001b[0m\u001b[0;34m=\u001b[0m\u001b[0;32mTrue\u001b[0m\u001b[0;34m,\u001b[0m \u001b[0mwt_seq\u001b[0m\u001b[0;34m=\u001b[0m\u001b[0mwt_seq\u001b[0m\u001b[0;34m)\u001b[0m\u001b[0;34m\u001b[0m\u001b[0;34m\u001b[0m\u001b[0m\n\u001b[1;32m      6\u001b[0m \u001b[0;31m# optimizer.init_mimic(depth)\u001b[0m\u001b[0;34m\u001b[0m\u001b[0;34m\u001b[0m\u001b[0;34m\u001b[0m\u001b[0m\n",
      "\u001b[0;31mNameError\u001b[0m: name 'time' is not defined"
     ]
    }
   ],
   "source": [
    "importlib.reload(dyn_prog)\n",
    "\n",
    "depth = 2\n",
    "tic = time.time()\n",
    "optimizer = dyn_prog.Optimizer(aa_seq, tissues='Liver', mimic=True, wt_seq=wt_seq)\n",
    "# optimizer.init_mimic(depth)\n",
    "optimized_seq = optimizer.optimize()\n",
    "optimizer.perf_count\n",
    "toc=time.time()"
   ]
  },
  {
   "cell_type": "code",
   "execution_count": null,
   "id": "1d3a17dd-9939-4052-a6ed-bb59968b5712",
   "metadata": {},
   "outputs": [],
   "source": []
  }
 ],
 "metadata": {
  "kernelspec": {
   "display_name": "Python [conda env:codonOpt]",
   "language": "python",
   "name": "conda-env-codonOpt-py"
  },
  "language_info": {
   "codemirror_mode": {
    "name": "ipython",
    "version": 3
   },
   "file_extension": ".py",
   "mimetype": "text/x-python",
   "name": "python",
   "nbconvert_exporter": "python",
   "pygments_lexer": "ipython3",
   "version": "3.7.11"
  },
  "vscode": {
   "interpreter": {
    "hash": "2a3f1949715c4c2150ada30d600e95cbed21e98c3870dff0d97e6637efeff1cd"
   }
  }
 },
 "nbformat": 4,
 "nbformat_minor": 5
}
