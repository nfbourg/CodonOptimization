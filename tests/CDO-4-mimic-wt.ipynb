{
 "cells": [
  {
   "cell_type": "code",
   "execution_count": 1,
   "id": "77d8c53a-28c2-4cf9-9359-9d05fa6539b3",
   "metadata": {},
   "outputs": [],
   "source": [
    "ga_input = '/grid/home/nbourgeois/data/test_proteins/pah/pah.pep.fas' #sequence pep.fas Input\n",
    "tissue = 'Liver' # Tissue type for CoCoPuts\n"
   ]
  },
  {
   "cell_type": "code",
   "execution_count": 2,
   "id": "d458eaff-ef99-4c9f-a3b4-462b2dacfdeb",
   "metadata": {},
   "outputs": [],
   "source": [
    "import os\n",
    "cwd = os.getcwd()\n",
    "\n",
    "## Import the code for codon opt\n",
    "import sys\n",
    "sys.path.insert(1, '/grid/home/nbourgeois/codonOpt')\n",
    "# from run_pygad import *\n",
    "from general_functions import *\n",
    "from dyn_prog import *\n",
    "from run_pygad import *"
   ]
  },
  {
   "cell_type": "code",
   "execution_count": 3,
   "id": "1c3b2b46-940c-4b1c-83e7-2b8aabd6f383",
   "metadata": {},
   "outputs": [],
   "source": [
    "(keys, seqs) = readFasta(ga_input)\n",
    "if len(seqs) == 1:\n",
    "    aa_seq=str(seqs[0])"
   ]
  },
  {
   "cell_type": "code",
   "execution_count": 4,
   "id": "28ee5bbe-cbe2-4f32-9ed6-a6c27365b499",
   "metadata": {},
   "outputs": [],
   "source": [
    "wt_loc = '/grid/home/nbourgeois/data/codon_jason/wt_pah.fa'\n",
    "a,seq = readFasta(wt_loc)\n",
    "wt_seq = str(seq[0])\n"
   ]
  },
  {
   "cell_type": "code",
   "execution_count": 5,
   "id": "26cd6095-6006-462d-a996-d031326e2f5f",
   "metadata": {},
   "outputs": [
    {
     "name": "stdout",
     "output_type": "stream",
     "text": [
      "0.6931184468974366\n"
     ]
    },
    {
     "data": {
      "text/plain": [
       "17056"
      ]
     },
     "execution_count": 5,
     "metadata": {},
     "output_type": "execute_result"
    }
   ],
   "source": [
    "optimizer = Optimizer(aa_seq, tissues='Liver', og_ramp=True, og_seq=wt_seq)\n",
    "optimized_seq = optimizer.optimize()\n",
    "optimizer.perf_count"
   ]
  }
 ],
 "metadata": {
  "kernelspec": {
   "display_name": "Python [conda env:codonOpt]",
   "language": "python",
   "name": "conda-env-codonOpt-py"
  },
  "language_info": {
   "codemirror_mode": {
    "name": "ipython",
    "version": 3
   },
   "file_extension": ".py",
   "mimetype": "text/x-python",
   "name": "python",
   "nbconvert_exporter": "python",
   "pygments_lexer": "ipython3",
   "version": "3.7.11"
  }
 },
 "nbformat": 4,
 "nbformat_minor": 5
}
