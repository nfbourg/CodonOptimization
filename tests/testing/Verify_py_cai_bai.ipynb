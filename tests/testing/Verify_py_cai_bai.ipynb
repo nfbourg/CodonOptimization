{
 "cells": [
  {
   "cell_type": "markdown",
   "metadata": {},
   "source": [
    "verifying the original and python implementation of cai/bai"
   ]
  },
  {
   "cell_type": "code",
   "execution_count": 15,
   "metadata": {},
   "outputs": [],
   "source": [
    "import os\n",
    "cwd = os.getcwd()\n",
    "\n",
    "pygad_loc = '/grid/home/nbourgeois/hmi_bifx_tools/codon_optimization'\n",
    "os.chdir(pygad_loc)\n",
    "from metrics import get_bai as get_bai_old\n",
    "from metrics import get_cai as get_cai_old\n"
   ]
  },
  {
   "cell_type": "code",
   "execution_count": 17,
   "metadata": {},
   "outputs": [],
   "source": [
    "def get_codon_weights(index_loc):\n",
    "    \n",
    "    codon_table_raw = pd.read_csv(index_loc,sep='\\t')\n",
    "    codon_table = codon_table_raw.set_index('#Codon')\n",
    "    maxes = codon_table_raw.groupby(by=['AA'])['Frequency'].max()\n",
    "    codon_table['max_col'] = codon_table.apply(lambda x: maxes[x['AA']],axis=1)\n",
    "    codon_table['weight'] = codon_table['Frequency'] / codon_table['max_col']\n",
    "    weight_dict = codon_table['weight'].to_dict()\n",
    "    \n",
    "    return(weight_dict)\n",
    "\n",
    "def get_cai(seq, weight_dict):\n",
    "    if weight_dict is str:\n",
    "        weight_dict = get_codon_weights(weight_dict)\n",
    "    weights = [weight_dict[seq[i:i+3]] for i in range(0, len(seq)-3, 3)] #convert to codon_list -> use weight dictionary\n",
    "    cai = geo_mean(weights)\n",
    "    return(cai)\n",
    "\n",
    "def geo_mean(iterable):\n",
    "    a = np.array(iterable)\n",
    "    a = np.log(a)\n",
    "    return np.exp(a.sum() / len(a))\n",
    "\n",
    "def get_bicodon_weights(index_loc):\n",
    "    \n",
    "    def bicodon_to_AA(string):\n",
    "        cod1 = string[:3]\n",
    "        cod2 = string[3:]\n",
    "        biAA = forward_table[cod1] + forward_table[cod2]\n",
    "        return(biAA)\n",
    "    \n",
    "    def get_forward_table():\n",
    "        codon_usage_table_loc = '~/references/codon_usage.getex.txt'\n",
    "        codon_usage_table = pd.read_csv(codon_usage_table_loc,sep='\\t')\n",
    "        forward_table = pd.Series(codon_usage_table.AA.values,index=codon_usage_table.Codon).to_dict()\n",
    "        return(forward_table)\n",
    "     \n",
    "    # create table\n",
    "    codon_table_raw_t = pd.read_csv(index_loc,sep='\\t')\n",
    "    codon_table = codon_table_raw_t.T\n",
    "\n",
    "    # add amino acid pair column\n",
    "    bicodons_nt = list(codon_table.index)\n",
    "    forward_table = get_forward_table()\n",
    "    codon_table['AApair'] = list(map(bicodon_to_AA,bicodons_nt))\n",
    "    total = codon_table[0].sum()\n",
    "    \n",
    "    #add frequency\n",
    "    bicodons_nt = list(codon_table.index)\n",
    "    codon_table['AApair'] = list(map(bicodon_to_AA,bicodons_nt))\n",
    "    total = codon_table[0].sum()\n",
    "    codon_table['Frequency'] = codon_table.apply(lambda x: (x[0] / total * 1000) ,axis=1)\n",
    "    \n",
    "    #calculate weights\n",
    "    maxes = codon_table.groupby(by=['AApair'])['Frequency'].max()\n",
    "    codon_table['max_col'] = codon_table.apply(lambda x: maxes[x['AApair']],axis=1)\n",
    "    codon_table['weight'] = codon_table['Frequency'] / codon_table['max_col']\n",
    "    \n",
    "    weight_dict = codon_table['weight'].to_dict()\n",
    "    \n",
    "    return(weight_dict)\n",
    "\n",
    "def get_bai(seq, weight_dict):\n",
    "    if weight_dict is str:\n",
    "        weight_dict = get_bicodon_weights(weight_dict)\n",
    "        \n",
    "    # sliding window bicodon, excludes the last codon\n",
    "    weights = [weight_dict[seq[i:i+6]] for i in range(0, len(seq)-6, 3)] #convert to codon_list -> use weight dictionary\n",
    "    \n",
    "    bai = geo_mean(weights)\n",
    "    return(bai)"
   ]
  },
  {
   "cell_type": "code",
   "execution_count": 9,
   "metadata": {},
   "outputs": [],
   "source": [
    "dirs = ['/grid/home/nbourgeois/data/test_sequences/pah',\n",
    "        '/grid/home/nbourgeois/data/test_sequences/hidua']\n",
    "\n",
    "fastaIDs, seqs = readFasta('/grid/home/nbourgeois/data/test_sequences/PAH_codon_random_10k.fa')\n",
    "        "
   ]
  },
  {
   "cell_type": "code",
   "execution_count": 18,
   "metadata": {},
   "outputs": [],
   "source": [
    "cai_index_loc = os.path.join(pygad_loc,'CoCoPUTs_codon_usage/codon_usage/'+'Liver'+'.codon.txt')\n",
    "bai_index_loc = os.path.join(pygad_loc,'CoCoPUTs_codon_usage/bicodon_usage/'+'Liver'+'.bicodon.txt')\n",
    "\n",
    "codon_usage_table_loc = os.path.join(pygad_loc,'references','codon_usage.getex.txt')\n",
    "cai_weight_dict = get_codon_weights(cai_index_loc)\n",
    "bai_weight_dict = get_bicodon_weights(bai_index_loc)"
   ]
  },
  {
   "cell_type": "code",
   "execution_count": 29,
   "metadata": {},
   "outputs": [
    {
     "data": {
      "text/plain": [
       "0.633"
      ]
     },
     "execution_count": 29,
     "metadata": {},
     "output_type": "execute_result"
    }
   ],
   "source": [
    "get_cai(seqs[1],cai_weight_dict)\n",
    "# get_cai_old(seq,cai_index_loc)\n",
    "\n",
    "round(get_cai_old(seq,cai_index_loc),3)"
   ]
  },
  {
   "cell_type": "code",
   "execution_count": 30,
   "metadata": {},
   "outputs": [
    {
     "data": {
      "text/plain": [
       "0.0010000000000000009"
      ]
     },
     "execution_count": 30,
     "metadata": {},
     "output_type": "execute_result"
    }
   ],
   "source": [
    "round(get_cai_old(seq,cai_index_loc),3) - round(get_cai(seq,cai_weight_dict),3)"
   ]
  },
  {
   "cell_type": "code",
   "execution_count": 36,
   "metadata": {},
   "outputs": [
    {
     "data": {
      "text/plain": [
       "True"
      ]
     },
     "execution_count": 36,
     "metadata": {},
     "output_type": "execute_result"
    }
   ],
   "source": [
    "x=10\n"
   ]
  },
  {
   "cell_type": "code",
   "execution_count": 37,
   "metadata": {},
   "outputs": [
    {
     "name": "stdout",
     "output_type": "stream",
     "text": [
      "0\n",
      "Mismatch: CAI 0.657 0.656\n",
      "100\n",
      "Mismatch: CAI 0.658 0.657\n",
      "200\n",
      "Mismatch: CAI 0.642 0.641\n",
      "300\n",
      "400\n",
      "Mismatch: CAI 0.64 0.639\n",
      "500\n",
      "Mismatch: CAI 0.661 0.66\n",
      "Mismatch: CAI 0.638 0.637\n",
      "Mismatch: CAI 0.64 0.639\n",
      "600\n",
      "700\n",
      "Mismatch: CAI 0.645 0.644\n",
      "800\n",
      "Mismatch: CAI 0.633 0.632\n",
      "900\n",
      "1000\n",
      "Mismatch: CAI 0.644 0.643\n",
      "1100\n",
      "Mismatch: CAI 0.659 0.658\n",
      "1200\n",
      "Mismatch: CAI 0.655 0.654\n",
      "1300\n",
      "Mismatch: CAI 0.66 0.659\n",
      "1400\n",
      "Mismatch: CAI 0.638 0.637\n",
      "1500\n",
      "1600\n",
      "Mismatch: CAI 0.655 0.654\n",
      "1700\n",
      "1800\n",
      "1900\n",
      "Mismatch: CAI 0.667 0.666\n",
      "Mismatch: CAI 0.643 0.642\n",
      "Mismatch: CAI 0.644 0.643\n",
      "Mismatch: CAI 0.639 0.638\n",
      "2000\n",
      "2100\n",
      "Mismatch: CAI 0.648 0.647\n",
      "2200\n",
      "Mismatch: CAI 0.668 0.667\n",
      "2300\n",
      "2400\n",
      "Mismatch: CAI 0.658 0.657\n",
      "Mismatch: CAI 0.661 0.66\n",
      "Mismatch: CAI 0.64 0.639\n",
      "2500\n",
      "2600\n",
      "Mismatch: CAI 0.651 0.65\n",
      "2700\n",
      "Mismatch: CAI 0.652 0.651\n",
      "Mismatch: CAI 0.665 0.664\n",
      "2800\n",
      "Mismatch: CAI 0.646 0.645\n",
      "2900\n",
      "3000\n",
      "Mismatch: CAI 0.647 0.646\n",
      "Mismatch: CAI 0.652 0.651\n",
      "3100\n",
      "Mismatch: CAI 0.655 0.654\n",
      "3200\n",
      "Mismatch: CAI 0.64 0.639\n",
      "Mismatch: CAI 0.655 0.654\n",
      "3300\n",
      "3400\n",
      "Mismatch: CAI 0.662 0.661\n",
      "3500\n",
      "3600\n",
      "3700\n",
      "3800\n",
      "Mismatch: CAI 0.648 0.647\n",
      "Mismatch: CAI 0.639 0.638\n",
      "Mismatch: CAI 0.639 0.638\n",
      "3900\n",
      "Mismatch: CAI 0.651 0.65\n",
      "Mismatch: CAI 0.643 0.642\n",
      "Mismatch: CAI 0.64 0.639\n",
      "Mismatch: CAI 0.651 0.65\n",
      "4000\n",
      "Mismatch: CAI 0.654 0.653\n",
      "4100\n",
      "4200\n",
      "Mismatch: CAI 0.653 0.652\n",
      "Mismatch: CAI 0.641 0.64\n",
      "4300\n",
      "4400\n",
      "Mismatch: CAI 0.644 0.643\n",
      "Mismatch: CAI 0.641 0.64\n",
      "4500\n",
      "Mismatch: CAI 0.66 0.659\n",
      "4600\n",
      "Mismatch: CAI 0.646 0.645\n",
      "Mismatch: CAI 0.646 0.645\n",
      "4700\n",
      "4800\n",
      "Mismatch: CAI 0.658 0.657\n",
      "4900\n",
      "Mismatch: CAI 0.639 0.638\n",
      "5000\n",
      "Mismatch: CAI 0.635 0.634\n",
      "5100\n",
      "Mismatch: CAI 0.637 0.636\n",
      "5200\n",
      "Mismatch: CAI 0.654 0.653\n",
      "Mismatch: CAI 0.662 0.661\n",
      "Mismatch: CAI 0.647 0.646\n",
      "Mismatch: CAI 0.643 0.642\n",
      "5300\n",
      "5400\n",
      "Mismatch: CAI 0.652 0.651\n",
      "5500\n",
      "Mismatch: CAI 0.648 0.647\n",
      "Mismatch: CAI 0.646 0.645\n",
      "5600\n",
      "Mismatch: CAI 0.646 0.645\n",
      "5700\n",
      "Mismatch: CAI 0.641 0.64\n",
      "5800\n",
      "Mismatch: CAI 0.651 0.65\n",
      "Mismatch: CAI 0.639 0.638\n",
      "5900\n",
      "Mismatch: CAI 0.664 0.663\n",
      "6000\n",
      "Mismatch: CAI 0.635 0.634\n",
      "Mismatch: CAI 0.649 0.648\n",
      "6100\n",
      "Mismatch: CAI 0.644 0.643\n",
      "Mismatch: CAI 0.638 0.637\n",
      "6200\n",
      "Mismatch: CAI 0.655 0.654\n",
      "6300\n",
      "Mismatch: CAI 0.635 0.634\n",
      "6400\n",
      "Mismatch: CAI 0.679 0.678\n",
      "6500\n",
      "6600\n",
      "6700\n",
      "Mismatch: CAI 0.646 0.645\n",
      "6800\n",
      "Mismatch: CAI 0.642 0.641\n",
      "6900\n",
      "7000\n",
      "7100\n",
      "7200\n",
      "Mismatch: CAI 0.649 0.648\n",
      "7300\n",
      "Mismatch: CAI 0.634 0.633\n",
      "Mismatch: CAI 0.642 0.641\n",
      "Mismatch: CAI 0.654 0.653\n",
      "7400\n",
      "7500\n",
      "Mismatch: CAI 0.658 0.657\n",
      "7600\n",
      "Mismatch: CAI 0.643 0.642\n",
      "7700\n",
      "Mismatch: CAI 0.642 0.641\n",
      "Mismatch: CAI 0.647 0.646\n",
      "7800\n",
      "Mismatch: CAI 0.637 0.636\n",
      "7900\n",
      "Mismatch: CAI 0.662 0.661\n",
      "Mismatch: CAI 0.653 0.652\n",
      "8000\n",
      "Mismatch: CAI 0.666 0.665\n",
      "Mismatch: CAI 0.637 0.636\n",
      "Mismatch: CAI 0.649 0.648\n",
      "8100\n",
      "8200\n",
      "8300\n",
      "8400\n",
      "Mismatch: CAI 0.639 0.638\n",
      "8500\n",
      "8600\n",
      "Mismatch: CAI 0.645 0.644\n",
      "8700\n",
      "Mismatch: CAI 0.669 0.668\n",
      "Mismatch: CAI 0.646 0.645\n",
      "8800\n",
      "Mismatch: CAI 0.637 0.636\n",
      "8900\n",
      "9000\n",
      "Mismatch: CAI 0.666 0.665\n",
      "9100\n",
      "Mismatch: CAI 0.642 0.641\n",
      "Mismatch: CAI 0.64 0.639\n",
      "Mismatch: CAI 0.644 0.643\n",
      "9200\n",
      "Mismatch: CAI 0.639 0.638\n",
      "Mismatch: CAI 0.669 0.668\n",
      "9300\n",
      "Mismatch: CAI 0.642 0.641\n",
      "9400\n",
      "Mismatch: CAI 0.644 0.643\n",
      "Mismatch: CAI 0.654 0.653\n",
      "Mismatch: CAI 0.653 0.652\n",
      "Mismatch: CAI 0.646 0.645\n",
      "Mismatch: CAI 0.637 0.636\n",
      "9500\n",
      "Mismatch: CAI 0.632 0.631\n",
      "9600\n",
      "Mismatch: CAI 0.644 0.643\n",
      "9700\n",
      "Mismatch: CAI 0.638 0.637\n",
      "9800\n",
      "Mismatch: CAI 0.65 0.649\n",
      "Mismatch: CAI 0.644 0.643\n",
      "Mismatch: CAI 0.655 0.654\n",
      "Mismatch: CAI 0.641 0.64\n",
      "Mismatch: CAI 0.656 0.655\n",
      "9900\n"
     ]
    }
   ],
   "source": [
    "i=0\n",
    "for seq in seqs:\n",
    "    if i % 100 == 0:\n",
    "        print(i)\n",
    "    seq = str(seq)\n",
    "    \n",
    "    cai = round(get_cai(seq,cai_weight_dict),3)\n",
    "    old_cai = round(get_cai_old(seq,cai_index_loc),3)\n",
    "    if cai - old_cai > .001 :\n",
    "        print('Mismatch: CAI',cai,old_cai)\n",
    "        \n",
    "    \n",
    "    bai = round(get_bai(seq,bai_weight_dict),6)\n",
    "    old_bai = round(get_bai_old(seq,bai_index_loc),6)\n",
    "    if bai - old_bai > .00001 :\n",
    "        print('Mismatch: BAI',bai,old_bai)\n",
    "        \n",
    "    i +=1\n",
    "    \n",
    "    \n",
    "    "
   ]
  },
  {
   "cell_type": "code",
   "execution_count": 23,
   "metadata": {},
   "outputs": [
    {
     "data": {
      "text/plain": [
       "True"
      ]
     },
     "execution_count": 23,
     "metadata": {},
     "output_type": "execute_result"
    }
   ],
   "source": [
    "round(.0123456789,5) ==round(.01235005646,5)"
   ]
  },
  {
   "cell_type": "code",
   "execution_count": 22,
   "metadata": {},
   "outputs": [
    {
     "data": {
      "text/plain": [
       "0.01236"
      ]
     },
     "execution_count": 22,
     "metadata": {},
     "output_type": "execute_result"
    }
   ],
   "source": []
  }
 ],
 "metadata": {
  "kernelspec": {
   "display_name": "Python 3",
   "language": "python",
   "name": "python3"
  },
  "language_info": {
   "codemirror_mode": {
    "name": "ipython",
    "version": 3
   },
   "file_extension": ".py",
   "mimetype": "text/x-python",
   "name": "python",
   "nbconvert_exporter": "python",
   "pygments_lexer": "ipython3",
   "version": "3.7.6"
  }
 },
 "nbformat": 4,
 "nbformat_minor": 4
}
