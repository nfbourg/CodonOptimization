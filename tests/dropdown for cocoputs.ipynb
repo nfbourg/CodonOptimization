{
 "cells": [
  {
   "cell_type": "code",
   "execution_count": 1,
   "metadata": {},
   "outputs": [],
   "source": [
    "import ipywidgets as widgets\n"
   ]
  },
  {
   "cell_type": "code",
   "execution_count": null,
   "metadata": {},
   "outputs": [],
   "source": []
  },
  {
   "cell_type": "code",
   "execution_count": 3,
   "metadata": {},
   "outputs": [],
   "source": [
    "import os\n",
    "\n"
   ]
  },
  {
   "cell_type": "code",
   "execution_count": 15,
   "metadata": {},
   "outputs": [],
   "source": [
    "def tissue_opt():\n",
    "    all_tiss = os.listdir('CoCoPUTs_codon_usage/codon_usage/')\n",
    "    tissues = [x.split('.')[0] for x in all_tiss]\n",
    "    tissues.append('')\n",
    "    tis_drop = widgets.Dropdown(\n",
    "        options=tissues,\n",
    "        value='',\n",
    "        description='Tissue:',\n",
    "        disabled=False,\n",
    "    )\n",
    "    return tis_drop"
   ]
  },
  {
   "cell_type": "code",
   "execution_count": 16,
   "metadata": {},
   "outputs": [
    {
     "data": {
      "application/vnd.jupyter.widget-view+json": {
       "model_id": "63ce002333ab48e7ba0ef27a9a415d91",
       "version_major": 2,
       "version_minor": 0
      },
      "text/plain": [
       "Dropdown(description='Tissue:', index=53, options=('Adipose_Subcutaneous', 'Adipose_Visceral_Omentum', 'Adrena…"
      ]
     },
     "metadata": {},
     "output_type": "display_data"
    }
   ],
   "source": [
    "dropdown = tissue_opt()\n",
    "dropdown"
   ]
  }
 ],
 "metadata": {
  "kernelspec": {
   "display_name": "Python 3",
   "language": "python",
   "name": "python3"
  },
  "language_info": {
   "codemirror_mode": {
    "name": "ipython",
    "version": 3
   },
   "file_extension": ".py",
   "mimetype": "text/x-python",
   "name": "python",
   "nbconvert_exporter": "python",
   "pygments_lexer": "ipython3",
   "version": "3.7.6"
  }
 },
 "nbformat": 4,
 "nbformat_minor": 4
}
