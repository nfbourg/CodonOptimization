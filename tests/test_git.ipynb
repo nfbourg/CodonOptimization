{
 "cells": [
  {
   "cell_type": "markdown",
   "metadata": {
    "scrolled": true
   },
   "source": [
    "# Variables"
   ]
  },
  {
   "cell_type": "code",
   "execution_count": 1,
   "metadata": {},
   "outputs": [],
   "source": [
    "ga_input = '/grid/home/nbourgeois/data/test_sequences/hidua/hidua.pep.fas' #sequence pep.fas Input\n",
    "tissue = 'Brain_Cerebellum' # Tissue type for CoCoPuts\n",
    "filename = 'test_git'"
   ]
  },
  {
   "cell_type": "markdown",
   "metadata": {},
   "source": [
    "# Imports\n"
   ]
  },
  {
   "cell_type": "markdown",
   "metadata": {},
   "source": [
    "## PyGAD"
   ]
  },
  {
   "cell_type": "code",
   "execution_count": 2,
   "metadata": {},
   "outputs": [
    {
     "name": "stderr",
     "output_type": "stream",
     "text": [
      "Using TensorFlow backend.\n"
     ]
    }
   ],
   "source": [
    "import os\n",
    "cwd = os.getcwd()\n",
    "pygad_loc = '/grid/home/nbourgeois/hmi_bifx_tools/codon_optimization'\n",
    "os.chdir(pygad_loc)\n",
    "import pygad\n",
    "import numpy\n",
    "import os\n",
    "import sys\n",
    "import Bio\n",
    "import pandas as pd\n",
    "from general_functions import *\n",
    "from metrics import *\n",
    "import hashlib\n",
    "import subprocess\n",
    "import time\n",
    "os.chdir(cwd)\n"
   ]
  },
  {
   "cell_type": "markdown",
   "metadata": {},
   "source": [
    "# Start"
   ]
  },
  {
   "cell_type": "markdown",
   "metadata": {},
   "source": [
    "## Parameters"
   ]
  },
  {
   "cell_type": "markdown",
   "metadata": {},
   "source": [
    "### Metrics"
   ]
  },
  {
   "cell_type": "code",
   "execution_count": 3,
   "metadata": {},
   "outputs": [],
   "source": [
    "cai_on = True\n",
    "bai_on = True\n",
    "sps_on = False\n",
    "cpg_on = False\n",
    "pas_on = False\n"
   ]
  },
  {
   "cell_type": "markdown",
   "metadata": {},
   "source": [
    "### Weights"
   ]
  },
  {
   "cell_type": "code",
   "execution_count": 4,
   "metadata": {},
   "outputs": [],
   "source": [
    "cai_w = 1 *cai_on\n",
    "bai_w = 1 *bai_on\n",
    "sps_w = 1 *sps_on\n",
    "cpg_w = 1 *cpg_on\n",
    "pas_w = 1 *pas_on"
   ]
  },
  {
   "cell_type": "code",
   "execution_count": 5,
   "metadata": {},
   "outputs": [],
   "source": [
    "global total_weight\n",
    "total_weight = sum([cai_w,bai_w,sps_w,cpg_w,pas_w])"
   ]
  },
  {
   "cell_type": "markdown",
   "metadata": {},
   "source": [
    "### Locations"
   ]
  },
  {
   "cell_type": "code",
   "execution_count": 6,
   "metadata": {},
   "outputs": [],
   "source": [
    "cai_index_loc = os.path.join(pygad_loc,'CoCoPUTs_codon_usage/codon_usage/'+tissue+'.codon.txt')\n",
    "bai_index_loc = os.path.join(pygad_loc,'CoCoPUTs_codon_usage/bicodon_usage/'+tissue+'.bicodon.txt')\n",
    "\n",
    "codon_usage_table_loc = os.path.join(pygad_loc,'codon_usage.getex.txt')"
   ]
  },
  {
   "cell_type": "markdown",
   "metadata": {},
   "source": [
    "# Algorithm"
   ]
  },
  {
   "cell_type": "markdown",
   "metadata": {},
   "source": [
    "### Read in File"
   ]
  },
  {
   "cell_type": "code",
   "execution_count": 7,
   "metadata": {},
   "outputs": [],
   "source": [
    "(keys, seqs) = readFasta(ga_input)\n",
    "if len(seqs) == 1:\n",
    "    aa_seq=str(seqs[0])"
   ]
  },
  {
   "cell_type": "markdown",
   "metadata": {},
   "source": [
    "### Initialize Parameters\n",
    "- gene_space\n",
    "- codon_to_int dictionary"
   ]
  },
  {
   "cell_type": "code",
   "execution_count": 8,
   "metadata": {},
   "outputs": [],
   "source": [
    "global codon_to_int\n",
    "\n",
    "codon_to_int, gene_space = init_parameters(codon_usage_table_loc, aa_seq)\n",
    "    \n",
    "gene_space_int = [[codon_to_int[x] for x in y] for y in gene_space]"
   ]
  },
  {
   "cell_type": "markdown",
   "metadata": {},
   "source": [
    "# Fitness Function"
   ]
  },
  {
   "cell_type": "code",
   "execution_count": 9,
   "metadata": {},
   "outputs": [],
   "source": [
    "def fitness_func(solution, solution_idx):\n",
    "    \n",
    "    if not type(solution) is str:\n",
    "        seq_aa = ''.join([codon_to_int[x] for x in solution])\n",
    "    else:\n",
    "        seq_aa = solution\n",
    "#     print(solution_idx)\n",
    "\n",
    "    tmp_dict = {}\n",
    "    \n",
    "    #Check for redundancy\n",
    "    if seq_aa in all_sols.keys():\n",
    "        fitness = all_sols[seq_aa]['fitness']\n",
    "\n",
    "    else:\n",
    "        fitness = 0\n",
    "        \n",
    "        if cai_on:\n",
    "            cai = get_cai(seq_aa, cai_index_loc)\n",
    "            fitness += cai*cai_w\n",
    "            tmp_dict['cai'] = cai\n",
    "        \n",
    "        if bai_on:\n",
    "            bai = get_bai(seq_aa, bai_index_loc)\n",
    "            fitness += bai*bai_w\n",
    "            tmp_dict['bai'] = bai\n",
    "            \n",
    "        if cpg_on:\n",
    "            cpg = get_cpg(seq_aa)\n",
    "            fitness += cpg*cpg_w\n",
    "            tmp_dict['cpg'] = cpg\n",
    "\n",
    "        if sps_on:\n",
    "            sps = get_sps(seq_aa)\n",
    "            print('SPS retuned.')\n",
    "\n",
    "            fitness += sps*sps_w\n",
    "            tmp_dict['sps'] = sps\n",
    "\n",
    "        if pas_on:\n",
    "            pas = get_pas(seq_aa)\n",
    "            fitness += pas*pas_w\n",
    "            tmp_dict['pas'] = pas\n",
    "\n",
    "        fitness = fitness/total_weight\n",
    "        tmp_dict['fitness'] = fitness\n",
    "        all_sols[seq_aa] = tmp_dict\n",
    "        \n",
    "    \n",
    "    return fitness\n",
    "\n",
    "    "
   ]
  },
  {
   "cell_type": "markdown",
   "metadata": {},
   "source": [
    "# Genetic Algorithm"
   ]
  },
  {
   "cell_type": "code",
   "execution_count": 10,
   "metadata": {},
   "outputs": [],
   "source": [
    "\"\"\"\n",
    "Given the following function:\n",
    "    y = f(w1:w6) = w1x1 + w2x2 + w3x3 + w4x4 + w5x5 + 6wx6\n",
    "    where (x1,x2,x3,x4,x5,x6)=(4,-2,3.5,5,-11,-4.7) and y=44\n",
    "What are the best values for the 6 weights (w1 to w6)? We are going to use the genetic algorithm to optimize this function.\n",
    "\"\"\"\n",
    "\n",
    "# def convert_aa_int():\n",
    "    \n",
    "desired_output = 1 # Function output.\n",
    "all_sols = {}\n",
    "\n",
    "fitness_function = fitness_func\n",
    "\n",
    "num_generations = 100 # Number of generations.\n",
    "num_parents_mating = 5 # Number of solutions to be selected as parents in the mating pool.\n",
    "\n",
    "sol_per_pop = 20 \n",
    "\n",
    "parent_selection_type = \"sss\" # Type of parent selection.\n",
    "keep_parents = 5 # Number of parents to keep in the next population. -1 means keep all parents and 0 means keep nothing.\n",
    "\n",
    "crossover_type = \"two_points\" # Type of the crossover operator.\n",
    "\n",
    "# Parameters of the mutation operation.\n",
    "mutation_type = \"random\" # Type of the mutation operator.\n",
    "mutation_percent_genes = 5 # Percentage of genes to mutate. This parameter has no action if the parameter mutation_num_genes exists or when mutation_type is None.\n",
    "\n",
    "last_fitness = 0\n",
    "\n",
    "def callback_generation(ga_instance):\n",
    "    global last_fitness\n",
    "    print(\"Generation = {generation}\".format(generation=ga_instance.generations_completed))\n",
    "    print(\"Fitness    = {fitness}\".format(fitness=ga_instance.best_solution()[1]))\n",
    "    print(\"Change     = {change}\".format(change=ga_instance.best_solution()[1] - last_fitness))\n",
    "    last_fitness = ga_instance.best_solution()[1]\n",
    "\n",
    "# Creating an instance of the GA class inside the ga module. Some parameters are initialized within the constructor.\n",
    "\n",
    "num_genes = len(gene_space)\n",
    "ga_instance = pygad.GA(num_generations=num_generations,\n",
    "                       num_parents_mating=num_parents_mating, \n",
    "                       fitness_func=fitness_function,\n",
    "                       sol_per_pop=sol_per_pop, \n",
    "                       num_genes=num_genes,\n",
    "                       parent_selection_type=parent_selection_type,\n",
    "                       keep_parents=keep_parents,\n",
    "                       crossover_type=crossover_type,\n",
    "                       mutation_type=mutation_type,\n",
    "                       mutation_percent_genes=mutation_percent_genes,\n",
    "                       on_generation=callback_generation,\n",
    "                       gene_type=int,\n",
    "                       gene_space=gene_space_int,\n",
    ")\n"
   ]
  },
  {
   "cell_type": "code",
   "execution_count": 11,
   "metadata": {
    "scrolled": true
   },
   "outputs": [
    {
     "name": "stdout",
     "output_type": "stream",
     "text": [
      "Generation = 1\n",
      "Fitness    = 0.44858122326969396\n",
      "Change     = 0.44858122326969396\n",
      "Generation = 2\n",
      "Fitness    = 0.454834124084321\n",
      "Change     = 0.006252900814627038\n",
      "Generation = 3\n",
      "Fitness    = 0.460805524813045\n",
      "Change     = 0.005971400728723986\n",
      "Generation = 4\n",
      "Fitness    = 0.46175832332858\n",
      "Change     = 0.000952798515535036\n",
      "Generation = 5\n",
      "Fitness    = 0.4728704909693485\n",
      "Change     = 0.0111121676407685\n",
      "Generation = 6\n",
      "Fitness    = 0.4728704909693485\n",
      "Change     = 0.0\n",
      "Generation = 7\n",
      "Fitness    = 0.477216923314706\n",
      "Change     = 0.004346432345357476\n",
      "Generation = 8\n",
      "Fitness    = 0.483776465414567\n",
      "Change     = 0.006559542099860982\n",
      "Generation = 9\n",
      "Fitness    = 0.492551541121021\n",
      "Change     = 0.008775075706454027\n",
      "Generation = 10\n",
      "Fitness    = 0.493175693988738\n",
      "Change     = 0.0006241528677169983\n",
      "Generation = 11\n",
      "Fitness    = 0.4996621983852295\n",
      "Change     = 0.00648650439649151\n",
      "Generation = 12\n",
      "Fitness    = 0.4996621983852295\n",
      "Change     = 0.0\n",
      "Generation = 13\n",
      "Fitness    = 0.506770604937374\n",
      "Change     = 0.007108406552144508\n",
      "Generation = 14\n",
      "Fitness    = 0.506770604937374\n",
      "Change     = 0.0\n",
      "Generation = 15\n",
      "Fitness    = 0.513095451249755\n",
      "Change     = 0.0063248463123809495\n",
      "Generation = 16\n",
      "Fitness    = 0.513095451249755\n",
      "Change     = 0.0\n",
      "Generation = 17\n",
      "Fitness    = 0.5135033197299805\n",
      "Change     = 0.00040786848022555944\n",
      "Generation = 18\n",
      "Fitness    = 0.514951685350666\n",
      "Change     = 0.00144836562068551\n",
      "Generation = 19\n",
      "Fitness    = 0.5151263266660671\n",
      "Change     = 0.00017464131540101402\n",
      "Generation = 20\n",
      "Fitness    = 0.520243237722242\n",
      "Change     = 0.005116911056174955\n",
      "Generation = 21\n",
      "Fitness    = 0.520243237722242\n",
      "Change     = 0.0\n",
      "Generation = 22\n",
      "Fitness    = 0.520243237722242\n",
      "Change     = 0.0\n",
      "Generation = 23\n",
      "Fitness    = 0.5224418055976865\n",
      "Change     = 0.0021985678754444793\n",
      "Generation = 24\n",
      "Fitness    = 0.5224418055976865\n",
      "Change     = 0.0\n",
      "Generation = 25\n",
      "Fitness    = 0.526457652578624\n",
      "Change     = 0.0040158469809374875\n",
      "Generation = 26\n",
      "Fitness    = 0.5320412844512395\n",
      "Change     = 0.005583631872615569\n",
      "Generation = 27\n",
      "Fitness    = 0.5320412844512395\n",
      "Change     = 0.0\n",
      "Generation = 28\n",
      "Fitness    = 0.5320412844512395\n",
      "Change     = 0.0\n",
      "Generation = 29\n",
      "Fitness    = 0.5320412844512395\n",
      "Change     = 0.0\n",
      "Generation = 30\n",
      "Fitness    = 0.5320412844512395\n",
      "Change     = 0.0\n",
      "Generation = 31\n",
      "Fitness    = 0.532513891008186\n",
      "Change     = 0.00047260655694647546\n",
      "Generation = 32\n",
      "Fitness    = 0.532513891008186\n",
      "Change     = 0.0\n",
      "Generation = 33\n",
      "Fitness    = 0.532513891008186\n",
      "Change     = 0.0\n",
      "Generation = 34\n",
      "Fitness    = 0.532513891008186\n",
      "Change     = 0.0\n",
      "Generation = 35\n",
      "Fitness    = 0.532513891008186\n",
      "Change     = 0.0\n",
      "Generation = 36\n",
      "Fitness    = 0.534557850447666\n",
      "Change     = 0.002043959439479992\n",
      "Generation = 37\n",
      "Fitness    = 0.534557850447666\n",
      "Change     = 0.0\n",
      "Generation = 38\n",
      "Fitness    = 0.538129533334797\n",
      "Change     = 0.0035716828871309447\n",
      "Generation = 39\n",
      "Fitness    = 0.538129533334797\n",
      "Change     = 0.0\n",
      "Generation = 40\n",
      "Fitness    = 0.538129533334797\n",
      "Change     = 0.0\n",
      "Generation = 41\n",
      "Fitness    = 0.538129533334797\n",
      "Change     = 0.0\n",
      "Generation = 42\n",
      "Fitness    = 0.538129533334797\n",
      "Change     = 0.0\n",
      "Generation = 43\n",
      "Fitness    = 0.5398657508736759\n",
      "Change     = 0.0017362175388789813\n",
      "Generation = 44\n",
      "Fitness    = 0.5469677166905275\n",
      "Change     = 0.007101965816851519\n",
      "Generation = 45\n",
      "Fitness    = 0.5469677166905275\n",
      "Change     = 0.0\n",
      "Generation = 46\n",
      "Fitness    = 0.5469677166905275\n",
      "Change     = 0.0\n",
      "Generation = 47\n",
      "Fitness    = 0.5469677166905275\n",
      "Change     = 0.0\n",
      "Generation = 48\n",
      "Fitness    = 0.5469677166905275\n",
      "Change     = 0.0\n",
      "Generation = 49\n",
      "Fitness    = 0.5469677166905275\n",
      "Change     = 0.0\n",
      "Generation = 50\n",
      "Fitness    = 0.5469677166905275\n",
      "Change     = 0.0\n",
      "Generation = 51\n",
      "Fitness    = 0.5469677166905275\n",
      "Change     = 0.0\n",
      "Generation = 52\n",
      "Fitness    = 0.5469677166905275\n",
      "Change     = 0.0\n",
      "Generation = 53\n",
      "Fitness    = 0.5484172482932325\n",
      "Change     = 0.001449531602705001\n",
      "Generation = 54\n",
      "Fitness    = 0.5484172482932325\n",
      "Change     = 0.0\n",
      "Generation = 55\n",
      "Fitness    = 0.5484172482932325\n",
      "Change     = 0.0\n",
      "Generation = 56\n",
      "Fitness    = 0.5505778862391335\n",
      "Change     = 0.002160637945901045\n",
      "Generation = 57\n",
      "Fitness    = 0.5528703200579199\n",
      "Change     = 0.00229243381878641\n",
      "Generation = 58\n",
      "Fitness    = 0.555698516303233\n",
      "Change     = 0.0028281962453130527\n",
      "Generation = 59\n",
      "Fitness    = 0.555698516303233\n",
      "Change     = 0.0\n",
      "Generation = 60\n",
      "Fitness    = 0.559284328031796\n",
      "Change     = 0.003585811728562982\n",
      "Generation = 61\n",
      "Fitness    = 0.559284328031796\n",
      "Change     = 0.0\n",
      "Generation = 62\n",
      "Fitness    = 0.5601157369736754\n",
      "Change     = 0.0008314089418794968\n",
      "Generation = 63\n",
      "Fitness    = 0.5604819758521755\n",
      "Change     = 0.0003662388785000692\n",
      "Generation = 64\n",
      "Fitness    = 0.5604819758521755\n",
      "Change     = 0.0\n",
      "Generation = 65\n",
      "Fitness    = 0.562766140968047\n",
      "Change     = 0.0022841651158714837\n",
      "Generation = 66\n",
      "Fitness    = 0.562766140968047\n",
      "Change     = 0.0\n",
      "Generation = 67\n",
      "Fitness    = 0.562766140968047\n",
      "Change     = 0.0\n",
      "Generation = 68\n",
      "Fitness    = 0.562766140968047\n",
      "Change     = 0.0\n",
      "Generation = 69\n",
      "Fitness    = 0.562766140968047\n",
      "Change     = 0.0\n",
      "Generation = 70\n",
      "Fitness    = 0.5661491190746945\n",
      "Change     = 0.0033829781066474496\n",
      "Generation = 71\n",
      "Fitness    = 0.5750715434650715\n",
      "Change     = 0.008922424390377048\n",
      "Generation = 72\n",
      "Fitness    = 0.5750715434650715\n",
      "Change     = 0.0\n",
      "Generation = 73\n",
      "Fitness    = 0.5750715434650715\n",
      "Change     = 0.0\n",
      "Generation = 74\n",
      "Fitness    = 0.5750715434650715\n",
      "Change     = 0.0\n",
      "Generation = 75\n",
      "Fitness    = 0.5750715434650715\n",
      "Change     = 0.0\n",
      "Generation = 76\n",
      "Fitness    = 0.5750715434650715\n",
      "Change     = 0.0\n",
      "Generation = 77\n",
      "Fitness    = 0.5750715434650715\n",
      "Change     = 0.0\n",
      "Generation = 78\n",
      "Fitness    = 0.5750715434650715\n",
      "Change     = 0.0\n",
      "Generation = 79\n",
      "Fitness    = 0.5750715434650715\n",
      "Change     = 0.0\n",
      "Generation = 80\n",
      "Fitness    = 0.5750715434650715\n",
      "Change     = 0.0\n",
      "Generation = 81\n",
      "Fitness    = 0.5788352950390845\n",
      "Change     = 0.0037637515740129857\n",
      "Generation = 82\n",
      "Fitness    = 0.5809408821699865\n",
      "Change     = 0.0021055871309020313\n",
      "Generation = 83\n",
      "Fitness    = 0.5809408821699865\n",
      "Change     = 0.0\n",
      "Generation = 84\n",
      "Fitness    = 0.5809408821699865\n",
      "Change     = 0.0\n",
      "Generation = 85\n",
      "Fitness    = 0.5809408821699865\n",
      "Change     = 0.0\n",
      "Generation = 86\n",
      "Fitness    = 0.5809408821699865\n",
      "Change     = 0.0\n",
      "Generation = 87\n",
      "Fitness    = 0.5809408821699865\n",
      "Change     = 0.0\n",
      "Generation = 88\n",
      "Fitness    = 0.5809408821699865\n",
      "Change     = 0.0\n",
      "Generation = 89\n",
      "Fitness    = 0.5809408821699865\n",
      "Change     = 0.0\n",
      "Generation = 90\n",
      "Fitness    = 0.5809408821699865\n",
      "Change     = 0.0\n",
      "Generation = 91\n",
      "Fitness    = 0.5809408821699865\n",
      "Change     = 0.0\n",
      "Generation = 92\n",
      "Fitness    = 0.5809408821699865\n",
      "Change     = 0.0\n",
      "Generation = 93\n",
      "Fitness    = 0.5809408821699865\n",
      "Change     = 0.0\n",
      "Generation = 94\n",
      "Fitness    = 0.5809408821699865\n",
      "Change     = 0.0\n",
      "Generation = 95\n",
      "Fitness    = 0.5809408821699865\n",
      "Change     = 0.0\n",
      "Generation = 96\n",
      "Fitness    = 0.5809408821699865\n",
      "Change     = 0.0\n",
      "Generation = 97\n",
      "Fitness    = 0.5809408821699865\n",
      "Change     = 0.0\n",
      "Generation = 98\n",
      "Fitness    = 0.5809408821699865\n",
      "Change     = 0.0\n",
      "Generation = 99\n",
      "Fitness    = 0.5809408821699865\n",
      "Change     = 0.0\n",
      "Generation = 100\n",
      "Fitness    = 0.5809408821699865\n",
      "Change     = 0.0\n"
     ]
    },
    {
     "name": "stderr",
     "output_type": "stream",
     "text": [
      "/data/software/anaconda3/envs/bfx-gpu/lib/python3.7/site-packages/pygad/pygad.py:3105: UserWarning: Please use the plot_fitness() method instead of plot_result(). The plot_result() method will be removed in the future.\n",
      "  warnings.warn(\"Please use the plot_fitness() method instead of plot_result(). The plot_result() method will be removed in the future.\")\n"
     ]
    },
    {
     "data": {
      "image/png": "[encoded data removed]",
      "text/plain": [
       "<Figure size 432x288 with 1 Axes>"
      ]
     },
     "metadata": {
      "needs_background": "light"
     },
     "output_type": "display_data"
    },
    {
     "name": "stdout",
     "output_type": "stream",
     "text": [
      "Parameters of the best solution : [11 53 37  3 58 37 55 46 45  7  7 45  5  7 47 33  2  3 45 45 38 36 15 44\n",
      " 39 46 31 45 36 20  3 15 20 12 28 45 44 53 44  3 51 38  5 58 59  0 51 52\n",
      " 56 43 61  1 49 36 36  4 37 21 34 23 47 28 23 17 15  3 57 51 29 23 22  3\n",
      " 25  7 44 17 12 61 44 15 38 21 55 61  8 27 22 15 59 42 21 51  7  5 31  7\n",
      " 15 41 41 58 61 57 42 60 59 62  3 56 17 25  1 41 20  7 29 61 16  5 28  7\n",
      "  5 59 31 25 23  5  4 37 62  0 31  5 11 61 57 45 32 61 20  1 40 28  1 31\n",
      " 29 27 23 23 13  1 31 51 26 29  7 15 32 35  7 45 53 55 17  8 61 53 16 63\n",
      "  5 45 20 15 57 27 51 24  1 30 42 51 25 31 38 29 21 20 28  0 28 25 12 33\n",
      " 11 41 11 22 61  0  5 24 16 16 28 45 48 56 30 63  7 55 46 45 34 37 44  7\n",
      " 53  3 61 61 36 62 29 33  1 21 41 38 37 52 33 36  3 57 51 61  7  7 53 21\n",
      " 48 20 28 61 41 25  1  1 43 60 30 44 62 13 53  2 29 17  9 33  7 21 55 27\n",
      " 62 45 55 33 57  9 56  8  7 31 22 31 27 15 15 44 22 23  9 55 22  4  0 39\n",
      " 27  1 45 28 42 37  9 17 25 29 31 45 29 39  7 13 63 51 33  4 36 23 37 51\n",
      " 59 44 29 15 40 17 44 46 11 15 15 26 15  9 46 22 20 22 25  4  7  7 44 25\n",
      " 41 41 57 45  0 36 16 45  7  3 32 24 29 24 45  0  5 57 16 21 38 20 37  1\n",
      " 46 22 59 43  7 42 45 54  0 23 12 24 25 42 54 37 39 20 14 23  7  2 55 27\n",
      " 36 15  7 40 44 11 61  5  5 44  3  7 28 30 31 23  7 51 47 31 13 33 23 44\n",
      " 63 41 13  5 29 57 24 21 40 14 62 13  7 45 32 44 21 53 37 23 60 38 45 29\n",
      " 45 51 53 44 45 15  7 10 17 45 32 28 29 41 59 45 21 36 25 55 33 15 44 15\n",
      " 43  3 59  7 53 61 14 37 39 63 37 61  7 13 16 13 41 58 17  4 28 24 61  4\n",
      " 48 32 39 29 60 31 51 55 54  4 63 53 36 15  1 37 43 44 31 23  1 55 55 11\n",
      " 53 45 44 31 28 38 15 44 45 45 36 58 39  3 36 45 60 61 53  5 41  7 58 38\n",
      " 45  2 52  7 38 56  7  5  7 13 21 13 49 45 55 39 31 27 38 36 61 23 15 41\n",
      " 59  6 53 46  7 37  6 42 22 62 23  7 13  5 13 51 32 29 31 21 13 61 32 26\n",
      " 48  7 51 40 17 31  8 23  0 57 22 29 63 27 45 17 43 36 13 35 53 26 38 57\n",
      " 41  0 24  7  1 15  1 57 36 29 42 60 44 15 32 62 57 17 55 12 53 45  7 29\n",
      " 16 51 44 54 38 60 38  1 32 29 37 15 36 17  4 31 15 37 15 36 53 60 37 36\n",
      " 32 36 61 25 37 18]\n",
      "NT Sequence of the best solution : ATGCGCCCCTTGAGACCCCGGGCAGCCCTGCTGGCCCTCCTGGCGTCCTTATTGGCCGCCCCACCTGTGGCTCCGGCAGAGGCCCCTCATTTGGTGCATGTTGATGCCGCTCGCGCTTTGTGGCCACTCAGAAGGTTTTGGCGTAGTACGGGCTTCTGCCCTCCTCTTCCCCACTCACAGGCGGATCAGTACGTGTTGAGCTGGGACCAGCAATTGAACCTGGCTTACGTTGGCGCTGTGCCACACCGGGGCATTAAGCAAGTGAGGACACACTGGCTGCTCGAGCTGGTGACCACCAGAGGCAGCACAGGTAGGGGATTGAGTTACAACTTCACCCATCTGGACGGCTATCTCGATCTGCTCAGGGAGAACCAGCTCCTTCCCGGATTTGAGCTCATGGGCAGCGCCTCTGGCCATTTCACTGATTTCGAGGACAAGCAGCAGGTCTTCGAGTGGAAAGACCTGGTGTCTTCGCTGGCCCGCCGGTACATTGGCCGCTATGGGCTCGCCCATGTGAGCAAGTGGAATTTCGAAACATGGAACGAGCCAGACCACCATGATTTTGATAACGTTTCCATGACCATGCAAGGCTTTCTCAATTATTATGATGCCTGTAGTGAAGGGCTGCGGGCAGCCTCACCCGCTCTGCGCTTGGGCGGCCCTGGAGACTCCTTCCACACCCCACCCCGTTCCCCTTTGAGCTGGGGCCTGCTGCGCCACTGTCATGATGGCACCAACTTCTTCACGGGTGAAGCTGGAGTCCGCTTAGACTACATCTCCCTGCACCGGAAGGGAGCCCGGTCCAGCATCAGTATTCTGGAGCAAGAGAAGGTGGTGGCTCAACAGATCCGGCAACTTTTTCCGAAGTTCGCCGATACACCCATCTACAACGACGAGGCCGACCCGCTGGTCGGGTGGTCCCTTCCTCAGCCCTGGAGGGCTGACGTGACTTACGCTGCAATGGTGGTGAAAGTGATCGCACAACATCAAAACCTTCTGCTGGCTAACACCACCAGCGCCTTTCCTTATGCCCTGTTGTCTAATGACAATGCCTTTCTCAGCTATCACCCACATCCCTTCGCACAAAGGACGCTGACAGCCCGATTTCAGGTTAATAACACACGACCCCCGCATGTACAGCTGTTACGGAAGCCTGTGCTGACTGCTATGGGCCTCCTCGCTTTGCTGGATGAAGAGCAGCTGTGGGCGGAGGTCTCCCAGGCTGGGACCGTCCTCGACAGCAATCACACTGTAGGAGTCCTGGCCTCTGCTCACCGCCCCCAGGGTCCAGCCGACGCCTGGCGCGCTGCCGTGCTGATATACGCCTCTGATGACACCAGGGCCCACCCTAACCGGTCCGTGGCTGTGACGTTGAGGCTGCGCGGCGTACCCCCGGGGCCCGGCCTGGTCTATGTCACCAGATACCTTGATAATGGCCTTTGTTCTCCGGACGGTGAGTGGCGGCGACTTGGGCGCCCTGTGTTCCCCACGGCTGAGCAGTTCCGGCGGATGCGCGCCGCTGAGGATCCAGTGGCTGCCGCCCCTAGACCGTTGCCTGCCGGTGGCCGCCTCACCCTGAGACCAGCCTTACGTCTGCCAAGTCTGCTCCTGGTCCACGTCTGCGCCCGGCCGGAGAAGCCACCTGGCCAGGTGACCAGGCTACGCGCACTGCCCCTAACACAAGGACAGCTGGTCCTCGTCTGGTCTGACGAGCACGTCGGCTCTAAATGTCTGTGGACTTACGAGATTCAGTTTAGCCAAGACGGGAAGGCCTACACGCCTGTCTCGCGCAAACCAAGCACCTTTAATCTGTTCGTGTTCAGCCCTGACACAGGTGCTGTGTCTGGAAGCTACCGGGTTCGCGCCCTGGACTATTGGGCTCGACCAGGTCCATTCTCTGACCCCGTGCCTTACCTTGAGGTGCCCGTGCCTCGCGGTCCCCCTTCTCCTGGCAACCCCTAA\n",
      "Fitness value of the best solution = 0.5809408821699865\n",
      "Index of the best solution : 0\n",
      "Best fitness value reached after 82 generations.\n"
     ]
    },
    {
     "data": {
      "image/png": "[encoded data removed]",
      "text/plain": [
       "<Figure size 432x288 with 1 Axes>"
      ]
     },
     "metadata": {
      "needs_background": "light"
     },
     "output_type": "display_data"
    },
    {
     "name": "stdout",
     "output_type": "stream",
     "text": [
      "CPU times: user 7.2 s, sys: 40.1 s, total: 47.3 s\n",
      "Wall time: 6min 15s\n"
     ]
    },
    {
     "data": {
      "image/png": "[encoded data removed]",
      "text/plain": [
       "<Figure size 432x288 with 1 Axes>"
      ]
     },
     "execution_count": 11,
     "metadata": {},
     "output_type": "execute_result"
    }
   ],
   "source": [
    "%%time\n",
    "\n",
    "# Running the GA to optimize the parameters of the function.\n",
    "ga_instance.run()\n",
    "\n",
    "# After the generations complete, some plots are showed that summarize the how the outputs/fitenss values evolve over generations.\n",
    "ga_instance.plot_result()\n",
    "\n",
    "# Returning the details of the best solution.\n",
    "solution, solution_fitness, solution_idx = ga_instance.best_solution()\n",
    "print(\"Parameters of the best solution : {solution}\".format(solution=solution))\n",
    "seq_aa = ''.join([codon_to_int[x] for x in solution])\n",
    "print(\"NT Sequence of the best solution : {seq_aa}\".format(seq_aa=seq_aa))\n",
    "print(\"Fitness value of the best solution = {solution_fitness}\".format(solution_fitness=solution_fitness))\n",
    "print(\"Index of the best solution : {solution_idx}\".format(solution_idx=solution_idx))\n",
    "\n",
    "# # prediction = numpy.sum(numpy.array(function_inputs)*solution) Replace\n",
    "# print(\"Predicted output based on the best solution : {prediction}\".format(prediction=prediction))\n",
    "\n",
    "if ga_instance.best_solution_generation != -1:\n",
    "    print(\"Best fitness value reached after {best_solution_generation} generations.\".format(best_solution_generation=ga_instance.best_solution_generation))\n",
    "\n",
    "# Saving the GA instance.\n",
    " # The filename to which the instance is saved. The name is without extension.\n",
    "ga_instance.save(filename=filename)\n",
    "\n",
    "# Loading the saved GA instance.\n",
    "loaded_ga_instance = pygad.load(filename=filename)\n",
    "loaded_ga_instance.plot_result()"
   ]
  }
 ],
 "metadata": {
  "kernelspec": {
   "display_name": "Python 3 (GPU)",
   "language": "python",
   "name": "bfx-gpu"
  },
  "language_info": {
   "codemirror_mode": {
    "name": "ipython",
    "version": 3
   },
   "file_extension": ".py",
   "mimetype": "text/x-python",
   "name": "python",
   "nbconvert_exporter": "python",
   "pygments_lexer": "ipython3",
   "version": "3.7.10"
  }
 },
 "nbformat": 4,
 "nbformat_minor": 4
}
