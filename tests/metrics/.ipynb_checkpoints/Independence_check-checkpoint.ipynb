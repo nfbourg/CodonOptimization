{
 "cells": [
  {
   "cell_type": "code",
   "execution_count": null,
   "metadata": {},
   "outputs": [],
   "source": [
    "import os\n",
    "import pygad\n",
    "\n",
    "cwd = os.getcwd()\n",
    "pygad_loc = '/grid/home/nbourgeois/codonOpt'\n",
    "os.chdir(pygad_loc)\n",
    "from general_functions import *\n",
    "from metrics import *\n",
    "from codon_tools import *\n",
    "os.chdir(cwd)"
   ]
  },
  {
   "cell_type": "code",
   "execution_count": null,
   "metadata": {
    "jupyter": {
     "source_hidden": true
    }
   },
   "outputs": [],
   "source": [
    "def calculate_MFE(seq, window):\n",
    "    values=[]\n",
    "    for i in range(len(seq)):\n",
    "        temp_seq=seq[i:i+window]\n",
    "        (ss, mfe) = RNA.fold(temp_seq)\n",
    "        values.append(mfe)\n",
    "    return(values)\n",
    "\n",
    "def get_mfe(seq_aa):\n",
    "    all_mfe = calculate_MFE(seq_aa,10)\n",
    "    mfe = numpy.mean(all_mfe)  * -1\n",
    "    return(mfe)\n",
    "\n",
    "def readFasta( fastaFile: str ):\n",
    "    fastaId = ''\n",
    "    fastaSeq = ''\n",
    "    if os.path.exists( fastaFile ):\n",
    "        try:\n",
    "            with open( fastaFile, \"r\") as handle:\n",
    "                cont = 0\n",
    "                fastaIds = []\n",
    "                fastaSeqs = []\n",
    "                for record in SeqIO.parse( handle, \"fasta\"):\n",
    "                    fastaIds.append(record.id)\n",
    "                    fastaSeqs.append(record.seq)\n",
    "        except IOError as e:\n",
    "            print( \"I/O error({0}): {1}\".format(e.errno, e.strerror) )\n",
    "        except:\n",
    "            print( \"Unexpected error:\", sys.exc_info()[0] )\n",
    "    else:\n",
    "        print(\"File does not exist:\" + fastaFile )\n",
    "        sys.exit(2)\n",
    "    return (fastaIds, fastaSeqs)\n",
    "\n",
    "def calculate_MFE(seq, window):\n",
    "    values=[]\n",
    "    for i in range(len(seq)):\n",
    "        temp_seq=seq[i:i+window]\n",
    "        (ss, mfe) = RNA.fold(temp_seq)\n",
    "        values.append(mfe)\n",
    "    return(values)\n",
    "\n",
    "def calculate_delta(arr):\n",
    "    delta = np.array(arr[1:]) - np.array(arr[:-1]) \n",
    "    return(delta)\n",
    "\n",
    "def smoothen(values):\n",
    "    num_avg = 200\n",
    "    inc = int(np.floor(num_avg/2))\n",
    "    stop = len(values) - inc\n",
    "    smoothed = [np.mean(values[i-inc:i+inc+1]) for i in range(inc,stop)]\n",
    "    return(smoothed)\n",
    "\n",
    "def plot_MFE(values,val):\n",
    "    sns.set_context('talk')\n",
    "    fig,(ax,ax2)=plt.subplots(2,1,figsize=(24,8))\n",
    "    smoothed = smoothen(values)\n",
    "#     delta = calculate_delta(smoothed)\n",
    "\n",
    "    ax.plot(np.arange(len(values)),values,label='{}nt Regions'.format(val))\n",
    "    ax2.plot(np.arange(len(smoothed)),smoothed,label='Smoothed {}nt Regions'.format(val))\n",
    "#     ax3.plot(np.arange(len(delta)),delta,label='Delta {}nt Regions'.format(val))\n",
    "\n",
    "#     ax.legend(bbox_to_anchor=(1.01, 1), loc='upper left',frameon=False)\n",
    "    sns.despine(offset=10)\n",
    "    ax.set_xlabel('Position (nt)')\n",
    "#     ax.set_xlim(0,len(seq))\n",
    "\n",
    "    ax.set_ylabel('Minimum Free Energy')\n",
    "    ax.set_title('DNA Secondary Structure Prediction in {}nt Rolling Intervals'.format(val),size=24,pad=20)"
   ]
  },
  {
   "cell_type": "markdown",
   "metadata": {},
   "source": [
    "# Read Proteins\n"
   ]
  },
  {
   "cell_type": "code",
   "execution_count": 8,
   "metadata": {},
   "outputs": [
    {
     "name": "stdout",
     "output_type": "stream",
     "text": [
      "Sequence not divisible by 3, ends with: AA\n",
      "ERROR! Session/line number was not unique in database. History logging moved to new session 1513\n"
     ]
    }
   ],
   "source": [
    "# PAH \n",
    "loc = '/grid/home/nbourgeois/data/test_proteins/pah/Translated_Region_PAH.fa' #sequence pep.fas Input\n",
    "\n",
    "(keys, seqs) = readFasta(loc)\n",
    "if len(seqs) == 1:\n",
    "    pah_seq=translator(str(seqs[0]))\n",
    "    \n",
    "# PAH targets\n",
    "loc = '/grid/home/nbourgeois/data/test_proteins/pah/MMUT.pep.fas' #sequence pep.fas Input\n",
    "(keys, seqs) = readFasta(loc)\n",
    "if len(seqs) == 1:\n",
    "    pahtar_seq1=str(seqs[0])\n",
    "    \n",
    "loc = '/grid/home/nbourgeois/data/test_proteins/pah/OTC.pep.fas' #sequence pep.fas Input\n",
    "(keys, seqs) = readFasta(loc)\n",
    "if len(seqs) == 1:\n",
    "    pahtar_seq2=str(seqs[0])\n",
    "    \n",
    "loc = '/grid/home/nbourgeois/data/test_proteins/pah/ATP7B.pep.fas' #sequence pep.fas Input\n",
    "(keys, seqs) = readFasta(loc)\n",
    "if len(seqs) == 1:\n",
    "    pahtar_seq3=str(seqs[0])\n",
    "    \n",
    "\n",
    "#hidua\n",
    "loc = '/grid/home/nbourgeois/data/test_proteins/hidua/hidua.pep.fas' #sequence pep.fas Input\n",
    "(keys, seqs) = readFasta(loc)\n",
    "if len(seqs) == 1:\n",
    "    hidua_seq=str(seqs[0])\n",
    "    \n",
    "    \n",
    "proteins = [pah_seq,pahtar_seq1,pahtar_seq2,pahtar_seq3,hidua_seq]"
   ]
  },
  {
   "cell_type": "code",
   "execution_count": 5,
   "metadata": {},
   "outputs": [
    {
     "name": "stdout",
     "output_type": "stream",
     "text": [
      "Sequence not divisible by 3, ends with: AA\n"
     ]
    },
    {
     "data": {
      "text/plain": [
       "'RAVPDLAAERAEEVF*HAVTWRRIPALGVPCPPLCWRTLGWGGNCQTSGRRLHTLRITVTRMAPSL*SSA*RRKWAPWQRCCACLRRTT*I*PTSSPGLLD*RRTSTSSLPTWISGPCQP*QTSSRS*GTTSEQPCTSCLGTRRRIPCPGSLGQSRSWIDLPTRSCLTEQSWTQITLASRTQCIGPGESSLPISPTIIGTDSQSLAWSIWRRRRRPGAQCSRP*RACTRHTPATSITTSSPCWRSIVAFTRTISLSWRT*ASSCRPAQALG*GQWQDC*APGTSWEDWPSECFTAPSTSGTAPSQCIHQSPTSVTSCWATCPCLAIDPSPSFPRRSDWHLWEHLTSTSRSWPPSIGSQWSLACASRAIASRPTEQDCCLASASCSIVCPRSQSCCPWSWRRPPSRTTP*QSSSPCTMWPSLLTMPRRR*EISPPQSLGPSACGTTLIPRGSRCWIIHSS*RSWLTQSIAKSESCAPPCRKS'"
      ]
     },
     "execution_count": 5,
     "metadata": {},
     "output_type": "execute_result"
    },
    {
     "name": "stdout",
     "output_type": "stream",
     "text": [
      "ERROR! Session/line number was not unique in database. History logging moved to new session 1512\n"
     ]
    }
   ],
   "source": [
    "def translator(seq):\n",
    "    global forward_table\n",
    "    codon_usage_table_loc = os.path.join(pygad_loc,'references','codon_usage.getex.txt')\n",
    "    codon_usage_table = pd.read_csv(codon_usage_table_loc,sep='\\t')\n",
    "    forward_table = pd.Series(codon_usage_table.AA.values,index=codon_usage_table.Codon).to_dict()\n",
    "    \n",
    "    back_table = {}\n",
    "    for key in forward_table:\n",
    "        val = forward_table[key]\n",
    "        if val not in back_table.keys():\n",
    "            back_table[val] = [key]\n",
    "        else:\n",
    "            back_table[val].append(key)\n",
    "    \n",
    "#     for x,y in zip(seq_records[0],seq_records[1]):\n",
    "    aa_seq = ''  \n",
    "    for i in range(0, len(seq), 3):\n",
    "        codon = seq[i:i+3]\n",
    "        if len(codon) ==3:\n",
    "            aa_seq = aa_seq + forward_table[codon]\n",
    "        else:\n",
    "            print('Sequence not divisible by 3, ends with:',codon)\n",
    "    return(aa_seq)\n",
    "\n",
    "translator(pah_seq_nt)"
   ]
  },
  {
   "cell_type": "markdown",
   "metadata": {},
   "source": [
    "# CAI v BAI"
   ]
  },
  {
   "cell_type": "markdown",
   "metadata": {},
   "source": [
    "# BAI v SS"
   ]
  },
  {
   "cell_type": "markdown",
   "metadata": {},
   "source": [
    "# BAI v SPS"
   ]
  },
  {
   "cell_type": "markdown",
   "metadata": {},
   "source": [
    "# BAI v PAS"
   ]
  }
 ],
 "metadata": {
  "kernelspec": {
   "display_name": "Python (codon)",
   "language": "python",
   "name": "bfx-codon"
  },
  "language_info": {
   "codemirror_mode": {
    "name": "ipython",
    "version": 3
   },
   "file_extension": ".py",
   "mimetype": "text/x-python",
   "name": "python",
   "nbconvert_exporter": "python",
   "pygments_lexer": "ipython3",
   "version": "3.7.11"
  }
 },
 "nbformat": 4,
 "nbformat_minor": 4
}
