{
 "cells": [
  {
   "cell_type": "code",
   "execution_count": 96,
   "metadata": {},
   "outputs": [],
   "source": [
    "# import os\n",
    "# cwd = os.getcwd()\n",
    "# pygad_loc = '/grid/home/nbourgeois/wip/codon_optimization'\n",
    "# os.chdir(pygad_loc)\n",
    "# import pygad\n",
    "# import numpy\n",
    "# import os\n",
    "# import sys\n",
    "# import Bio\n",
    "# import pandas as pd\n",
    "# from general_functions import *\n",
    "# from metrics import *\n",
    "# import hashlib\n",
    "# import subprocess\n",
    "# import time\n",
    "# os.chdir(cwd)\n",
    "import random\n",
    "\n",
    "import os\n",
    "import pygad\n",
    "\n",
    "cwd = os.getcwd()\n",
    "pygad_loc = '/grid/home/nbourgeois/codonOpt'\n",
    "os.chdir(pygad_loc)\n",
    "from general_functions import *\n",
    "from metrics import *\n",
    "os.chdir(cwd)\n",
    "import seaborn as sns"
   ]
  },
  {
   "cell_type": "code",
   "execution_count": 70,
   "metadata": {},
   "outputs": [
    {
     "name": "stdout",
     "output_type": "stream",
     "text": [
      "ERROR! Session/line number was not unique in database. History logging moved to new session 2938\n"
     ]
    }
   ],
   "source": [
    "tissue = 'Liver'\n",
    "cai_weights = get_codon_weights(tissue)\n",
    "bai_weights = get_bicodon_weights(tissue)\n",
    "codon_usage_table_loc = os.path.join(pygad_loc,'references','codon_usage.getex.txt')"
   ]
  },
  {
   "cell_type": "code",
   "execution_count": 38,
   "metadata": {},
   "outputs": [
    {
     "data": {
      "text/plain": [
       "'MKKE*'"
      ]
     },
     "execution_count": 38,
     "metadata": {},
     "output_type": "execute_result"
    }
   ],
   "source": [
    "def gen_rand_aa(n):\n",
    "    rand_aas = max(n-2,0)\n",
    "    aa_list = ['A','R','N','D','C','Q','G','E','H','I',\n",
    "               'L','K','F','P','S','T','W','Y','V']\n",
    "    index_list = [random.randrange(19) for i in range(rand_aas)]\n",
    "    aa_seq = 'M'+''.join([aa_list[ind] for ind in index_list]) + '*'\n",
    "    return(aa_seq)\n",
    "\n"
   ]
  },
  {
   "cell_type": "code",
   "execution_count": 120,
   "metadata": {},
   "outputs": [],
   "source": [
    "\n",
    "def gen_random_seqs(codon_space, num_seqs):\n",
    "    positions = len(codon_space)\n",
    "    size_vector = [len(codon_pos) for codon_pos in codon_space] \n",
    "    seqs = [None]*num_seqs\n",
    "    for i in range(num_seqs):\n",
    "        rand_index = [random.randrange(size) for size in size_vector]\n",
    "        seqs[i] = ''.join(([space[ind] for ind, space in zip(rand_index,codon_space)]))\n",
    "    return(seqs)\n",
    "\n"
   ]
  },
  {
   "cell_type": "code",
   "execution_count": 119,
   "metadata": {},
   "outputs": [
    {
     "name": "stdout",
     "output_type": "stream",
     "text": [
      "1000\n",
      "1000\n",
      "1000\n",
      "1000\n",
      "1000\n",
      "1000\n",
      "1000\n",
      "1000\n",
      "269 ms ± 313 µs per loop (mean ± std. dev. of 7 runs, 1 loop each)\n"
     ]
    }
   ],
   "source": [
    "%%timeit \n",
    "x = [gen_random_seq(codon_space) for i in range(1000)]\n",
    "print(len(x))"
   ]
  },
  {
   "cell_type": "code",
   "execution_count": 68,
   "metadata": {},
   "outputs": [],
   "source": [
    "aa_seq = gen_rand_aa(10)\n",
    "\n",
    "codon_to_int, codon_space = init_parameters_fun(aa_seq,codon_usage_table_loc)\n",
    "   \n",
    "seqs = gen_random_seqs(codon_space,10)"
   ]
  },
  {
   "cell_type": "code",
   "execution_count": 122,
   "metadata": {},
   "outputs": [
    {
     "name": "stdout",
     "output_type": "stream",
     "text": [
      "100\n",
      "110\n",
      "120\n",
      "130\n",
      "140\n",
      "150\n",
      "160\n",
      "170\n",
      "180\n",
      "190\n",
      "200\n",
      "210\n",
      "220\n",
      "230\n",
      "240\n",
      "250\n",
      "260\n",
      "270\n",
      "280\n",
      "290\n",
      "300\n",
      "310\n",
      "320\n",
      "330\n",
      "340\n",
      "350\n",
      "360\n",
      "370\n",
      "380\n",
      "390\n",
      "400\n",
      "410\n",
      "420\n",
      "430\n",
      "440\n",
      "450\n",
      "460\n",
      "470\n",
      "480\n",
      "490\n",
      "500\n"
     ]
    }
   ],
   "source": [
    "cais = []\n",
    "bais = []\n",
    "aa_seqs = []\n",
    "nt_seqs = []\n",
    "aa_lens = []\n",
    "\n",
    "aa_len = 100\n",
    "aa_max = 500\n",
    "num_ntseqs = 1000\n",
    "num_aaseqs = 100\n",
    "\n",
    "while(aa_len < aa_max+1):\n",
    "    print(aa_len)\n",
    "    for i in range(num_aaseqs):\n",
    "        aa_seq = gen_rand_aa(aa_len)\n",
    "        codon_to_int, codon_space = init_parameters_fun(aa_seq,codon_usage_table_loc)\n",
    "        seqs = gen_random_seqs(codon_space,num_ntseqs)\n",
    "#         for seq in seqs:\n",
    "#             aa_lens.append(aa_len)\n",
    "#             aa_seqs.append(aa_seq)\n",
    "#             cai = get_cai(seq, cai_weights) \n",
    "#             cais.append(cai)\n",
    "#             bai = get_bai(seq, bai_weights) \n",
    "#             bais.append(bai)\n",
    "        aa_lens.extend([aa_len]*100)\n",
    "        nt_seqs.extend([aa_seq]*100)\n",
    "        nt_seqs.extend(seqs)\n",
    "    aa_len+=10\n",
    "    \n"
   ]
  },
  {
   "cell_type": "code",
   "execution_count": null,
   "metadata": {},
   "outputs": [
    {
     "name": "stderr",
     "output_type": "stream",
     "text": [
      "ERROR:root:Internal Python error in the inspect module.\n",
      "Below is the traceback from this internal error.\n",
      "\n",
      "ERROR:root:Internal Python error in the inspect module.\n",
      "Below is the traceback from this internal error.\n",
      "\n"
     ]
    },
    {
     "name": "stdout",
     "output_type": "stream",
     "text": [
      "Traceback (most recent call last):\n",
      "  File \"/data/software/anaconda3/envs/bfx-codon/lib/python3.7/site-packages/IPython/core/interactiveshell.py\", line 3441, in run_code\n",
      "    exec(code_obj, self.user_global_ns, self.user_ns)\n",
      "  File \"/tmp/ipykernel_6289/666581552.py\", line 1, in <module>\n",
      "    data = pd.DataFrame(data={'Length':aa_lens,'AA_seq':aa_seqs})\n",
      "  File \"/data/software/anaconda3/envs/bfx-codon/lib/python3.7/site-packages/pandas/core/frame.py\", line 614, in __init__\n",
      "    mgr = dict_to_mgr(data, index, columns, dtype=dtype, copy=copy, typ=manager)\n",
      "  File \"/data/software/anaconda3/envs/bfx-codon/lib/python3.7/site-packages/pandas/core/internals/construction.py\", line 465, in dict_to_mgr\n",
      "    arrays, data_names, index, columns, dtype=dtype, typ=typ, consolidate=copy\n",
      "  File \"/data/software/anaconda3/envs/bfx-codon/lib/python3.7/site-packages/pandas/core/internals/construction.py\", line 119, in arrays_to_mgr\n",
      "    index = _extract_index(arrays)\n",
      "  File \"/data/software/anaconda3/envs/bfx-codon/lib/python3.7/site-packages/pandas/core/internals/construction.py\", line 635, in _extract_index\n",
      "    raise ValueError(\"All arrays must be of the same length\")\n",
      "ValueError: All arrays must be of the same length\n",
      "\n",
      "During handling of the above exception, another exception occurred:\n",
      "\n",
      "Traceback (most recent call last):\n",
      "  File \"/data/software/anaconda3/envs/bfx-codon/lib/python3.7/site-packages/IPython/core/interactiveshell.py\", line 2061, in showtraceback\n",
      "    stb = value._render_traceback_()\n",
      "AttributeError: 'ValueError' object has no attribute '_render_traceback_'\n",
      "\n",
      "During handling of the above exception, another exception occurred:\n",
      "\n",
      "Traceback (most recent call last):\n",
      "  File \"/data/software/anaconda3/envs/bfx-codon/lib/python3.7/site-packages/IPython/core/ultratb.py\", line 1101, in get_records\n",
      "    return _fixed_getinnerframes(etb, number_of_lines_of_context, tb_offset)\n",
      "  File \"/data/software/anaconda3/envs/bfx-codon/lib/python3.7/site-packages/IPython/core/ultratb.py\", line 248, in wrapped\n",
      "    return f(*args, **kwargs)\n",
      "  File \"/data/software/anaconda3/envs/bfx-codon/lib/python3.7/site-packages/IPython/core/ultratb.py\", line 281, in _fixed_getinnerframes\n",
      "    records = fix_frame_records_filenames(inspect.getinnerframes(etb, context))\n",
      "  File \"/data/software/anaconda3/envs/bfx-codon/lib/python3.7/inspect.py\", line 1502, in getinnerframes\n",
      "    frameinfo = (tb.tb_frame,) + getframeinfo(tb, context)\n",
      "  File \"/data/software/anaconda3/envs/bfx-codon/lib/python3.7/inspect.py\", line 1460, in getframeinfo\n",
      "    filename = getsourcefile(frame) or getfile(frame)\n",
      "  File \"/data/software/anaconda3/envs/bfx-codon/lib/python3.7/inspect.py\", line 696, in getsourcefile\n",
      "    if getattr(getmodule(object, filename), '__loader__', None) is not None:\n",
      "  File \"/data/software/anaconda3/envs/bfx-codon/lib/python3.7/inspect.py\", line 733, in getmodule\n",
      "    if ismodule(module) and hasattr(module, '__file__'):\n",
      "  File \"/data/software/anaconda3/envs/bfx-codon/lib/python3.7/site-packages/tensorflow/__init__.py\", line 50, in __getattr__\n",
      "    module = self._load()\n",
      "  File \"/data/software/anaconda3/envs/bfx-codon/lib/python3.7/site-packages/tensorflow/__init__.py\", line 44, in _load\n",
      "    module = _importlib.import_module(self.__name__)\n",
      "  File \"/data/software/anaconda3/envs/bfx-codon/lib/python3.7/importlib/__init__.py\", line 127, in import_module\n",
      "    return _bootstrap._gcd_import(name[level:], package, level)\n",
      "  File \"<frozen importlib._bootstrap>\", line 1006, in _gcd_import\n",
      "  File \"<frozen importlib._bootstrap>\", line 983, in _find_and_load\n",
      "  File \"<frozen importlib._bootstrap>\", line 965, in _find_and_load_unlocked\n",
      "ModuleNotFoundError: No module named 'tensorflow_core.estimator'\n",
      "Traceback (most recent call last):\n",
      "  File \"/data/software/anaconda3/envs/bfx-codon/lib/python3.7/site-packages/IPython/core/interactiveshell.py\", line 3441, in run_code\n",
      "    exec(code_obj, self.user_global_ns, self.user_ns)\n",
      "  File \"/tmp/ipykernel_6289/666581552.py\", line 1, in <module>\n",
      "    data = pd.DataFrame(data={'Length':aa_lens,'AA_seq':aa_seqs})\n",
      "  File \"/data/software/anaconda3/envs/bfx-codon/lib/python3.7/site-packages/pandas/core/frame.py\", line 614, in __init__\n",
      "    mgr = dict_to_mgr(data, index, columns, dtype=dtype, copy=copy, typ=manager)\n",
      "  File \"/data/software/anaconda3/envs/bfx-codon/lib/python3.7/site-packages/pandas/core/internals/construction.py\", line 465, in dict_to_mgr\n",
      "    arrays, data_names, index, columns, dtype=dtype, typ=typ, consolidate=copy\n",
      "  File \"/data/software/anaconda3/envs/bfx-codon/lib/python3.7/site-packages/pandas/core/internals/construction.py\", line 119, in arrays_to_mgr\n",
      "    index = _extract_index(arrays)\n",
      "  File \"/data/software/anaconda3/envs/bfx-codon/lib/python3.7/site-packages/pandas/core/internals/construction.py\", line 635, in _extract_index\n",
      "    raise ValueError(\"All arrays must be of the same length\")\n",
      "ValueError: All arrays must be of the same length\n",
      "\n",
      "During handling of the above exception, another exception occurred:\n",
      "\n",
      "Traceback (most recent call last):\n",
      "  File \"/data/software/anaconda3/envs/bfx-codon/lib/python3.7/site-packages/IPython/core/interactiveshell.py\", line 2061, in showtraceback\n",
      "    stb = value._render_traceback_()\n",
      "AttributeError: 'ValueError' object has no attribute '_render_traceback_'\n",
      "\n",
      "During handling of the above exception, another exception occurred:\n",
      "\n",
      "Traceback (most recent call last):\n",
      "  File \"/data/software/anaconda3/envs/bfx-codon/lib/python3.7/site-packages/IPython/core/interactiveshell.py\", line 3361, in run_ast_nodes\n",
      "    if (await self.run_code(code, result,  async_=asy)):\n",
      "  File \"/data/software/anaconda3/envs/bfx-codon/lib/python3.7/site-packages/IPython/core/interactiveshell.py\", line 3458, in run_code\n",
      "    self.showtraceback(running_compiled_code=True)\n",
      "  File \"/data/software/anaconda3/envs/bfx-codon/lib/python3.7/site-packages/IPython/core/interactiveshell.py\", line 2064, in showtraceback\n",
      "    value, tb, tb_offset=tb_offset)\n",
      "  File \"/data/software/anaconda3/envs/bfx-codon/lib/python3.7/site-packages/IPython/core/ultratb.py\", line 1368, in structured_traceback\n",
      "    self, etype, value, tb, tb_offset, number_of_lines_of_context)\n",
      "  File \"/data/software/anaconda3/envs/bfx-codon/lib/python3.7/site-packages/IPython/core/ultratb.py\", line 1268, in structured_traceback\n",
      "    self, etype, value, tb, tb_offset, number_of_lines_of_context\n",
      "  File \"/data/software/anaconda3/envs/bfx-codon/lib/python3.7/site-packages/IPython/core/ultratb.py\", line 1125, in structured_traceback\n",
      "    tb_offset)\n",
      "  File \"/data/software/anaconda3/envs/bfx-codon/lib/python3.7/site-packages/IPython/core/ultratb.py\", line 1082, in format_exception_as_a_whole\n",
      "    last_unique, recursion_repeat = find_recursion(orig_etype, evalue, records)\n",
      "  File \"/data/software/anaconda3/envs/bfx-codon/lib/python3.7/site-packages/IPython/core/ultratb.py\", line 382, in find_recursion\n",
      "    return len(records), 0\n",
      "TypeError: object of type 'NoneType' has no len()\n",
      "\n",
      "During handling of the above exception, another exception occurred:\n",
      "\n",
      "Traceback (most recent call last):\n",
      "  File \"/data/software/anaconda3/envs/bfx-codon/lib/python3.7/site-packages/IPython/core/interactiveshell.py\", line 2061, in showtraceback\n",
      "    stb = value._render_traceback_()\n",
      "AttributeError: 'TypeError' object has no attribute '_render_traceback_'\n",
      "\n",
      "During handling of the above exception, another exception occurred:\n",
      "\n",
      "Traceback (most recent call last):\n",
      "  File \"/data/software/anaconda3/envs/bfx-codon/lib/python3.7/site-packages/IPython/core/ultratb.py\", line 1101, in get_records\n",
      "    return _fixed_getinnerframes(etb, number_of_lines_of_context, tb_offset)\n",
      "  File \"/data/software/anaconda3/envs/bfx-codon/lib/python3.7/site-packages/IPython/core/ultratb.py\", line 248, in wrapped\n",
      "    return f(*args, **kwargs)\n",
      "  File \"/data/software/anaconda3/envs/bfx-codon/lib/python3.7/site-packages/IPython/core/ultratb.py\", line 281, in _fixed_getinnerframes\n",
      "    records = fix_frame_records_filenames(inspect.getinnerframes(etb, context))\n",
      "  File \"/data/software/anaconda3/envs/bfx-codon/lib/python3.7/inspect.py\", line 1502, in getinnerframes\n",
      "    frameinfo = (tb.tb_frame,) + getframeinfo(tb, context)\n",
      "  File \"/data/software/anaconda3/envs/bfx-codon/lib/python3.7/inspect.py\", line 1460, in getframeinfo\n",
      "    filename = getsourcefile(frame) or getfile(frame)\n",
      "  File \"/data/software/anaconda3/envs/bfx-codon/lib/python3.7/inspect.py\", line 696, in getsourcefile\n",
      "    if getattr(getmodule(object, filename), '__loader__', None) is not None:\n"
     ]
    },
    {
     "name": "stderr",
     "output_type": "stream",
     "text": [
      "ERROR:root:Internal Python error in the inspect module.\n",
      "Below is the traceback from this internal error.\n",
      "\n"
     ]
    },
    {
     "name": "stdout",
     "output_type": "stream",
     "text": [
      "  File \"/data/software/anaconda3/envs/bfx-codon/lib/python3.7/inspect.py\", line 733, in getmodule\n",
      "    if ismodule(module) and hasattr(module, '__file__'):\n",
      "  File \"/data/software/anaconda3/envs/bfx-codon/lib/python3.7/site-packages/tensorflow/__init__.py\", line 50, in __getattr__\n",
      "    module = self._load()\n",
      "  File \"/data/software/anaconda3/envs/bfx-codon/lib/python3.7/site-packages/tensorflow/__init__.py\", line 44, in _load\n",
      "    module = _importlib.import_module(self.__name__)\n",
      "  File \"/data/software/anaconda3/envs/bfx-codon/lib/python3.7/importlib/__init__.py\", line 127, in import_module\n",
      "    return _bootstrap._gcd_import(name[level:], package, level)\n",
      "  File \"<frozen importlib._bootstrap>\", line 1006, in _gcd_import\n",
      "  File \"<frozen importlib._bootstrap>\", line 983, in _find_and_load\n",
      "  File \"<frozen importlib._bootstrap>\", line 965, in _find_and_load_unlocked\n",
      "ModuleNotFoundError: No module named 'tensorflow_core.estimator'\n",
      "ERROR! Session/line number was not unique in database. History logging moved to new session 2961\n",
      "Traceback (most recent call last):\n",
      "  File \"/data/software/anaconda3/envs/bfx-codon/lib/python3.7/site-packages/IPython/core/interactiveshell.py\", line 3441, in run_code\n",
      "    exec(code_obj, self.user_global_ns, self.user_ns)\n",
      "  File \"/tmp/ipykernel_6289/666581552.py\", line 1, in <module>\n",
      "    data = pd.DataFrame(data={'Length':aa_lens,'AA_seq':aa_seqs})\n",
      "  File \"/data/software/anaconda3/envs/bfx-codon/lib/python3.7/site-packages/pandas/core/frame.py\", line 614, in __init__\n",
      "    mgr = dict_to_mgr(data, index, columns, dtype=dtype, copy=copy, typ=manager)\n",
      "  File \"/data/software/anaconda3/envs/bfx-codon/lib/python3.7/site-packages/pandas/core/internals/construction.py\", line 465, in dict_to_mgr\n",
      "    arrays, data_names, index, columns, dtype=dtype, typ=typ, consolidate=copy\n",
      "  File \"/data/software/anaconda3/envs/bfx-codon/lib/python3.7/site-packages/pandas/core/internals/construction.py\", line 119, in arrays_to_mgr\n",
      "    index = _extract_index(arrays)\n",
      "  File \"/data/software/anaconda3/envs/bfx-codon/lib/python3.7/site-packages/pandas/core/internals/construction.py\", line 635, in _extract_index\n",
      "    raise ValueError(\"All arrays must be of the same length\")\n",
      "ValueError: All arrays must be of the same length\n",
      "\n",
      "During handling of the above exception, another exception occurred:\n",
      "\n",
      "Traceback (most recent call last):\n",
      "  File \"/data/software/anaconda3/envs/bfx-codon/lib/python3.7/site-packages/IPython/core/interactiveshell.py\", line 2061, in showtraceback\n",
      "    stb = value._render_traceback_()\n",
      "AttributeError: 'ValueError' object has no attribute '_render_traceback_'\n",
      "\n",
      "During handling of the above exception, another exception occurred:\n",
      "\n",
      "Traceback (most recent call last):\n",
      "  File \"/data/software/anaconda3/envs/bfx-codon/lib/python3.7/site-packages/IPython/core/interactiveshell.py\", line 3361, in run_ast_nodes\n",
      "    if (await self.run_code(code, result,  async_=asy)):\n",
      "  File \"/data/software/anaconda3/envs/bfx-codon/lib/python3.7/site-packages/IPython/core/interactiveshell.py\", line 3458, in run_code\n",
      "    self.showtraceback(running_compiled_code=True)\n",
      "  File \"/data/software/anaconda3/envs/bfx-codon/lib/python3.7/site-packages/IPython/core/interactiveshell.py\", line 2064, in showtraceback\n",
      "    value, tb, tb_offset=tb_offset)\n",
      "  File \"/data/software/anaconda3/envs/bfx-codon/lib/python3.7/site-packages/IPython/core/ultratb.py\", line 1368, in structured_traceback\n",
      "    self, etype, value, tb, tb_offset, number_of_lines_of_context)\n",
      "  File \"/data/software/anaconda3/envs/bfx-codon/lib/python3.7/site-packages/IPython/core/ultratb.py\", line 1268, in structured_traceback\n",
      "    self, etype, value, tb, tb_offset, number_of_lines_of_context\n",
      "  File \"/data/software/anaconda3/envs/bfx-codon/lib/python3.7/site-packages/IPython/core/ultratb.py\", line 1125, in structured_traceback\n",
      "    tb_offset)\n",
      "  File \"/data/software/anaconda3/envs/bfx-codon/lib/python3.7/site-packages/IPython/core/ultratb.py\", line 1082, in format_exception_as_a_whole\n",
      "    last_unique, recursion_repeat = find_recursion(orig_etype, evalue, records)\n",
      "  File \"/data/software/anaconda3/envs/bfx-codon/lib/python3.7/site-packages/IPython/core/ultratb.py\", line 382, in find_recursion\n",
      "    return len(records), 0\n",
      "TypeError: object of type 'NoneType' has no len()\n",
      "\n",
      "During handling of the above exception, another exception occurred:\n",
      "\n",
      "Traceback (most recent call last):\n",
      "  File \"/data/software/anaconda3/envs/bfx-codon/lib/python3.7/site-packages/IPython/core/interactiveshell.py\", line 2061, in showtraceback\n",
      "    stb = value._render_traceback_()\n",
      "AttributeError: 'TypeError' object has no attribute '_render_traceback_'\n",
      "\n",
      "During handling of the above exception, another exception occurred:\n",
      "\n",
      "Traceback (most recent call last):\n",
      "  File \"/data/software/anaconda3/envs/bfx-codon/lib/python3.7/site-packages/IPython/core/interactiveshell.py\", line 2944, in _run_cell\n",
      "    return runner(coro)\n",
      "  File \"/data/software/anaconda3/envs/bfx-codon/lib/python3.7/site-packages/IPython/core/async_helpers.py\", line 68, in _pseudo_sync_runner\n",
      "    coro.send(None)\n",
      "  File \"/data/software/anaconda3/envs/bfx-codon/lib/python3.7/site-packages/IPython/core/interactiveshell.py\", line 3170, in run_cell_async\n",
      "    interactivity=interactivity, compiler=compiler, result=result)\n",
      "  File \"/data/software/anaconda3/envs/bfx-codon/lib/python3.7/site-packages/IPython/core/interactiveshell.py\", line 3380, in run_ast_nodes\n",
      "    self.showtraceback()\n",
      "  File \"/data/software/anaconda3/envs/bfx-codon/lib/python3.7/site-packages/IPython/core/interactiveshell.py\", line 2064, in showtraceback\n",
      "    value, tb, tb_offset=tb_offset)\n",
      "  File \"/data/software/anaconda3/envs/bfx-codon/lib/python3.7/site-packages/IPython/core/ultratb.py\", line 1368, in structured_traceback\n",
      "    self, etype, value, tb, tb_offset, number_of_lines_of_context)\n",
      "  File \"/data/software/anaconda3/envs/bfx-codon/lib/python3.7/site-packages/IPython/core/ultratb.py\", line 1268, in structured_traceback\n",
      "    self, etype, value, tb, tb_offset, number_of_lines_of_context\n",
      "  File \"/data/software/anaconda3/envs/bfx-codon/lib/python3.7/site-packages/IPython/core/ultratb.py\", line 1143, in structured_traceback\n",
      "    chained_exceptions_tb_offset)\n",
      "  File \"/data/software/anaconda3/envs/bfx-codon/lib/python3.7/site-packages/IPython/core/ultratb.py\", line 1082, in format_exception_as_a_whole\n",
      "    last_unique, recursion_repeat = find_recursion(orig_etype, evalue, records)\n",
      "  File \"/data/software/anaconda3/envs/bfx-codon/lib/python3.7/site-packages/IPython/core/ultratb.py\", line 382, in find_recursion\n",
      "    return len(records), 0\n",
      "TypeError: object of type 'NoneType' has no len()\n",
      "\n",
      "During handling of the above exception, another exception occurred:\n",
      "\n",
      "Traceback (most recent call last):\n",
      "  File \"/data/software/anaconda3/envs/bfx-codon/lib/python3.7/site-packages/IPython/core/interactiveshell.py\", line 2061, in showtraceback\n",
      "    stb = value._render_traceback_()\n",
      "AttributeError: 'TypeError' object has no attribute '_render_traceback_'\n",
      "\n",
      "During handling of the above exception, another exception occurred:\n",
      "\n",
      "Traceback (most recent call last):\n",
      "  File \"/data/software/anaconda3/envs/bfx-codon/lib/python3.7/site-packages/IPython/core/ultratb.py\", line 1101, in get_records\n",
      "    return _fixed_getinnerframes(etb, number_of_lines_of_context, tb_offset)\n",
      "  File \"/data/software/anaconda3/envs/bfx-codon/lib/python3.7/site-packages/IPython/core/ultratb.py\", line 248, in wrapped\n",
      "    return f(*args, **kwargs)\n",
      "  File \"/data/software/anaconda3/envs/bfx-codon/lib/python3.7/site-packages/IPython/core/ultratb.py\", line 281, in _fixed_getinnerframes\n",
      "    records = fix_frame_records_filenames(inspect.getinnerframes(etb, context))\n",
      "  File \"/data/software/anaconda3/envs/bfx-codon/lib/python3.7/inspect.py\", line 1502, in getinnerframes\n",
      "    frameinfo = (tb.tb_frame,) + getframeinfo(tb, context)\n",
      "  File \"/data/software/anaconda3/envs/bfx-codon/lib/python3.7/inspect.py\", line 1460, in getframeinfo\n",
      "    filename = getsourcefile(frame) or getfile(frame)\n",
      "  File \"/data/software/anaconda3/envs/bfx-codon/lib/python3.7/inspect.py\", line 696, in getsourcefile\n",
      "    if getattr(getmodule(object, filename), '__loader__', None) is not None:\n",
      "  File \"/data/software/anaconda3/envs/bfx-codon/lib/python3.7/inspect.py\", line 733, in getmodule\n",
      "    if ismodule(module) and hasattr(module, '__file__'):\n",
      "  File \"/data/software/anaconda3/envs/bfx-codon/lib/python3.7/site-packages/tensorflow/__init__.py\", line 50, in __getattr__\n",
      "    module = self._load()\n",
      "  File \"/data/software/anaconda3/envs/bfx-codon/lib/python3.7/site-packages/tensorflow/__init__.py\", line 44, in _load\n",
      "    module = _importlib.import_module(self.__name__)\n",
      "  File \"/data/software/anaconda3/envs/bfx-codon/lib/python3.7/importlib/__init__.py\", line 127, in import_module\n",
      "    return _bootstrap._gcd_import(name[level:], package, level)\n",
      "  File \"<frozen importlib._bootstrap>\", line 1006, in _gcd_import\n",
      "  File \"<frozen importlib._bootstrap>\", line 983, in _find_and_load\n",
      "  File \"<frozen importlib._bootstrap>\", line 965, in _find_and_load_unlocked\n",
      "ModuleNotFoundError: No module named 'tensorflow_core.estimator'\n"
     ]
    }
   ],
   "source": [
    "data = pd.DataFrame(data={'Length':aa_lens,'AA_seq':aa_seqs})\n",
    "data['CAI'] = [get_cai(x,cai_weights) for x in nt_seqs]\n",
    "data['BAI'] = [get_bai(x,bai_weights) for x in nt_seqs]"
   ]
  },
  {
   "cell_type": "code",
   "execution_count": 112,
   "metadata": {},
   "outputs": [
    {
     "ename": "SyntaxError",
     "evalue": "invalid syntax (1323102206.py, line 2)",
     "output_type": "error",
     "traceback": [
      "\u001b[0;36m  File \u001b[0;32m\"/tmp/ipykernel_6289/1323102206.py\"\u001b[0;36m, line \u001b[0;32m2\u001b[0m\n\u001b[0;31m    data['CAI'] = data['NT_seq'].apply(lamda x: get_cai(x,cai_weights))\u001b[0m\n\u001b[0m                                             ^\u001b[0m\n\u001b[0;31mSyntaxError\u001b[0m\u001b[0;31m:\u001b[0m invalid syntax\n"
     ]
    }
   ],
   "source": [
    "# data = pd.DataFrame(data={'Length':aa_lens,'AA_seq':aa_seqs,'NT_seq':nt_seqs})\n",
    "# data['CAI'] = data['NT_seq'].apply(lamda x: get_cai(x,cai_weights))\n",
    "# data['BAI'] = data['NT_seq'].apply(lamda x: get_bai(x,bai_weights))"
   ]
  },
  {
   "cell_type": "code",
   "execution_count": null,
   "metadata": {},
   "outputs": [],
   "source": [
    "data"
   ]
  },
  {
   "cell_type": "code",
   "execution_count": null,
   "metadata": {},
   "outputs": [],
   "source": [
    "# data = pd.DataFrame(data={'Length':aa_lens,'AA_seq':aa_seqs,'NT_seq':nt_seqs,'CAI':cais,'BAI':bais})\n",
    "mean_df = data.groupby(['Length']).mean()"
   ]
  },
  {
   "cell_type": "code",
   "execution_count": null,
   "metadata": {},
   "outputs": [],
   "source": [
    "mean_df"
   ]
  },
  {
   "cell_type": "code",
   "execution_count": null,
   "metadata": {},
   "outputs": [],
   "source": [
    "sns.scatterplot(data=mean_df,x='Length',y='CAI')"
   ]
  },
  {
   "cell_type": "code",
   "execution_count": null,
   "metadata": {},
   "outputs": [
    {
     "name": "stdout",
     "output_type": "stream",
     "text": [
      "ERROR! Session/line number was not unique in database. History logging moved to new session 2959\n"
     ]
    }
   ],
   "source": [
    "sns.scatterplot(data=mean_df,x='Length',y='BAI')"
   ]
  },
  {
   "cell_type": "code",
   "execution_count": null,
   "metadata": {},
   "outputs": [],
   "source": []
  }
 ],
 "metadata": {
  "kernelspec": {
   "display_name": "Python (codon)",
   "language": "python",
   "name": "bfx-codon"
  },
  "language_info": {
   "codemirror_mode": {
    "name": "ipython",
    "version": 3
   },
   "file_extension": ".py",
   "mimetype": "text/x-python",
   "name": "python",
   "nbconvert_exporter": "python",
   "pygments_lexer": "ipython3",
   "version": "3.7.11"
  }
 },
 "nbformat": 4,
 "nbformat_minor": 4
}
