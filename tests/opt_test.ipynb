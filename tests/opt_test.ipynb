{
 "cells": [
  {
   "cell_type": "markdown",
   "metadata": {},
   "source": [
    "# Variables"
   ]
  },
  {
   "cell_type": "code",
   "execution_count": 1,
   "metadata": {},
   "outputs": [],
   "source": [
    "ga_input = '/grid/home/nbourgeois/data/test_proteins/pah/pah.pep.fas' #sequence pep.fas Input\n",
    "tissue = 'Liver' # Tissue type for CoCoPuts\n",
    "filename = 'bai_1'"
   ]
  },
  {
   "cell_type": "markdown",
   "metadata": {},
   "source": [
    "# Imports\n"
   ]
  },
  {
   "cell_type": "code",
   "execution_count": 2,
   "metadata": {},
   "outputs": [],
   "source": [
    "import os\n",
    "cwd = os.getcwd()\n",
    "\n",
    "## Import the code for codon opt\n",
    "import sys\n",
    "sys.path.insert(1, '/grid/home/nbourgeois/codonOpt')\n",
    "# from run_pygad import *\n",
    "from general_functions import *\n",
    "from dyn_prog import *"
   ]
  },
  {
   "cell_type": "markdown",
   "metadata": {},
   "source": [
    "## Metrics"
   ]
  },
  {
   "cell_type": "code",
   "execution_count": 3,
   "metadata": {},
   "outputs": [],
   "source": [
    "cai_on = False\n",
    "bai_on = True\n",
    "cpg_on = False\n",
    "pas_on = False # PolyA\n",
    "sps_on = False # Splicing\n"
   ]
  },
  {
   "cell_type": "markdown",
   "metadata": {},
   "source": [
    "# Data"
   ]
  },
  {
   "cell_type": "code",
   "execution_count": 4,
   "metadata": {},
   "outputs": [],
   "source": [
    "(keys, seqs) = readFasta(ga_input)\n",
    "if len(seqs) == 1:\n",
    "    aa_seq=str(seqs[0])"
   ]
  },
  {
   "cell_type": "markdown",
   "metadata": {},
   "source": [
    "# Genetic Algorithm"
   ]
  },
  {
   "cell_type": "code",
   "execution_count": 5,
   "metadata": {},
   "outputs": [],
   "source": [
    "aa_seq_short = 'MST'"
   ]
  },
  {
   "cell_type": "code",
   "execution_count": 22,
   "metadata": {},
   "outputs": [],
   "source": [
    "optimizer = Optimizer(aa_seq)\n"
   ]
  },
  {
   "cell_type": "code",
   "execution_count": 23,
   "metadata": {},
   "outputs": [],
   "source": [
    "optimized_seq = optimizer.optimize()"
   ]
  },
  {
   "cell_type": "code",
   "execution_count": 24,
   "metadata": {},
   "outputs": [
    {
     "data": {
      "text/plain": [
       "0.8920728745898466"
      ]
     },
     "execution_count": 24,
     "metadata": {},
     "output_type": "execute_result"
    }
   ],
   "source": [
    "get_bai(optimized_seq,optimizer.bai_weight_dict)"
   ]
  },
  {
   "cell_type": "code",
   "execution_count": 25,
   "metadata": {},
   "outputs": [
    {
     "data": {
      "text/plain": [
       "'ATGAGCACAGCCGTGCTGGAGAACCCTGGGCTGGGCAGGAAGCTGTCTGACTTTGGCCAGGAGACCTCCTACATCGAGGACAACTGCAACCAGAATGGAGCCATCTCCCTGATCTTCTCCCTGAAGGAGGAGGTGGGGGCCCTGGCCAAGGTGCTGCGCCTCTTCGAGGAGAATGATGTGAACCTGACCCACATCGAGAGCCGACCTTCCCGGCTGAAGAAGGATGAGTATGAATTCTTCACCCACCTGGACAAGAGGAGCCTGCCTGCCCTGACCAACATCATCAAGATCCTGCGCCACGACATCGGCGCCACCGTGCACGAGCTGAGCCGGGACAAGAAGAAGGACACCGTGCCCTGGTTTCCCAGGACCATCCAGGAGCTGGACCGCTTCGCCAACCAGATCCTGAGCTATGGTGCCGAGCTGGATGCTGACCACCCTGGCTTCAAGGACCCTGTGTACAGAGCCAGAAGGAAGCAGTTTGCTGACATTGCCTACAACTACCGCCATGGCCAGCCCATCCCCCGGGTGGAGTACATGGAGGAGGAGAAGAAGACCTGGGGCACCGTGTTCAAGACCCTGAAGAGCCTGTACAAGACCCACGCCTGCTATGAGTACAATCACATCTTCCCCCTGCTGGAGAAGTACTGTGGCTTCCATGAGGACAACATCCCCCAGCTGGAGGACGTGTCCCAGTTCCTGCAGACCTGCACTGGCTTCCGCCTGCGCCCTGTGGCTGGCCTGCTGAGCAGCCGGGACTTCCTGGGCGGCCTGGCCTTCCGAGTGTTCCACTGCACCCAGTACATCAGGCATGGCAGCAAGCCCATGTACACCCCAGAGCCAGACATCTGCCACGAGCTGCTGGGCCATGTGCCCCTGTTCTCTGACAGGAGCTTTGCCCAGTTCTCCCAGGAGATCGGCCTGGCCTCCCTGGGTGCCCCTGATGAGTACATCGAGAAGCTGGCCACCATCTACTGGTTCACCGTGGAGTTTGGCCTGTGCAAGCAGGGAGACTCCATCAAGGCCTATGGTGCCGGCCTGCTGAGCAGCTTTGGCGAGCTGCAGTACTGCCTGTCTGAGAAGCCCAAGCTGCTGCCCCTGGAGCTGGAGAAGACAGCCATCCAGAACTACACCGTGACCGAGTTCCAGCCCCTGTACTACGTGGCTGAGAGCTTCAATGATGCCAAGGAGAAGGTGCGGAACTTTGCTGCCACCATCCCCCGGCCCTTCTCTGTGCGCTACGACCCCTACACCCAGCGGATCGAGGTGCTGGACAACACCCAGCAGCTGAAGATCCTGGCTGACTCCATCAACAGCGAGATCGGCATCCTGTGCTCCGCCCTGCAGAAGATCAAG'"
      ]
     },
     "execution_count": 25,
     "metadata": {},
     "output_type": "execute_result"
    }
   ],
   "source": [
    "optimized_seq"
   ]
  }
 ],
 "metadata": {
  "kernelspec": {
   "display_name": "Python 3 (GPU)",
   "language": "python",
   "name": "bfx-gpu"
  },
  "language_info": {
   "codemirror_mode": {
    "name": "ipython",
    "version": 3
   },
   "file_extension": ".py",
   "mimetype": "text/x-python",
   "name": "python",
   "nbconvert_exporter": "python",
   "pygments_lexer": "ipython3",
   "version": "3.7.11"
  }
 },
 "nbformat": 4,
 "nbformat_minor": 4
}
