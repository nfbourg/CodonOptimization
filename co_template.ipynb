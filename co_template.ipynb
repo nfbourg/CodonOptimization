{
 "cells": [
  {
   "attachments": {},
   "cell_type": "markdown",
   "metadata": {
    "tags": []
   },
   "source": [
    "# Imports\n"
   ]
  },
  {
   "cell_type": "code",
   "execution_count": 1,
   "metadata": {},
   "outputs": [],
   "source": [
    "import os\n",
    "\n",
    "cwd = os.getcwd()\n",
    "\n",
    "import sys\n",
    "import time\n",
    "import multiprocessing as mp\n",
    "\n",
    "# Import the code for codon opt\n",
    "sys.path.insert(1, \"/grid/home/nbourgeois/codonOpt\")\n",
    "from optimizer import *\n",
    "from general_functions import *\n",
    "\n",
    "# for interfacing /w sge\n",
    "from dask.distributed import Client\n",
    "import dask\n",
    "\n",
    "import sys\n",
    "sys.setrecursionlimit(50000)\n"
   ]
  },
  {
   "cell_type": "code",
   "execution_count": 2,
   "metadata": {
    "tags": []
   },
   "outputs": [],
   "source": [
    "client = Client('tcp://IPADDRESS')"
   ]
  },
  {
   "attachments": {},
   "cell_type": "markdown",
   "metadata": {},
   "source": [
    "# Variables"
   ]
  },
  {
   "cell_type": "code",
   "execution_count": 5,
   "metadata": {},
   "outputs": [],
   "source": [
    "wdir = '/dummy/path'\n",
    "\n",
    "amino_acid_seq_locs =  os.path.join(wdir,\"aa_seq\" ) \n"
   ]
  },
  {
   "cell_type": "code",
   "execution_count": 6,
   "metadata": {},
   "outputs": [
    {
     "data": {
      "text/plain": [
       "['TNF-alpha.pep.fas',\n",
       " '.ipynb_checkpoints',\n",
       " 'vectors',\n",
       " 'final.fa',\n",
       " 'metrics.csv',\n",
       " 'selected_metrics.csv',\n",
       " 'selected_final.fa']"
      ]
     },
     "execution_count": 6,
     "metadata": {},
     "output_type": "execute_result"
    }
   ],
   "source": [
    "os.listdir(wdir)"
   ]
  },
  {
   "attachments": {},
   "cell_type": "markdown",
   "metadata": {},
   "source": [
    "# Data"
   ]
  },
  {
   "cell_type": "code",
   "execution_count": null,
   "metadata": {},
   "outputs": [],
   "source": [
    "# read amino acid sequence in from fasta\n",
    "(aa_keys, aa_seqs) = readFasta(amino_acid_seq_locs)\n",
    "aa_seqs  = [str(aa_seq) for aa_seq in aa_seqs]\n",
    "input_data = (aa_keys, aa_seqs)\n",
    "\n",
    "# set optimization tissue type\n",
    "tissues = 'Liver'"
   ]
  },
  {
   "cell_type": "code",
   "execution_count": 8,
   "metadata": {},
   "outputs": [],
   "source": [
    "def dask_wrapper(parameters):\n",
    "    # submit a job to dask \n",
    "    sys.setrecursionlimit(50000)\n",
    "    sys.path.insert(1, \"/grid/home/nbourgeois/codonOpt\")\n",
    "    import optimizer\n",
    "    import metrics\n",
    "\n",
    "    wdir = parameters['wdir']\n",
    "    del parameters['wdir']\n",
    "    \n",
    "    seqid = parameters['seqid']\n",
    "    del parameters['seqid']  \n",
    "    \n",
    "    # output name\n",
    "    otype = parameters['opt_type']\n",
    "    tissue = parameters['tissues']\n",
    "    aa_seq = parameters['aa_seq']\n",
    "    \n",
    "    # add optimization specific parameters to output name\n",
    "    if 'target'  in parameters.keys():\n",
    "        otype= otype + str(parameters['target'])\n",
    "    if 'target_range' in parameters.keys():\n",
    "        otype= otype + str(parameters['target_range'])\n",
    "    if 'depth' in parameters.keys():\n",
    "        otype= otype + '_d'+str(parameters['depth'])\n",
    "        \n",
    "    optimizer_obj = optimizer.Optimizer( **parameters)\n",
    "    \n",
    "    if 'depth' in parameters.keys():\n",
    "        optimizer_obj.depth=int(parameters['depth'])\n",
    "    seq = optimizer_obj.optimize()\n",
    "    cpg_perc = round(1 - metrics.get_cpg(seq),2)\n",
    "    \n",
    "    if 'cpg_thresh' in parameters.keys():\n",
    "        otype= 'cpg' + str(parameters['cpg_thresh']) + '_' + str(cpg_perc) + '_' + otype\n",
    "        \n",
    "    # write out optimization sequence\n",
    "    name = f'{seqid}_{otype}_bai'\n",
    "    print( f'{wdir}/vectors/{name}.fa')\n",
    "    with open(f'{wdir}/vectors/{name}.fa','w') as fileo:\n",
    "        fileo.write(f'>{name}\\n{seq}\\n')\n",
    "\n",
    "    # return optimization seq\n",
    "    return(seq)"
   ]
  },
  {
   "attachments": {},
   "cell_type": "markdown",
   "metadata": {},
   "source": [
    "## Optimize \n",
    "\n"
   ]
  },
  {
   "cell_type": "code",
   "execution_count": 10,
   "metadata": {},
   "outputs": [],
   "source": [
    "all_parameters = []\n",
    "\n",
    "\n",
    "for seq_id, aa_seq in zip(*input_data):\n",
    "    parameters = {\n",
    "        'seqid' : seq_id,\n",
    "        'wdir' : wdir,\n",
    "        'aa_seq'   :   aa_seq,\n",
    "        'opt_type' :   'max',\n",
    "        'cpg_thresh': 0,\n",
    "        'tissues'  :   tissues,\n",
    "    }\n",
    "    all_parameters.append(parameters)\n",
    "\n",
    "    # loop over several different parameters of interest for optimization\n",
    "    for depth in [5, 6, 7, 8, 9]:\n",
    "        for target in [.45,.5,.55,.6,.65,.7,.75, .8, .85,.9]:\n",
    "            parameters = {\n",
    "            'seqid' : seq_id,\n",
    "            'wdir' : wdir,\n",
    "                'aa_seq'   :   aa_seq,\n",
    "                \"opt_type\" : 'target', \n",
    "                \"depth\"  : depth,\n",
    "                'tissues'  :   tissues,\n",
    "                'cpg_thresh': 0,\n",
    "                \"target\"  : target\n",
    "            }\n",
    "            all_parameters.append(parameters)"
   ]
  },
  {
   "attachments": {},
   "cell_type": "markdown",
   "metadata": {},
   "source": [
    "# Run"
   ]
  },
  {
   "cell_type": "code",
   "execution_count": null,
   "metadata": {},
   "outputs": [],
   "source": [
    "# submit all optimizations\n",
    "jobs = client.map(dask_wrapper,all_parameters)\n",
    "results = client.gather(jobs)"
   ]
  }
 ],
 "metadata": {
  "kernelspec": {
   "display_name": "Python [conda env:.conda-codon-py3-10]",
   "language": "python",
   "name": "conda-env-.conda-codon-py3-10-py"
  },
  "language_info": {
   "codemirror_mode": {
    "name": "ipython",
    "version": 3
   },
   "file_extension": ".py",
   "mimetype": "text/x-python",
   "name": "python",
   "nbconvert_exporter": "python",
   "pygments_lexer": "ipython3",
   "version": "3.10.6"
  }
 },
 "nbformat": 4,
 "nbformat_minor": 4
}
